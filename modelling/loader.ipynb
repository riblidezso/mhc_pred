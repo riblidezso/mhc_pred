{
 "cells": [
  {
   "cell_type": "code",
   "execution_count": 1,
   "metadata": {
    "collapsed": true
   },
   "outputs": [],
   "source": [
    "import os\n",
    "\n",
    "work_dir='/mnt/Data1/ribli/mhc/'\n",
    "os.chdir(work_dir)"
   ]
  },
  {
   "cell_type": "code",
   "execution_count": 2,
   "metadata": {
    "collapsed": false
   },
   "outputs": [],
   "source": [
    "import time\n",
    "\n",
    "import numpy as np\n",
    "import pandas as pd\n",
    "\n",
    "from sklearn import preprocessing\n",
    "\n",
    "\n",
    "def load_data(hla_representation='simple',seq_representation='simple'):\n",
    "    start=time.time()\n",
    "    \n",
    "    #load train data\n",
    "    print 'Reading from file...'\n",
    "    dataf='benchmark_mhci_reliability/binding/bd2013.1/bdata.20130222.mhci.public.1.txt'\n",
    "    data=pd.read_csv(dataf,sep='\\t')\n",
    "    \n",
    "    #select only human and exact measurements (no >,<)\n",
    "    data=data[(data.species=='human') &(data.inequality=='=') ][['mhc','sequence','meas','peptide_length']]\n",
    "     \n",
    "    print 'Creating representation...'\n",
    "    #encode hla\n",
    "    x_hla=encode_hla(data.mhc.values,hla_representation)\n",
    "\n",
    "    #encode amino acids\n",
    "    x_seq=encode_seq(data.sequence.values,seq_representation)\n",
    "    \n",
    "    #stack columns together\n",
    "    x=np.column_stack([x_hla,x_seq,data.peptide_length.values])\n",
    "\n",
    "    #predict log10 value\n",
    "    y=np.log10(data.meas.values)\n",
    "\n",
    "    #permute arrays as they are ordered!!!\n",
    "    perm=np.random.permutation(len(x))\n",
    "    x,y=x[perm],y[perm]\n",
    "    \n",
    "    print 'Using ',len(x),'data points'\n",
    "    print 'Done, It took:',time.time()-start,'s'\n",
    "    return x,y\n",
    "\n",
    "def encode_hla(x_in,representation):\n",
    "    \"\"\"Encode string HLA type to numbers.\"\"\"\n",
    "    if representation=='simple':\n",
    "        le = preprocessing.LabelEncoder()\n",
    "        x_out=le.fit_transform( x_in )\n",
    "    elif representation=='one-hot':\n",
    "        lb = preprocessing.LabelBinarizer()\n",
    "        x_out=lb.fit_transform( x_in )\n",
    "    return x_out\n",
    "\n",
    "def encode_seq(x_in,representation):\n",
    "    \"\"\"Encode string amino acid sequences to numbers.\"\"\"\n",
    "    #make peptids 'equal' length\n",
    "    maxlen=np.max(map(len,x_in))\n",
    "    x_temp=np.array([list(x.zfill(maxlen)) for x in x_in])\n",
    "    \n",
    "    if representation=='simple':\n",
    "        le = preprocessing.LabelEncoder()\n",
    "        le.fit(x_temp.flatten())\n",
    "        x_out=np.column_stack([le.transform(x_temp[:,i]) for i in range(maxlen)])\n",
    "    elif representation=='one-hot':\n",
    "        lb = preprocessing.LabelBinarizer()\n",
    "        lb.fit(x_temp.flatten())\n",
    "        x_out=np.column_stack([lb.transform(x_temp[:,i]) for i in range(maxlen)])\n",
    "    elif representation=='blosum':\n",
    "        #read blosum matrix\n",
    "        blosum62 = pd.read_csv('BLOSUM62.txt',header=None,skiprows=7,delim_whitespace=True,index_col=0)\n",
    "        blosum_dict=blosum62.transpose().to_dict(orient='list')\n",
    "        blosum_dict['0']=blosum_dict['*']\n",
    "        #transform\n",
    "        x_out=np.column_stack([[blosum_dict[x_temp[i,j]] for i in xrange(len(x_in)) ] for j in range(maxlen)])\n",
    "\n",
    "    return x_out"
   ]
  },
  {
   "cell_type": "code",
   "execution_count": 3,
   "metadata": {
    "collapsed": false
   },
   "outputs": [
    {
     "name": "stdout",
     "output_type": "stream",
     "text": [
      "Reading from file...\n",
      "Creating representation...\n",
      "Using  83751 data points\n",
      "Done, It took: 0.685772895813 s\n"
     ]
    }
   ],
   "source": [
    "x,y=load_data(hla_representation='simple',seq_representation='simple')"
   ]
  },
  {
   "cell_type": "code",
   "execution_count": 4,
   "metadata": {
    "collapsed": false
   },
   "outputs": [
    {
     "name": "stdout",
     "output_type": "stream",
     "text": [
      "Reading from file...\n",
      "Creating representation...\n",
      "Using  83751 data points\n",
      "Done, It took: 1.92919301987 s\n"
     ]
    }
   ],
   "source": [
    "x,y=load_data(hla_representation='one-hot',seq_representation='one-hot')"
   ]
  },
  {
   "cell_type": "code",
   "execution_count": 5,
   "metadata": {
    "collapsed": false,
    "scrolled": false
   },
   "outputs": [
    {
     "name": "stdout",
     "output_type": "stream",
     "text": [
      "Reading from file...\n",
      "Creating representation...\n",
      "Using  83751 data points\n",
      "Done, It took: 3.44979310036 s\n"
     ]
    }
   ],
   "source": [
    "x,y=load_data(hla_representation='one-hot',seq_representation='blosum')"
   ]
  }
 ],
 "metadata": {
  "kernelspec": {
   "display_name": "Python 2",
   "language": "python",
   "name": "python2"
  },
  "language_info": {
   "codemirror_mode": {
    "name": "ipython",
    "version": 2
   },
   "file_extension": ".py",
   "mimetype": "text/x-python",
   "name": "python",
   "nbconvert_exporter": "python",
   "pygments_lexer": "ipython2",
   "version": "2.7.11"
  }
 },
 "nbformat": 4,
 "nbformat_minor": 0
}

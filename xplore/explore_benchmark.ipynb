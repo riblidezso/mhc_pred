{
 "cells": [
  {
   "cell_type": "code",
   "execution_count": 1,
   "metadata": {
    "collapsed": false
   },
   "outputs": [],
   "source": [
    "import os\n",
    "import subprocess\n",
    "import time\n",
    "\n",
    "import matplotlib\n",
    "import matplotlib.pyplot as plt\n",
    "import seaborn as sns\n",
    "%matplotlib inline\n",
    "\n",
    "import numpy as np\n",
    "import pandas as pd\n",
    "\n",
    "#go to working directory\n",
    "work_dir='/mnt/Data1/ribli/mhc/'\n",
    "subprocess.call(['mkdir',work_dir])\n",
    "os.chdir(work_dir)"
   ]
  },
  {
   "cell_type": "markdown",
   "metadata": {},
   "source": [
    "### Download data"
   ]
  },
  {
   "cell_type": "code",
   "execution_count": 2,
   "metadata": {
    "collapsed": true
   },
   "outputs": [],
   "source": [
    "%%bash\n",
    "#wget http://tools.iedb.org/static/main/benchmark_mhci_reliability.tar.gz\n",
    "#tar -xvf benchmark_mhci_reliability.tar.gz"
   ]
  },
  {
   "cell_type": "code",
   "execution_count": 3,
   "metadata": {
    "collapsed": false
   },
   "outputs": [
    {
     "name": "stdout",
     "output_type": "stream",
     "text": [
      "total 40K\n",
      "drwxr-xr-x 5 ribli users 4.0K Mar 11  2015 .\n",
      "drwxr-xr-x 3 ribli users 4.0K Apr 27 12:48 ..\n",
      "drwxr-x--- 5 ribli users 4.0K Mar 11  2015 binding\n",
      "-rwxr-x--- 1 ribli users 1.3K Mar 11  2015 description_files_at_iedbtools.txt\n",
      "drwxr-x--- 3 ribli users 4.0K Mar 11  2015 features\n",
      "-rwxr-x--- 1 ribli users  16K Mar 11  2015 FILE_S1.tar.gz\n",
      "drwxr-x--- 6 ribli users 4.0K Mar 11  2015 predictions\n"
     ]
    }
   ],
   "source": [
    "%%bash\n",
    "ls -hal benchmark_mhci_reliability"
   ]
  },
  {
   "cell_type": "code",
   "execution_count": 4,
   "metadata": {
    "collapsed": false
   },
   "outputs": [
    {
     "name": "stdout",
     "output_type": "stream",
     "text": [
      "total 24K\n",
      "drwxr-x--- 5 ribli users 4.0K Mar 11  2015 .\n",
      "drwxr-xr-x 5 ribli users 4.0K Mar 11  2015 ..\n",
      "drwxr-x--- 2 ribli users 4.0K Mar 11  2015 bd2009.1\n",
      "drwxr-x--- 2 ribli users 4.0K Mar 11  2015 bd2013.1\n",
      "drwxr-x--- 2 ribli users 4.0K Mar 11  2015 blind.1\n",
      "-rw-r--r-- 1 ribli users  442 Feb 13  2014 README.txt\n"
     ]
    }
   ],
   "source": [
    "%%bash\n",
    "ls -hal benchmark_mhci_reliability/binding/"
   ]
  },
  {
   "cell_type": "markdown",
   "metadata": {},
   "source": [
    "----\n",
    "## The 'train' data for the benchmark is 2009, and the 'blind' data is the newer ones"
   ]
  },
  {
   "cell_type": "code",
   "execution_count": 5,
   "metadata": {
    "collapsed": false
   },
   "outputs": [
    {
     "name": "stdout",
     "output_type": "stream",
     "text": [
      "total 23M\n",
      "drwxr-x--- 2 ribli users 4.0K Mar 11  2015 .\n",
      "drwxr-x--- 5 ribli users 4.0K Mar 11  2015 ..\n",
      "-rw-r--r-- 1 ribli users 5.6M May 29  2013 bdata.2009.mhci.public.1.cv_gs.txt\n",
      "-rw-r--r-- 1 ribli users 5.7M May 29  2013 bdata.2009.mhci.public.1.cv_rnd.txt\n",
      "-rw-r--r-- 1 ribli users 5.5M May 29  2013 bdata.2009.mhci.public.1.cv_sr.txt\n",
      "-rw-r--r-- 1 ribli users 6.0M May 29  2013 bdata.2009.mhci.public.1.txt\n",
      "-rwxr-xr-x 1 ribli users 5.0K May 29  2013 quick-check-cv-data.py\n",
      "-rw-r--r-- 1 ribli users 1.2K May 29  2013 README.txt\n"
     ]
    }
   ],
   "source": [
    "%%bash\n",
    "ls -hal benchmark_mhci_reliability/binding/bd2009.1/"
   ]
  },
  {
   "cell_type": "markdown",
   "metadata": {},
   "source": [
    "### Load it"
   ]
  },
  {
   "cell_type": "code",
   "execution_count": 6,
   "metadata": {
    "collapsed": false
   },
   "outputs": [
    {
     "data": {
      "text/html": [
       "<div>\n",
       "<table border=\"1\" class=\"dataframe\">\n",
       "  <thead>\n",
       "    <tr style=\"text-align: right;\">\n",
       "      <th></th>\n",
       "      <th>species</th>\n",
       "      <th>mhc</th>\n",
       "      <th>peptide_length</th>\n",
       "      <th>cv</th>\n",
       "      <th>sequence</th>\n",
       "      <th>inequality</th>\n",
       "      <th>meas</th>\n",
       "      <th>type</th>\n",
       "    </tr>\n",
       "  </thead>\n",
       "  <tbody>\n",
       "    <tr>\n",
       "      <th>0</th>\n",
       "      <td>None</td>\n",
       "      <td>ELA-A1</td>\n",
       "      <td>12</td>\n",
       "      <td>TBD</td>\n",
       "      <td>GSQKLTTGNCNW</td>\n",
       "      <td>=</td>\n",
       "      <td>605</td>\n",
       "      <td>train</td>\n",
       "    </tr>\n",
       "    <tr>\n",
       "      <th>1</th>\n",
       "      <td>None</td>\n",
       "      <td>ELA-A1</td>\n",
       "      <td>12</td>\n",
       "      <td>TBD</td>\n",
       "      <td>HVKDETNTTEYW</td>\n",
       "      <td>=</td>\n",
       "      <td>880</td>\n",
       "      <td>train</td>\n",
       "    </tr>\n",
       "    <tr>\n",
       "      <th>2</th>\n",
       "      <td>None</td>\n",
       "      <td>ELA-A1</td>\n",
       "      <td>12</td>\n",
       "      <td>TBD</td>\n",
       "      <td>LVEDVTNTAEYW</td>\n",
       "      <td>=</td>\n",
       "      <td>170</td>\n",
       "      <td>train</td>\n",
       "    </tr>\n",
       "    <tr>\n",
       "      <th>3</th>\n",
       "      <td>None</td>\n",
       "      <td>ELA-A1</td>\n",
       "      <td>12</td>\n",
       "      <td>TBD</td>\n",
       "      <td>RVEDKTNTAEYW</td>\n",
       "      <td>=</td>\n",
       "      <td>70</td>\n",
       "      <td>train</td>\n",
       "    </tr>\n",
       "    <tr>\n",
       "      <th>4</th>\n",
       "      <td>None</td>\n",
       "      <td>ELA-A1</td>\n",
       "      <td>12</td>\n",
       "      <td>TBD</td>\n",
       "      <td>RVEDVKNTAEYW</td>\n",
       "      <td>=</td>\n",
       "      <td>65</td>\n",
       "      <td>train</td>\n",
       "    </tr>\n",
       "  </tbody>\n",
       "</table>\n",
       "</div>"
      ],
      "text/plain": [
       "  species     mhc  peptide_length   cv      sequence inequality  meas   type\n",
       "0    None  ELA-A1              12  TBD  GSQKLTTGNCNW          =   605  train\n",
       "1    None  ELA-A1              12  TBD  HVKDETNTTEYW          =   880  train\n",
       "2    None  ELA-A1              12  TBD  LVEDVTNTAEYW          =   170  train\n",
       "3    None  ELA-A1              12  TBD  RVEDKTNTAEYW          =    70  train\n",
       "4    None  ELA-A1              12  TBD  RVEDVKNTAEYW          =    65  train"
      ]
     },
     "execution_count": 6,
     "metadata": {},
     "output_type": "execute_result"
    }
   ],
   "source": [
    "dataf='benchmark_mhci_reliability/binding/bd2009.1/bdata.2009.mhci.public.1.txt'\n",
    "t_data=pd.read_csv(dataf,sep='\\t')\n",
    "t_data['type']='train'\n",
    "t_data.head()"
   ]
  },
  {
   "cell_type": "code",
   "execution_count": 7,
   "metadata": {
    "collapsed": false
   },
   "outputs": [
    {
     "data": {
      "text/html": [
       "<div>\n",
       "<table border=\"1\" class=\"dataframe\">\n",
       "  <thead>\n",
       "    <tr style=\"text-align: right;\">\n",
       "      <th></th>\n",
       "      <th>species</th>\n",
       "      <th>mhc</th>\n",
       "      <th>peptide_length</th>\n",
       "      <th>cv</th>\n",
       "      <th>sequence</th>\n",
       "      <th>inequality</th>\n",
       "      <th>meas</th>\n",
       "      <th>type</th>\n",
       "    </tr>\n",
       "  </thead>\n",
       "  <tbody>\n",
       "    <tr>\n",
       "      <th>0</th>\n",
       "      <td>mouse</td>\n",
       "      <td>H-2-Db</td>\n",
       "      <td>8</td>\n",
       "      <td>TBD</td>\n",
       "      <td>AAFEFVYV</td>\n",
       "      <td>=</td>\n",
       "      <td>30819.222636</td>\n",
       "      <td>test</td>\n",
       "    </tr>\n",
       "    <tr>\n",
       "      <th>1</th>\n",
       "      <td>mouse</td>\n",
       "      <td>H-2-Db</td>\n",
       "      <td>8</td>\n",
       "      <td>TBD</td>\n",
       "      <td>AFFAFRYV</td>\n",
       "      <td>&gt;</td>\n",
       "      <td>88000.000000</td>\n",
       "      <td>test</td>\n",
       "    </tr>\n",
       "    <tr>\n",
       "      <th>2</th>\n",
       "      <td>mouse</td>\n",
       "      <td>H-2-Db</td>\n",
       "      <td>8</td>\n",
       "      <td>TBD</td>\n",
       "      <td>AGLLFVLL</td>\n",
       "      <td>&gt;</td>\n",
       "      <td>88000.000000</td>\n",
       "      <td>test</td>\n",
       "    </tr>\n",
       "    <tr>\n",
       "      <th>3</th>\n",
       "      <td>mouse</td>\n",
       "      <td>H-2-Db</td>\n",
       "      <td>8</td>\n",
       "      <td>TBD</td>\n",
       "      <td>AGLQVINL</td>\n",
       "      <td>=</td>\n",
       "      <td>59459.459459</td>\n",
       "      <td>test</td>\n",
       "    </tr>\n",
       "    <tr>\n",
       "      <th>4</th>\n",
       "      <td>mouse</td>\n",
       "      <td>H-2-Db</td>\n",
       "      <td>8</td>\n",
       "      <td>TBD</td>\n",
       "      <td>AHICYANL</td>\n",
       "      <td>=</td>\n",
       "      <td>67893.473983</td>\n",
       "      <td>test</td>\n",
       "    </tr>\n",
       "  </tbody>\n",
       "</table>\n",
       "</div>"
      ],
      "text/plain": [
       "  species     mhc  peptide_length   cv  sequence inequality          meas  \\\n",
       "0   mouse  H-2-Db               8  TBD  AAFEFVYV          =  30819.222636   \n",
       "1   mouse  H-2-Db               8  TBD  AFFAFRYV          >  88000.000000   \n",
       "2   mouse  H-2-Db               8  TBD  AGLLFVLL          >  88000.000000   \n",
       "3   mouse  H-2-Db               8  TBD  AGLQVINL          =  59459.459459   \n",
       "4   mouse  H-2-Db               8  TBD  AHICYANL          =  67893.473983   \n",
       "\n",
       "   type  \n",
       "0  test  \n",
       "1  test  \n",
       "2  test  \n",
       "3  test  \n",
       "4  test  "
      ]
     },
     "execution_count": 7,
     "metadata": {},
     "output_type": "execute_result"
    }
   ],
   "source": [
    "dataf='benchmark_mhci_reliability/binding/blind.1/bdata.2013.mhci.public.blind.1.txt'\n",
    "b_data=pd.read_csv(dataf,sep='\\t')\n",
    "b_data['type']='test'\n",
    "b_data.head()"
   ]
  },
  {
   "cell_type": "code",
   "execution_count": 8,
   "metadata": {
    "collapsed": true
   },
   "outputs": [],
   "source": [
    "data=pd.concat([t_data,b_data]).reset_index(drop=True)"
   ]
  },
  {
   "cell_type": "markdown",
   "metadata": {},
   "source": [
    "### Species ?"
   ]
  },
  {
   "cell_type": "code",
   "execution_count": 20,
   "metadata": {
    "collapsed": false
   },
   "outputs": [
    {
     "data": {
      "text/html": [
       "<div>\n",
       "<table border=\"1\" class=\"dataframe\">\n",
       "  <thead>\n",
       "    <tr style=\"text-align: right;\">\n",
       "      <th></th>\n",
       "      <th>type</th>\n",
       "      <th>species</th>\n",
       "      <th>meas</th>\n",
       "    </tr>\n",
       "  </thead>\n",
       "  <tbody>\n",
       "    <tr>\n",
       "      <th>0</th>\n",
       "      <td>test</td>\n",
       "      <td>human</td>\n",
       "      <td>25667</td>\n",
       "    </tr>\n",
       "    <tr>\n",
       "      <th>1</th>\n",
       "      <td>test</td>\n",
       "      <td>macaque</td>\n",
       "      <td>662</td>\n",
       "    </tr>\n",
       "    <tr>\n",
       "      <th>2</th>\n",
       "      <td>test</td>\n",
       "      <td>mouse</td>\n",
       "      <td>1351</td>\n",
       "    </tr>\n",
       "    <tr>\n",
       "      <th>3</th>\n",
       "      <td>train</td>\n",
       "      <td>None</td>\n",
       "      <td>14</td>\n",
       "    </tr>\n",
       "    <tr>\n",
       "      <th>4</th>\n",
       "      <td>train</td>\n",
       "      <td>chimpanzee</td>\n",
       "      <td>3374</td>\n",
       "    </tr>\n",
       "    <tr>\n",
       "      <th>5</th>\n",
       "      <td>train</td>\n",
       "      <td>gorilla</td>\n",
       "      <td>15</td>\n",
       "    </tr>\n",
       "    <tr>\n",
       "      <th>6</th>\n",
       "      <td>train</td>\n",
       "      <td>human</td>\n",
       "      <td>116625</td>\n",
       "    </tr>\n",
       "    <tr>\n",
       "      <th>7</th>\n",
       "      <td>train</td>\n",
       "      <td>macaque</td>\n",
       "      <td>9564</td>\n",
       "    </tr>\n",
       "    <tr>\n",
       "      <th>8</th>\n",
       "      <td>train</td>\n",
       "      <td>mouse</td>\n",
       "      <td>8062</td>\n",
       "    </tr>\n",
       "  </tbody>\n",
       "</table>\n",
       "</div>"
      ],
      "text/plain": [
       "    type     species    meas\n",
       "0   test       human   25667\n",
       "1   test     macaque     662\n",
       "2   test       mouse    1351\n",
       "3  train        None      14\n",
       "4  train  chimpanzee    3374\n",
       "5  train     gorilla      15\n",
       "6  train       human  116625\n",
       "7  train     macaque    9564\n",
       "8  train       mouse    8062"
      ]
     },
     "execution_count": 20,
     "metadata": {},
     "output_type": "execute_result"
    }
   ],
   "source": [
    "data.groupby(['type','species'],as_index=False).count()[['type','species','meas']]"
   ]
  },
  {
   "cell_type": "code",
   "execution_count": 13,
   "metadata": {
    "collapsed": false
   },
   "outputs": [
    {
     "data": {
      "image/png": "[encoded data removed]",
      "text/plain": [
       "<matplotlib.figure.Figure at 0x7f5bf83e4790>"
      ]
     },
     "metadata": {},
     "output_type": "display_data"
    }
   ],
   "source": [
    "sns.countplot(x='species',hue='type',data=data)\n",
    "plt.yscale('log')"
   ]
  },
  {
   "cell_type": "markdown",
   "metadata": {},
   "source": [
    "## No duplicates !!!"
   ]
  },
  {
   "cell_type": "code",
   "execution_count": 21,
   "metadata": {
    "collapsed": false
   },
   "outputs": [
    {
     "data": {
      "text/plain": [
       "0"
      ]
     },
     "execution_count": 21,
     "metadata": {},
     "output_type": "execute_result"
    }
   ],
   "source": [
    "np.sum(data[['species','mhc','sequence']].duplicated())"
   ]
  },
  {
   "cell_type": "markdown",
   "metadata": {},
   "source": [
    "### But peptides are measured with many different HLA types"
   ]
  },
  {
   "cell_type": "code",
   "execution_count": 22,
   "metadata": {
    "collapsed": false
   },
   "outputs": [
    {
     "data": {
      "text/plain": [
       "125425"
      ]
     },
     "execution_count": 22,
     "metadata": {},
     "output_type": "execute_result"
    }
   ],
   "source": [
    "np.sum(data.sequence.duplicated())"
   ]
  },
  {
   "cell_type": "markdown",
   "metadata": {},
   "source": [
    "### 30k unique peptids"
   ]
  },
  {
   "cell_type": "code",
   "execution_count": 23,
   "metadata": {
    "collapsed": false
   },
   "outputs": [
    {
     "data": {
      "text/plain": [
       "39909"
      ]
     },
     "execution_count": 23,
     "metadata": {},
     "output_type": "execute_result"
    }
   ],
   "source": [
    "len(data.groupby(['sequence']).count())"
   ]
  },
  {
   "cell_type": "markdown",
   "metadata": {},
   "source": [
    "### HLA types"
   ]
  },
  {
   "cell_type": "code",
   "execution_count": 29,
   "metadata": {
    "collapsed": false
   },
   "outputs": [
    {
     "data": {
      "text/html": [
       "<div>\n",
       "<table border=\"1\" class=\"dataframe\">\n",
       "  <thead>\n",
       "    <tr style=\"text-align: right;\">\n",
       "      <th></th>\n",
       "      <th>mhc</th>\n",
       "      <th>type</th>\n",
       "      <th>meas</th>\n",
       "    </tr>\n",
       "  </thead>\n",
       "  <tbody>\n",
       "    <tr>\n",
       "      <th>0</th>\n",
       "      <td>ELA-A1</td>\n",
       "      <td>train</td>\n",
       "      <td>14</td>\n",
       "    </tr>\n",
       "    <tr>\n",
       "      <th>1</th>\n",
       "      <td>Gogo-B-0101</td>\n",
       "      <td>train</td>\n",
       "      <td>15</td>\n",
       "    </tr>\n",
       "    <tr>\n",
       "      <th>2</th>\n",
       "      <td>H-2-Db</td>\n",
       "      <td>test</td>\n",
       "      <td>564</td>\n",
       "    </tr>\n",
       "    <tr>\n",
       "      <th>3</th>\n",
       "      <td>H-2-Db</td>\n",
       "      <td>train</td>\n",
       "      <td>3216</td>\n",
       "    </tr>\n",
       "    <tr>\n",
       "      <th>4</th>\n",
       "      <td>H-2-Dd</td>\n",
       "      <td>train</td>\n",
       "      <td>315</td>\n",
       "    </tr>\n",
       "    <tr>\n",
       "      <th>5</th>\n",
       "      <td>H-2-Kb</td>\n",
       "      <td>test</td>\n",
       "      <td>558</td>\n",
       "    </tr>\n",
       "    <tr>\n",
       "      <th>6</th>\n",
       "      <td>H-2-Kb</td>\n",
       "      <td>train</td>\n",
       "      <td>3407</td>\n",
       "    </tr>\n",
       "    <tr>\n",
       "      <th>7</th>\n",
       "      <td>H-2-Kd</td>\n",
       "      <td>test</td>\n",
       "      <td>229</td>\n",
       "    </tr>\n",
       "    <tr>\n",
       "      <th>8</th>\n",
       "      <td>H-2-Kd</td>\n",
       "      <td>train</td>\n",
       "      <td>452</td>\n",
       "    </tr>\n",
       "    <tr>\n",
       "      <th>9</th>\n",
       "      <td>H-2-Kk</td>\n",
       "      <td>train</td>\n",
       "      <td>371</td>\n",
       "    </tr>\n",
       "    <tr>\n",
       "      <th>10</th>\n",
       "      <td>H-2-Ld</td>\n",
       "      <td>train</td>\n",
       "      <td>301</td>\n",
       "    </tr>\n",
       "    <tr>\n",
       "      <th>11</th>\n",
       "      <td>HLA-A*01:01</td>\n",
       "      <td>test</td>\n",
       "      <td>696</td>\n",
       "    </tr>\n",
       "    <tr>\n",
       "      <th>12</th>\n",
       "      <td>HLA-A*02:01</td>\n",
       "      <td>test</td>\n",
       "      <td>2126</td>\n",
       "    </tr>\n",
       "    <tr>\n",
       "      <th>13</th>\n",
       "      <td>HLA-A*02:02</td>\n",
       "      <td>test</td>\n",
       "      <td>126</td>\n",
       "    </tr>\n",
       "    <tr>\n",
       "      <th>14</th>\n",
       "      <td>HLA-A*02:03</td>\n",
       "      <td>test</td>\n",
       "      <td>651</td>\n",
       "    </tr>\n",
       "    <tr>\n",
       "      <th>15</th>\n",
       "      <td>HLA-A*02:06</td>\n",
       "      <td>test</td>\n",
       "      <td>682</td>\n",
       "    </tr>\n",
       "    <tr>\n",
       "      <th>16</th>\n",
       "      <td>HLA-A*03:01</td>\n",
       "      <td>test</td>\n",
       "      <td>811</td>\n",
       "    </tr>\n",
       "    <tr>\n",
       "      <th>17</th>\n",
       "      <td>HLA-A*11:01</td>\n",
       "      <td>test</td>\n",
       "      <td>723</td>\n",
       "    </tr>\n",
       "    <tr>\n",
       "      <th>18</th>\n",
       "      <td>HLA-A*23:01</td>\n",
       "      <td>test</td>\n",
       "      <td>391</td>\n",
       "    </tr>\n",
       "    <tr>\n",
       "      <th>19</th>\n",
       "      <td>HLA-A*24:02</td>\n",
       "      <td>test</td>\n",
       "      <td>573</td>\n",
       "    </tr>\n",
       "    <tr>\n",
       "      <th>20</th>\n",
       "      <td>HLA-A*25:01</td>\n",
       "      <td>test</td>\n",
       "      <td>416</td>\n",
       "    </tr>\n",
       "    <tr>\n",
       "      <th>21</th>\n",
       "      <td>HLA-A*26:01</td>\n",
       "      <td>test</td>\n",
       "      <td>1333</td>\n",
       "    </tr>\n",
       "    <tr>\n",
       "      <th>22</th>\n",
       "      <td>HLA-A*26:02</td>\n",
       "      <td>test</td>\n",
       "      <td>413</td>\n",
       "    </tr>\n",
       "    <tr>\n",
       "      <th>23</th>\n",
       "      <td>HLA-A*26:03</td>\n",
       "      <td>test</td>\n",
       "      <td>312</td>\n",
       "    </tr>\n",
       "    <tr>\n",
       "      <th>24</th>\n",
       "      <td>HLA-A*29:02</td>\n",
       "      <td>test</td>\n",
       "      <td>118</td>\n",
       "    </tr>\n",
       "    <tr>\n",
       "      <th>25</th>\n",
       "      <td>HLA-A*30:01</td>\n",
       "      <td>test</td>\n",
       "      <td>660</td>\n",
       "    </tr>\n",
       "    <tr>\n",
       "      <th>26</th>\n",
       "      <td>HLA-A*30:02</td>\n",
       "      <td>test</td>\n",
       "      <td>420</td>\n",
       "    </tr>\n",
       "    <tr>\n",
       "      <th>27</th>\n",
       "      <td>HLA-A*31:01</td>\n",
       "      <td>test</td>\n",
       "      <td>724</td>\n",
       "    </tr>\n",
       "    <tr>\n",
       "      <th>28</th>\n",
       "      <td>HLA-A*32:01</td>\n",
       "      <td>test</td>\n",
       "      <td>449</td>\n",
       "    </tr>\n",
       "    <tr>\n",
       "      <th>29</th>\n",
       "      <td>HLA-A*33:01</td>\n",
       "      <td>test</td>\n",
       "      <td>473</td>\n",
       "    </tr>\n",
       "    <tr>\n",
       "      <th>...</th>\n",
       "      <td>...</td>\n",
       "      <td>...</td>\n",
       "      <td>...</td>\n",
       "    </tr>\n",
       "    <tr>\n",
       "      <th>129</th>\n",
       "      <td>HLA-B-5802</td>\n",
       "      <td>train</td>\n",
       "      <td>42</td>\n",
       "    </tr>\n",
       "    <tr>\n",
       "      <th>130</th>\n",
       "      <td>HLA-B-7301</td>\n",
       "      <td>train</td>\n",
       "      <td>115</td>\n",
       "    </tr>\n",
       "    <tr>\n",
       "      <th>131</th>\n",
       "      <td>HLA-B44</td>\n",
       "      <td>train</td>\n",
       "      <td>1</td>\n",
       "    </tr>\n",
       "    <tr>\n",
       "      <th>132</th>\n",
       "      <td>HLA-B7</td>\n",
       "      <td>train</td>\n",
       "      <td>64</td>\n",
       "    </tr>\n",
       "    <tr>\n",
       "      <th>133</th>\n",
       "      <td>HLA-E-0101</td>\n",
       "      <td>train</td>\n",
       "      <td>1</td>\n",
       "    </tr>\n",
       "    <tr>\n",
       "      <th>134</th>\n",
       "      <td>Mamu-A*01</td>\n",
       "      <td>test</td>\n",
       "      <td>274</td>\n",
       "    </tr>\n",
       "    <tr>\n",
       "      <th>135</th>\n",
       "      <td>Mamu-A*02</td>\n",
       "      <td>test</td>\n",
       "      <td>388</td>\n",
       "    </tr>\n",
       "    <tr>\n",
       "      <th>136</th>\n",
       "      <td>Mamu-A-01</td>\n",
       "      <td>train</td>\n",
       "      <td>2264</td>\n",
       "    </tr>\n",
       "    <tr>\n",
       "      <th>137</th>\n",
       "      <td>Mamu-A-02</td>\n",
       "      <td>train</td>\n",
       "      <td>938</td>\n",
       "    </tr>\n",
       "    <tr>\n",
       "      <th>138</th>\n",
       "      <td>Mamu-A-07</td>\n",
       "      <td>train</td>\n",
       "      <td>53</td>\n",
       "    </tr>\n",
       "    <tr>\n",
       "      <th>139</th>\n",
       "      <td>Mamu-A-11</td>\n",
       "      <td>train</td>\n",
       "      <td>1212</td>\n",
       "    </tr>\n",
       "    <tr>\n",
       "      <th>140</th>\n",
       "      <td>Mamu-A-2201</td>\n",
       "      <td>train</td>\n",
       "      <td>461</td>\n",
       "    </tr>\n",
       "    <tr>\n",
       "      <th>141</th>\n",
       "      <td>Mamu-A-2601</td>\n",
       "      <td>train</td>\n",
       "      <td>51</td>\n",
       "    </tr>\n",
       "    <tr>\n",
       "      <th>142</th>\n",
       "      <td>Mamu-B-01</td>\n",
       "      <td>train</td>\n",
       "      <td>828</td>\n",
       "    </tr>\n",
       "    <tr>\n",
       "      <th>143</th>\n",
       "      <td>Mamu-B-03</td>\n",
       "      <td>train</td>\n",
       "      <td>1087</td>\n",
       "    </tr>\n",
       "    <tr>\n",
       "      <th>144</th>\n",
       "      <td>Mamu-B-04</td>\n",
       "      <td>train</td>\n",
       "      <td>2</td>\n",
       "    </tr>\n",
       "    <tr>\n",
       "      <th>145</th>\n",
       "      <td>Mamu-B-08</td>\n",
       "      <td>train</td>\n",
       "      <td>1077</td>\n",
       "    </tr>\n",
       "    <tr>\n",
       "      <th>146</th>\n",
       "      <td>Mamu-B-17</td>\n",
       "      <td>train</td>\n",
       "      <td>1589</td>\n",
       "    </tr>\n",
       "    <tr>\n",
       "      <th>147</th>\n",
       "      <td>Mamu-B-52</td>\n",
       "      <td>train</td>\n",
       "      <td>2</td>\n",
       "    </tr>\n",
       "    <tr>\n",
       "      <th>148</th>\n",
       "      <td>Patr-A-0101</td>\n",
       "      <td>train</td>\n",
       "      <td>383</td>\n",
       "    </tr>\n",
       "    <tr>\n",
       "      <th>149</th>\n",
       "      <td>Patr-A-0301</td>\n",
       "      <td>train</td>\n",
       "      <td>321</td>\n",
       "    </tr>\n",
       "    <tr>\n",
       "      <th>150</th>\n",
       "      <td>Patr-A-0401</td>\n",
       "      <td>train</td>\n",
       "      <td>277</td>\n",
       "    </tr>\n",
       "    <tr>\n",
       "      <th>151</th>\n",
       "      <td>Patr-A-0602</td>\n",
       "      <td>train</td>\n",
       "      <td>1</td>\n",
       "    </tr>\n",
       "    <tr>\n",
       "      <th>152</th>\n",
       "      <td>Patr-A-0701</td>\n",
       "      <td>train</td>\n",
       "      <td>543</td>\n",
       "    </tr>\n",
       "    <tr>\n",
       "      <th>153</th>\n",
       "      <td>Patr-A-0901</td>\n",
       "      <td>train</td>\n",
       "      <td>605</td>\n",
       "    </tr>\n",
       "    <tr>\n",
       "      <th>154</th>\n",
       "      <td>Patr-B-0101</td>\n",
       "      <td>train</td>\n",
       "      <td>742</td>\n",
       "    </tr>\n",
       "    <tr>\n",
       "      <th>155</th>\n",
       "      <td>Patr-B-0901</td>\n",
       "      <td>train</td>\n",
       "      <td>1</td>\n",
       "    </tr>\n",
       "    <tr>\n",
       "      <th>156</th>\n",
       "      <td>Patr-B-1301</td>\n",
       "      <td>train</td>\n",
       "      <td>169</td>\n",
       "    </tr>\n",
       "    <tr>\n",
       "      <th>157</th>\n",
       "      <td>Patr-B-1701</td>\n",
       "      <td>train</td>\n",
       "      <td>8</td>\n",
       "    </tr>\n",
       "    <tr>\n",
       "      <th>158</th>\n",
       "      <td>Patr-B-2401</td>\n",
       "      <td>train</td>\n",
       "      <td>324</td>\n",
       "    </tr>\n",
       "  </tbody>\n",
       "</table>\n",
       "<p>159 rows × 3 columns</p>\n",
       "</div>"
      ],
      "text/plain": [
       "             mhc   type  meas\n",
       "0         ELA-A1  train    14\n",
       "1    Gogo-B-0101  train    15\n",
       "2         H-2-Db   test   564\n",
       "3         H-2-Db  train  3216\n",
       "4         H-2-Dd  train   315\n",
       "5         H-2-Kb   test   558\n",
       "6         H-2-Kb  train  3407\n",
       "7         H-2-Kd   test   229\n",
       "8         H-2-Kd  train   452\n",
       "9         H-2-Kk  train   371\n",
       "10        H-2-Ld  train   301\n",
       "11   HLA-A*01:01   test   696\n",
       "12   HLA-A*02:01   test  2126\n",
       "13   HLA-A*02:02   test   126\n",
       "14   HLA-A*02:03   test   651\n",
       "15   HLA-A*02:06   test   682\n",
       "16   HLA-A*03:01   test   811\n",
       "17   HLA-A*11:01   test   723\n",
       "18   HLA-A*23:01   test   391\n",
       "19   HLA-A*24:02   test   573\n",
       "20   HLA-A*25:01   test   416\n",
       "21   HLA-A*26:01   test  1333\n",
       "22   HLA-A*26:02   test   413\n",
       "23   HLA-A*26:03   test   312\n",
       "24   HLA-A*29:02   test   118\n",
       "25   HLA-A*30:01   test   660\n",
       "26   HLA-A*30:02   test   420\n",
       "27   HLA-A*31:01   test   724\n",
       "28   HLA-A*32:01   test   449\n",
       "29   HLA-A*33:01   test   473\n",
       "..           ...    ...   ...\n",
       "129   HLA-B-5802  train    42\n",
       "130   HLA-B-7301  train   115\n",
       "131      HLA-B44  train     1\n",
       "132       HLA-B7  train    64\n",
       "133   HLA-E-0101  train     1\n",
       "134    Mamu-A*01   test   274\n",
       "135    Mamu-A*02   test   388\n",
       "136    Mamu-A-01  train  2264\n",
       "137    Mamu-A-02  train   938\n",
       "138    Mamu-A-07  train    53\n",
       "139    Mamu-A-11  train  1212\n",
       "140  Mamu-A-2201  train   461\n",
       "141  Mamu-A-2601  train    51\n",
       "142    Mamu-B-01  train   828\n",
       "143    Mamu-B-03  train  1087\n",
       "144    Mamu-B-04  train     2\n",
       "145    Mamu-B-08  train  1077\n",
       "146    Mamu-B-17  train  1589\n",
       "147    Mamu-B-52  train     2\n",
       "148  Patr-A-0101  train   383\n",
       "149  Patr-A-0301  train   321\n",
       "150  Patr-A-0401  train   277\n",
       "151  Patr-A-0602  train     1\n",
       "152  Patr-A-0701  train   543\n",
       "153  Patr-A-0901  train   605\n",
       "154  Patr-B-0101  train   742\n",
       "155  Patr-B-0901  train     1\n",
       "156  Patr-B-1301  train   169\n",
       "157  Patr-B-1701  train     8\n",
       "158  Patr-B-2401  train   324\n",
       "\n",
       "[159 rows x 3 columns]"
      ]
     },
     "execution_count": 29,
     "metadata": {},
     "output_type": "execute_result"
    }
   ],
   "source": [
    "data.groupby(['mhc','type'],as_index=False).count()[['mhc','type','meas']]"
   ]
  },
  {
   "cell_type": "markdown",
   "metadata": {},
   "source": [
    "### HLA types were differently coded here ..."
   ]
  },
  {
   "cell_type": "code",
   "execution_count": 53,
   "metadata": {
    "collapsed": false
   },
   "outputs": [],
   "source": [
    "from  re import sub\n",
    "data['my_mhc']=[sub(':','',sub('\\*','-',hla_type))  for hla_type in data['mhc'].values]"
   ]
  },
  {
   "cell_type": "markdown",
   "metadata": {},
   "source": [
    "### No new hla types in test"
   ]
  },
  {
   "cell_type": "code",
   "execution_count": 54,
   "metadata": {
    "collapsed": false
   },
   "outputs": [
    {
     "data": {
      "image/png": "[encoded data removed]",
      "text/plain": [
       "<matplotlib.figure.Figure at 0x7f5bf28203d0>"
      ]
     },
     "metadata": {},
     "output_type": "display_data"
    }
   ],
   "source": [
    "plt.figure(figsize=(12,32))\n",
    "sns.countplot(y='my_mhc',hue='type',data=data)\n",
    "plt.xscale('log')"
   ]
  },
  {
   "cell_type": "markdown",
   "metadata": {},
   "source": [
    "### Peptide lengths"
   ]
  },
  {
   "cell_type": "code",
   "execution_count": 56,
   "metadata": {
    "collapsed": false
   },
   "outputs": [
    {
     "data": {
      "image/png": "[encoded data removed]",
      "text/plain": [
       "<matplotlib.figure.Figure at 0x7f5bf1c73590>"
      ]
     },
     "metadata": {},
     "output_type": "display_data"
    }
   ],
   "source": [
    "sns.countplot(x='peptide_length',hue='type',data=data)\n",
    "plt.yscale('log')"
   ]
  },
  {
   "cell_type": "markdown",
   "metadata": {},
   "source": [
    "### The measurement value"
   ]
  },
  {
   "cell_type": "code",
   "execution_count": 63,
   "metadata": {
    "collapsed": true
   },
   "outputs": [],
   "source": [
    "data['log_meas']=np.log10(data.meas)"
   ]
  },
  {
   "cell_type": "code",
   "execution_count": 67,
   "metadata": {
    "collapsed": false
   },
   "outputs": [
    {
     "data": {
      "image/png": "[encoded data removed]",
      "text/plain": [
       "<matplotlib.figure.Figure at 0x7f5bf1951a90>"
      ]
     },
     "metadata": {},
     "output_type": "display_data"
    }
   ],
   "source": [
    "sns.distplot(data[data['type']=='train']['log_meas'],kde=False,norm_hist=True)\n",
    "sns.distplot(data[data['type']=='test']['log_meas'],kde=False,norm_hist=True)\n",
    "plt.yscale('log')"
   ]
  },
  {
   "cell_type": "markdown",
   "metadata": {},
   "source": [
    "### cv, cross valdation: to be done :)"
   ]
  },
  {
   "cell_type": "code",
   "execution_count": 68,
   "metadata": {
    "collapsed": false
   },
   "outputs": [
    {
     "data": {
      "text/html": [
       "<div>\n",
       "<table border=\"1\" class=\"dataframe\">\n",
       "  <thead>\n",
       "    <tr style=\"text-align: right;\">\n",
       "      <th></th>\n",
       "      <th>cv</th>\n",
       "      <th>meas</th>\n",
       "    </tr>\n",
       "  </thead>\n",
       "  <tbody>\n",
       "    <tr>\n",
       "      <th>0</th>\n",
       "      <td>TBD</td>\n",
       "      <td>165334</td>\n",
       "    </tr>\n",
       "  </tbody>\n",
       "</table>\n",
       "</div>"
      ],
      "text/plain": [
       "    cv    meas\n",
       "0  TBD  165334"
      ]
     },
     "execution_count": 68,
     "metadata": {},
     "output_type": "execute_result"
    }
   ],
   "source": [
    "data.groupby('cv',as_index=False).count()[['cv','meas']]"
   ]
  },
  {
   "cell_type": "markdown",
   "metadata": {},
   "source": [
    "### Not just equality measurements"
   ]
  },
  {
   "cell_type": "code",
   "execution_count": 69,
   "metadata": {
    "collapsed": false
   },
   "outputs": [
    {
     "data": {
      "text/html": [
       "<div>\n",
       "<table border=\"1\" class=\"dataframe\">\n",
       "  <thead>\n",
       "    <tr style=\"text-align: right;\">\n",
       "      <th></th>\n",
       "      <th>inequality</th>\n",
       "      <th>meas</th>\n",
       "    </tr>\n",
       "  </thead>\n",
       "  <tbody>\n",
       "    <tr>\n",
       "      <th>0</th>\n",
       "      <td>&lt;</td>\n",
       "      <td>2007</td>\n",
       "    </tr>\n",
       "    <tr>\n",
       "      <th>1</th>\n",
       "      <td>=</td>\n",
       "      <td>95524</td>\n",
       "    </tr>\n",
       "    <tr>\n",
       "      <th>2</th>\n",
       "      <td>&gt;</td>\n",
       "      <td>67803</td>\n",
       "    </tr>\n",
       "  </tbody>\n",
       "</table>\n",
       "</div>"
      ],
      "text/plain": [
       "  inequality   meas\n",
       "0          <   2007\n",
       "1          =  95524\n",
       "2          >  67803"
      ]
     },
     "execution_count": 69,
     "metadata": {},
     "output_type": "execute_result"
    }
   ],
   "source": [
    "data.groupby('inequality',as_index=False).count()[['inequality','meas']]"
   ]
  }
 ],
 "metadata": {
  "kernelspec": {
   "display_name": "Python 2",
   "language": "python",
   "name": "python2"
  },
  "language_info": {
   "codemirror_mode": {
    "name": "ipython",
    "version": 2
   },
   "file_extension": ".py",
   "mimetype": "text/x-python",
   "name": "python",
   "nbconvert_exporter": "python",
   "pygments_lexer": "ipython2",
   "version": "2.7.11"
  }
 },
 "nbformat": 4,
 "nbformat_minor": 0
}

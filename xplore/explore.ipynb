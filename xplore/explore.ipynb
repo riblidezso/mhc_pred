{
 "cells": [
  {
   "cell_type": "code",
   "execution_count": 2,
   "metadata": {
    "collapsed": false
   },
   "outputs": [],
   "source": [
    "import os\n",
    "import subprocess\n",
    "import time\n",
    "\n",
    "import matplotlib\n",
    "import matplotlib.pyplot as plt\n",
    "plt.style.use('ggplot')\n",
    "%matplotlib inline\n",
    "\n",
    "import numpy as np\n",
    "import pandas as pd\n",
    "\n",
    "#go to working directory\n",
    "work_dir='/nagyvinyok/adat84/sotejedlik/ribli/mhc'\n",
    "subprocess.call(['mkdir',work_dir])\n",
    "os.chdir(work_dir)"
   ]
  },
  {
   "cell_type": "code",
   "execution_count": 5,
   "metadata": {
    "collapsed": true
   },
   "outputs": [],
   "source": [
    "%%bash\n",
    "#wget http://tools.iedb.org/static/main/benchmark_mhci_reliability.tar.gz\n",
    "#tar -xvf benchmark_mhci_reliability.tar.gz"
   ]
  },
  {
   "cell_type": "code",
   "execution_count": 27,
   "metadata": {
    "collapsed": false
   },
   "outputs": [
    {
     "name": "stdout",
     "output_type": "stream",
     "text": [
      "total 29K\n",
      "drwxr-xr-x 5 ribli ribli    7 Mar 11  2015 .\n",
      "drwxr-xr-x 3 ribli ribli    4 Apr 14 16:21 ..\n",
      "-rwxr-x--- 1 ribli ribli  16K Mar 11  2015 FILE_S1.tar.gz\n",
      "drwxr-x--- 5 ribli ribli    6 Mar 11  2015 binding\n",
      "-rwxr-x--- 1 ribli ribli 1.3K Mar 11  2015 description_files_at_iedbtools.txt\n",
      "drwxr-x--- 3 ribli ribli    4 Mar 11  2015 features\n",
      "drwxr-x--- 6 ribli ribli    7 Mar 11  2015 predictions\n"
     ]
    }
   ],
   "source": [
    "%%bash\n",
    "ls -hal benchmark_mhci_reliability"
   ]
  },
  {
   "cell_type": "code",
   "execution_count": 25,
   "metadata": {
    "collapsed": false
   },
   "outputs": [
    {
     "data": {
      "text/html": [
       "<div>\n",
       "<table border=\"1\" class=\"dataframe\">\n",
       "  <thead>\n",
       "    <tr style=\"text-align: right;\">\n",
       "      <th></th>\n",
       "      <th>species</th>\n",
       "      <th>mhc</th>\n",
       "      <th>peptide_length</th>\n",
       "      <th>cv</th>\n",
       "      <th>sequence</th>\n",
       "      <th>inequality</th>\n",
       "      <th>meas</th>\n",
       "    </tr>\n",
       "  </thead>\n",
       "  <tbody>\n",
       "    <tr>\n",
       "      <th>0</th>\n",
       "      <td>cow</td>\n",
       "      <td>BoLA-HD6</td>\n",
       "      <td>9</td>\n",
       "      <td>TBD</td>\n",
       "      <td>ALFYKDGKL</td>\n",
       "      <td>=</td>\n",
       "      <td>1.000000</td>\n",
       "    </tr>\n",
       "    <tr>\n",
       "      <th>1</th>\n",
       "      <td>cow</td>\n",
       "      <td>BoLA-HD6</td>\n",
       "      <td>9</td>\n",
       "      <td>TBD</td>\n",
       "      <td>ALYEKKLAL</td>\n",
       "      <td>=</td>\n",
       "      <td>1.000000</td>\n",
       "    </tr>\n",
       "    <tr>\n",
       "      <th>2</th>\n",
       "      <td>cow</td>\n",
       "      <td>BoLA-HD6</td>\n",
       "      <td>9</td>\n",
       "      <td>TBD</td>\n",
       "      <td>AMKDRFQPL</td>\n",
       "      <td>=</td>\n",
       "      <td>4.521706</td>\n",
       "    </tr>\n",
       "    <tr>\n",
       "      <th>3</th>\n",
       "      <td>cow</td>\n",
       "      <td>BoLA-HD6</td>\n",
       "      <td>9</td>\n",
       "      <td>TBD</td>\n",
       "      <td>AQRELFFTL</td>\n",
       "      <td>=</td>\n",
       "      <td>1.000000</td>\n",
       "    </tr>\n",
       "    <tr>\n",
       "      <th>4</th>\n",
       "      <td>cow</td>\n",
       "      <td>BoLA-HD6</td>\n",
       "      <td>9</td>\n",
       "      <td>TBD</td>\n",
       "      <td>FMKVKFEAL</td>\n",
       "      <td>=</td>\n",
       "      <td>1.576747</td>\n",
       "    </tr>\n",
       "  </tbody>\n",
       "</table>\n",
       "</div>"
      ],
      "text/plain": [
       "  species       mhc  peptide_length   cv   sequence inequality      meas\n",
       "0     cow  BoLA-HD6               9  TBD  ALFYKDGKL          =  1.000000\n",
       "1     cow  BoLA-HD6               9  TBD  ALYEKKLAL          =  1.000000\n",
       "2     cow  BoLA-HD6               9  TBD  AMKDRFQPL          =  4.521706\n",
       "3     cow  BoLA-HD6               9  TBD  AQRELFFTL          =  1.000000\n",
       "4     cow  BoLA-HD6               9  TBD  FMKVKFEAL          =  1.576747"
      ]
     },
     "execution_count": 25,
     "metadata": {},
     "output_type": "execute_result"
    }
   ],
   "source": [
    "dataf='benchmark_mhci_reliability/binding/bd2013.1/bdata.20130222.mhci.public.1.txt'\n",
    "data=pd.read_csv(dataf,sep='\\t')\n",
    "data.head()"
   ]
  },
  {
   "cell_type": "code",
   "execution_count": 104,
   "metadata": {
    "collapsed": false
   },
   "outputs": [
    {
     "data": {
      "text/html": [
       "<div>\n",
       "<table border=\"1\" class=\"dataframe\">\n",
       "  <thead>\n",
       "    <tr style=\"text-align: right;\">\n",
       "      <th></th>\n",
       "      <th>species</th>\n",
       "      <th>meas</th>\n",
       "    </tr>\n",
       "  </thead>\n",
       "  <tbody>\n",
       "    <tr>\n",
       "      <th>0</th>\n",
       "      <td>None</td>\n",
       "      <td>160</td>\n",
       "    </tr>\n",
       "    <tr>\n",
       "      <th>1</th>\n",
       "      <td>chimpanzee</td>\n",
       "      <td>3712</td>\n",
       "    </tr>\n",
       "    <tr>\n",
       "      <th>2</th>\n",
       "      <td>cow</td>\n",
       "      <td>57</td>\n",
       "    </tr>\n",
       "    <tr>\n",
       "      <th>3</th>\n",
       "      <td>gorilla</td>\n",
       "      <td>15</td>\n",
       "    </tr>\n",
       "    <tr>\n",
       "      <th>4</th>\n",
       "      <td>human</td>\n",
       "      <td>151933</td>\n",
       "    </tr>\n",
       "    <tr>\n",
       "      <th>5</th>\n",
       "      <td>macaque</td>\n",
       "      <td>14028</td>\n",
       "    </tr>\n",
       "    <tr>\n",
       "      <th>6</th>\n",
       "      <td>mouse</td>\n",
       "      <td>9787</td>\n",
       "    </tr>\n",
       "  </tbody>\n",
       "</table>\n",
       "</div>"
      ],
      "text/plain": [
       "      species    meas\n",
       "0        None     160\n",
       "1  chimpanzee    3712\n",
       "2         cow      57\n",
       "3     gorilla      15\n",
       "4       human  151933\n",
       "5     macaque   14028\n",
       "6       mouse    9787"
      ]
     },
     "execution_count": 104,
     "metadata": {},
     "output_type": "execute_result"
    }
   ],
   "source": [
    "data.groupby('species',as_index=False).count()[['species','meas']]"
   ]
  },
  {
   "cell_type": "code",
   "execution_count": 30,
   "metadata": {
    "collapsed": true
   },
   "outputs": [],
   "source": [
    "hum_data=data[data.species=='human']"
   ]
  },
  {
   "cell_type": "code",
   "execution_count": 100,
   "metadata": {
    "collapsed": false
   },
   "outputs": [
    {
     "data": {
      "text/html": [
       "<div>\n",
       "<table border=\"1\" class=\"dataframe\">\n",
       "  <thead>\n",
       "    <tr style=\"text-align: right;\">\n",
       "      <th></th>\n",
       "      <th>mhc</th>\n",
       "      <th>meas</th>\n",
       "    </tr>\n",
       "  </thead>\n",
       "  <tbody>\n",
       "    <tr>\n",
       "      <th>0</th>\n",
       "      <td>HLA-A*01:01</td>\n",
       "      <td>4558</td>\n",
       "    </tr>\n",
       "    <tr>\n",
       "      <th>1</th>\n",
       "      <td>HLA-A*02:01</td>\n",
       "      <td>11920</td>\n",
       "    </tr>\n",
       "    <tr>\n",
       "      <th>2</th>\n",
       "      <td>HLA-A*02:02</td>\n",
       "      <td>4155</td>\n",
       "    </tr>\n",
       "    <tr>\n",
       "      <th>3</th>\n",
       "      <td>HLA-A*02:03</td>\n",
       "      <td>6302</td>\n",
       "    </tr>\n",
       "    <tr>\n",
       "      <th>4</th>\n",
       "      <td>HLA-A*02:04</td>\n",
       "      <td>4</td>\n",
       "    </tr>\n",
       "  </tbody>\n",
       "</table>\n",
       "</div>"
      ],
      "text/plain": [
       "           mhc   meas\n",
       "0  HLA-A*01:01   4558\n",
       "1  HLA-A*02:01  11920\n",
       "2  HLA-A*02:02   4155\n",
       "3  HLA-A*02:03   6302\n",
       "4  HLA-A*02:04      4"
      ]
     },
     "execution_count": 100,
     "metadata": {},
     "output_type": "execute_result"
    }
   ],
   "source": [
    "hum_data.groupby('mhc',as_index=False).count()[['mhc','meas']].head()"
   ]
  },
  {
   "cell_type": "code",
   "execution_count": 98,
   "metadata": {
    "collapsed": false
   },
   "outputs": [
    {
     "data": {
      "text/plain": [
       "<Container object of 118 artists>"
      ]
     },
     "execution_count": 98,
     "metadata": {},
     "output_type": "execute_result"
    },
    {
     "data": {
      "image/png": "[encoded data removed]",
      "text/plain": [
       "<matplotlib.figure.Figure at 0x7f71aee75a90>"
      ]
     },
     "metadata": {},
     "output_type": "display_data"
    }
   ],
   "source": [
    "hla_type=hum_data.groupby('mhc',as_index=False).count()['mhc']\n",
    "hla_type_c=hum_data.groupby('mhc',as_index=False).count()['species']\n",
    "plt.bar(range(len(hla_type_c)),hla_type_c)"
   ]
  },
  {
   "cell_type": "code",
   "execution_count": 74,
   "metadata": {
    "collapsed": false
   },
   "outputs": [
    {
     "data": {
      "image/png": "[encoded data removed]",
      "text/plain": [
       "<matplotlib.figure.Figure at 0x7f71af242dd0>"
      ]
     },
     "metadata": {},
     "output_type": "display_data"
    }
   ],
   "source": [
    "dump=plt.hist(hum_data.peptide_length.values,bins=range(0,max(hum_data.peptide_length)),log=True)"
   ]
  },
  {
   "cell_type": "code",
   "execution_count": 62,
   "metadata": {
    "collapsed": false
   },
   "outputs": [
    {
     "data": {
      "image/png": "[encoded data removed]",
      "text/plain": [
       "<matplotlib.figure.Figure at 0x7f71b403b490>"
      ]
     },
     "metadata": {},
     "output_type": "display_data"
    }
   ],
   "source": [
    "dump=plt.hist(np.log10(hum_data.meas.values),bins=50,log=True)"
   ]
  },
  {
   "cell_type": "code",
   "execution_count": 109,
   "metadata": {
    "collapsed": false
   },
   "outputs": [
    {
     "data": {
      "text/html": [
       "<div>\n",
       "<table border=\"1\" class=\"dataframe\">\n",
       "  <thead>\n",
       "    <tr style=\"text-align: right;\">\n",
       "      <th></th>\n",
       "      <th>cv</th>\n",
       "      <th>meas</th>\n",
       "    </tr>\n",
       "  </thead>\n",
       "  <tbody>\n",
       "    <tr>\n",
       "      <th>0</th>\n",
       "      <td>TBD</td>\n",
       "      <td>151933</td>\n",
       "    </tr>\n",
       "  </tbody>\n",
       "</table>\n",
       "</div>"
      ],
      "text/plain": [
       "    cv    meas\n",
       "0  TBD  151933"
      ]
     },
     "execution_count": 109,
     "metadata": {},
     "output_type": "execute_result"
    }
   ],
   "source": [
    "hum_data.groupby('cv',as_index=False).count()[['cv','meas']]"
   ]
  },
  {
   "cell_type": "code",
   "execution_count": 110,
   "metadata": {
    "collapsed": false
   },
   "outputs": [
    {
     "data": {
      "text/html": [
       "<div>\n",
       "<table border=\"1\" class=\"dataframe\">\n",
       "  <thead>\n",
       "    <tr style=\"text-align: right;\">\n",
       "      <th></th>\n",
       "      <th>inequality</th>\n",
       "      <th>meas</th>\n",
       "    </tr>\n",
       "  </thead>\n",
       "  <tbody>\n",
       "    <tr>\n",
       "      <th>0</th>\n",
       "      <td>&lt;</td>\n",
       "      <td>1523</td>\n",
       "    </tr>\n",
       "    <tr>\n",
       "      <th>1</th>\n",
       "      <td>=</td>\n",
       "      <td>83751</td>\n",
       "    </tr>\n",
       "    <tr>\n",
       "      <th>2</th>\n",
       "      <td>&gt;</td>\n",
       "      <td>66659</td>\n",
       "    </tr>\n",
       "  </tbody>\n",
       "</table>\n",
       "</div>"
      ],
      "text/plain": [
       "  inequality   meas\n",
       "0          <   1523\n",
       "1          =  83751\n",
       "2          >  66659"
      ]
     },
     "execution_count": 110,
     "metadata": {},
     "output_type": "execute_result"
    }
   ],
   "source": [
    "hum_data.groupby('inequality',as_index=False).count()[['inequality','meas']]"
   ]
  },
  {
   "cell_type": "code",
   "execution_count": 115,
   "metadata": {
    "collapsed": false
   },
   "outputs": [
    {
     "data": {
      "image/png": "[encoded data removed]",
      "text/plain": [
       "<matplotlib.figure.Figure at 0x7f71aedab990>"
      ]
     },
     "metadata": {},
     "output_type": "display_data"
    }
   ],
   "source": [
    "dump=plt.hist(np.log10(hum_data[hum_data.inequality=='='].meas.values),bins=50,log=True)"
   ]
  },
  {
   "cell_type": "code",
   "execution_count": 116,
   "metadata": {
    "collapsed": false
   },
   "outputs": [
    {
     "data": {
      "image/png": "[encoded data removed]",
      "text/plain": [
       "<matplotlib.figure.Figure at 0x7f71af68c1d0>"
      ]
     },
     "metadata": {},
     "output_type": "display_data"
    }
   ],
   "source": [
    "dump=plt.hist(np.log10(hum_data[hum_data.inequality=='>'].meas.values),bins=50,log=True)"
   ]
  },
  {
   "cell_type": "code",
   "execution_count": 117,
   "metadata": {
    "collapsed": false
   },
   "outputs": [
    {
     "data": {
      "image/png": "[encoded data removed]",
      "text/plain": [
       "<matplotlib.figure.Figure at 0x7f71afae2d50>"
      ]
     },
     "metadata": {},
     "output_type": "display_data"
    }
   ],
   "source": [
    "dump=plt.hist(np.log10(hum_data[hum_data.inequality=='<'].meas.values),bins=50,log=True)"
   ]
  },
  {
   "cell_type": "markdown",
   "metadata": {},
   "source": [
    "---\n",
    "# Test"
   ]
  },
  {
   "cell_type": "code",
   "execution_count": 125,
   "metadata": {
    "collapsed": false
   },
   "outputs": [],
   "source": [
    "%%bash\n",
    "#wget http://tools.iedb.org/auto_bench/mhci/weekly/accumulated/2015-08-07/predictions\n",
    "cat  predictions  | awk '{if($4==9 && $5==\"ic50\") print}' > predictions_2015-08-07_L9_ic50.dat"
   ]
  },
  {
   "cell_type": "code",
   "execution_count": 126,
   "metadata": {
    "collapsed": false
   },
   "outputs": [
    {
     "data": {
      "text/html": [
       "<div>\n",
       "<table border=\"1\" class=\"dataframe\">\n",
       "  <thead>\n",
       "    <tr style=\"text-align: right;\">\n",
       "      <th></th>\n",
       "      <th>Date</th>\n",
       "      <th>IEDB reference</th>\n",
       "      <th>Allele</th>\n",
       "      <th>Peptide length</th>\n",
       "      <th>Measurement type</th>\n",
       "      <th>Peptide seq</th>\n",
       "      <th>Measurement value</th>\n",
       "      <th>NetMHCpan</th>\n",
       "      <th>SMM</th>\n",
       "      <th>ANN</th>\n",
       "      <th>ARB</th>\n",
       "      <th>SMMPMBEC</th>\n",
       "      <th>IEDB Consensus</th>\n",
       "      <th>NetMHCcons</th>\n",
       "      <th>PickPocket</th>\n",
       "    </tr>\n",
       "  </thead>\n",
       "  <tbody>\n",
       "    <tr>\n",
       "      <th>0</th>\n",
       "      <td>2015-07-17</td>\n",
       "      <td>1029061</td>\n",
       "      <td>HLA-B*57:01</td>\n",
       "      <td>9</td>\n",
       "      <td>ic50</td>\n",
       "      <td>VTTDIQVKV</td>\n",
       "      <td>2000</td>\n",
       "      <td>15662.29</td>\n",
       "      <td>9158.41</td>\n",
       "      <td>13178</td>\n",
       "      <td>10239.67</td>\n",
       "      <td>5937.59</td>\n",
       "      <td>10.0</td>\n",
       "      <td>14407.49</td>\n",
       "      <td>2607.06</td>\n",
       "    </tr>\n",
       "    <tr>\n",
       "      <th>1</th>\n",
       "      <td>2015-07-17</td>\n",
       "      <td>1029061</td>\n",
       "      <td>HLA-B*57:01</td>\n",
       "      <td>9</td>\n",
       "      <td>ic50</td>\n",
       "      <td>HSITYLLPV</td>\n",
       "      <td>700</td>\n",
       "      <td>4494.76</td>\n",
       "      <td>4839.72</td>\n",
       "      <td>7404</td>\n",
       "      <td>2815.61</td>\n",
       "      <td>4738.16</td>\n",
       "      <td>5.6</td>\n",
       "      <td>5743.49</td>\n",
       "      <td>1097.07</td>\n",
       "    </tr>\n",
       "    <tr>\n",
       "      <th>2</th>\n",
       "      <td>2015-07-17</td>\n",
       "      <td>1029061</td>\n",
       "      <td>HLA-B*57:01</td>\n",
       "      <td>9</td>\n",
       "      <td>ic50</td>\n",
       "      <td>RVAGIHKKV</td>\n",
       "      <td>70000</td>\n",
       "      <td>13537.58</td>\n",
       "      <td>6106.89</td>\n",
       "      <td>13780</td>\n",
       "      <td>20030.03</td>\n",
       "      <td>3869.10</td>\n",
       "      <td>8.35</td>\n",
       "      <td>13648.77</td>\n",
       "      <td>2904.96</td>\n",
       "    </tr>\n",
       "    <tr>\n",
       "      <th>3</th>\n",
       "      <td>2015-07-17</td>\n",
       "      <td>1029061</td>\n",
       "      <td>HLA-B*57:01</td>\n",
       "      <td>9</td>\n",
       "      <td>ic50</td>\n",
       "      <td>PYIACRTSI</td>\n",
       "      <td>10000</td>\n",
       "      <td>31999.43</td>\n",
       "      <td>169753.99</td>\n",
       "      <td>22048</td>\n",
       "      <td>49753.37</td>\n",
       "      <td>188195.83</td>\n",
       "      <td>44.5</td>\n",
       "      <td>26550.96</td>\n",
       "      <td>43911.91</td>\n",
       "    </tr>\n",
       "    <tr>\n",
       "      <th>4</th>\n",
       "      <td>2015-07-17</td>\n",
       "      <td>1029061</td>\n",
       "      <td>HLA-B*57:01</td>\n",
       "      <td>9</td>\n",
       "      <td>ic50</td>\n",
       "      <td>MYGLKGPDI</td>\n",
       "      <td>50000</td>\n",
       "      <td>34886.61</td>\n",
       "      <td>232712.65</td>\n",
       "      <td>19828</td>\n",
       "      <td>61728.04</td>\n",
       "      <td>340102.64</td>\n",
       "      <td>41.0</td>\n",
       "      <td>26407.71</td>\n",
       "      <td>26123.53</td>\n",
       "    </tr>\n",
       "  </tbody>\n",
       "</table>\n",
       "</div>"
      ],
      "text/plain": [
       "         Date  IEDB reference       Allele  Peptide length Measurement type  \\\n",
       "0  2015-07-17         1029061  HLA-B*57:01               9             ic50   \n",
       "1  2015-07-17         1029061  HLA-B*57:01               9             ic50   \n",
       "2  2015-07-17         1029061  HLA-B*57:01               9             ic50   \n",
       "3  2015-07-17         1029061  HLA-B*57:01               9             ic50   \n",
       "4  2015-07-17         1029061  HLA-B*57:01               9             ic50   \n",
       "\n",
       "  Peptide seq  Measurement value  NetMHCpan        SMM    ANN       ARB  \\\n",
       "0   VTTDIQVKV               2000   15662.29    9158.41  13178  10239.67   \n",
       "1   HSITYLLPV                700    4494.76    4839.72   7404   2815.61   \n",
       "2   RVAGIHKKV              70000   13537.58    6106.89  13780  20030.03   \n",
       "3   PYIACRTSI              10000   31999.43  169753.99  22048  49753.37   \n",
       "4   MYGLKGPDI              50000   34886.61  232712.65  19828  61728.04   \n",
       "\n",
       "    SMMPMBEC IEDB Consensus  NetMHCcons  PickPocket  \n",
       "0    5937.59           10.0    14407.49     2607.06  \n",
       "1    4738.16            5.6     5743.49     1097.07  \n",
       "2    3869.10           8.35    13648.77     2904.96  \n",
       "3  188195.83           44.5    26550.96    43911.91  \n",
       "4  340102.64           41.0    26407.71    26123.53  "
      ]
     },
     "execution_count": 126,
     "metadata": {},
     "output_type": "execute_result"
    }
   ],
   "source": [
    "test_2015_08_07_L9_ic50 = pd.read_csv('predictions_2015-08-07_L9_ic50.dat',\\\n",
    "    sep='\\t', names=['Date','IEDB reference','Allele','Peptide length','Measurement type',\\\n",
    "    'Peptide seq','Measurement value','NetMHCpan','SMM','ANN','ARB','SMMPMBEC','IEDB Consensus','NetMHCcons','PickPocket'])\n",
    "test_2015_08_07_L9_ic50.head()"
   ]
  },
  {
   "cell_type": "code",
   "execution_count": 131,
   "metadata": {
    "collapsed": false
   },
   "outputs": [
    {
     "data": {
      "text/html": [
       "<div>\n",
       "<table border=\"1\" class=\"dataframe\">\n",
       "  <thead>\n",
       "    <tr style=\"text-align: right;\">\n",
       "      <th></th>\n",
       "      <th>Allele</th>\n",
       "      <th>SMM</th>\n",
       "    </tr>\n",
       "  </thead>\n",
       "  <tbody>\n",
       "    <tr>\n",
       "      <th>0</th>\n",
       "      <td>H-2-Kb</td>\n",
       "      <td>10</td>\n",
       "    </tr>\n",
       "    <tr>\n",
       "      <th>1</th>\n",
       "      <td>HLA-A*02:01</td>\n",
       "      <td>55</td>\n",
       "    </tr>\n",
       "    <tr>\n",
       "      <th>2</th>\n",
       "      <td>HLA-A*02:02</td>\n",
       "      <td>55</td>\n",
       "    </tr>\n",
       "    <tr>\n",
       "      <th>3</th>\n",
       "      <td>HLA-A*02:03</td>\n",
       "      <td>55</td>\n",
       "    </tr>\n",
       "    <tr>\n",
       "      <th>4</th>\n",
       "      <td>HLA-A*02:06</td>\n",
       "      <td>55</td>\n",
       "    </tr>\n",
       "    <tr>\n",
       "      <th>5</th>\n",
       "      <td>HLA-A*68:02</td>\n",
       "      <td>55</td>\n",
       "    </tr>\n",
       "    <tr>\n",
       "      <th>6</th>\n",
       "      <td>HLA-B*57:01</td>\n",
       "      <td>26</td>\n",
       "    </tr>\n",
       "  </tbody>\n",
       "</table>\n",
       "</div>"
      ],
      "text/plain": [
       "        Allele  SMM\n",
       "0       H-2-Kb   10\n",
       "1  HLA-A*02:01   55\n",
       "2  HLA-A*02:02   55\n",
       "3  HLA-A*02:03   55\n",
       "4  HLA-A*02:06   55\n",
       "5  HLA-A*68:02   55\n",
       "6  HLA-B*57:01   26"
      ]
     },
     "execution_count": 131,
     "metadata": {},
     "output_type": "execute_result"
    }
   ],
   "source": [
    "test_2015_08_07_L9_ic50.groupby(['Allele'],as_index=False).count()[['Allele','SMM']]"
   ]
  },
  {
   "cell_type": "code",
   "execution_count": 133,
   "metadata": {
    "collapsed": false
   },
   "outputs": [
    {
     "data": {
      "text/plain": [
       "(array([ 13.,  12.,  40.,  46.,  40.,  33.,  36.,  23.,  30.,  38.]),\n",
       " array([-1.22184875, -0.61515407, -0.00845939,  0.59823529,  1.20492997,\n",
       "         1.81162465,  2.41831932,  3.025014  ,  3.63170868,  4.23840336,\n",
       "         4.84509804]),\n",
       " <a list of 10 Patch objects>)"
      ]
     },
     "execution_count": 133,
     "metadata": {},
     "output_type": "execute_result"
    },
    {
     "data": {
      "image/png": "[encoded data removed]",
      "text/plain": [
       "<matplotlib.figure.Figure at 0x7f71af00f510>"
      ]
     },
     "metadata": {},
     "output_type": "display_data"
    }
   ],
   "source": [
    "plt.hist(np.log10(test_2015_08_07_L9_ic50['Measurement value']))"
   ]
  }
 ],
 "metadata": {
  "kernelspec": {
   "display_name": "Python 2",
   "language": "python",
   "name": "python2"
  },
  "language_info": {
   "codemirror_mode": {
    "name": "ipython",
    "version": 2
   },
   "file_extension": ".py",
   "mimetype": "text/x-python",
   "name": "python",
   "nbconvert_exporter": "python",
   "pygments_lexer": "ipython2",
   "version": "2.7.9"
  }
 },
 "nbformat": 4,
 "nbformat_minor": 0
}

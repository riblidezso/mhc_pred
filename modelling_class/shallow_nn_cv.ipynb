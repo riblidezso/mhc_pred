{
 "cells": [
  {
   "cell_type": "markdown",
   "metadata": {},
   "source": [
    "# Binding classification with Neural network\n",
    "\n",
    "----\n",
    "\n",
    "- Cross validation using the all data\n",
    "\n",
    "- Using all observations (all species, </=/> values too)\n",
    "\n",
    "- simple one-hot encoding scheme for all categorical variables (species, hla type/subtypes,sequence)\n",
    "\n",
    "\n",
    "----\n",
    "\n",
    "\n",
    "Note: this is the result of a lucky seed, further evaluations are necessary.\n",
    "\n",
    "---"
   ]
  },
  {
   "cell_type": "code",
   "execution_count": 1,
   "metadata": {
    "collapsed": false
   },
   "outputs": [
    {
     "name": "stderr",
     "output_type": "stream",
     "text": [
      "Using Theano backend.\n",
      "Using gpu device 1: GeForce GTX 670 (CNMeM is enabled with initial size: 95.0% of memory, cuDNN 5004)\n"
     ]
    }
   ],
   "source": [
    "import os,sys\n",
    "os.environ['THEANO_FLAGS']='device=gpu1'\n",
    "\n",
    "#my functions\n",
    "sys.path.append('../')\n",
    "from utils import load_all_data,my_keras_cv_predict,plot_roc\n",
    "\n",
    "#go to working dir\n",
    "work_dir='/data/data1/ribli/mhc/'\n",
    "os.chdir(work_dir)\n",
    "\n",
    "%matplotlib inline"
   ]
  },
  {
   "cell_type": "markdown",
   "metadata": {},
   "source": [
    "### Load data"
   ]
  },
  {
   "cell_type": "code",
   "execution_count": 2,
   "metadata": {
    "collapsed": false
   },
   "outputs": [],
   "source": [
    "x,_,y_c=load_all_data(hla_representation='one-hot',\n",
    "                      species_representation='one-hot',\n",
    "                      seq_representation='one-hot')"
   ]
  },
  {
   "cell_type": "markdown",
   "metadata": {},
   "source": [
    "### Define the neural network and train it"
   ]
  },
  {
   "cell_type": "code",
   "execution_count": 3,
   "metadata": {
    "collapsed": false,
    "scrolled": false
   },
   "outputs": [
    {
     "name": "stdout",
     "output_type": "stream",
     "text": [
      "Train on 119040 samples, validate on 13227 samples\n",
      "Epoch 1/100\n",
      "Epoch 00000: val_loss improved from inf to 0.39023, saving model to best_model\n",
      "3s - loss: 0.4162 - val_loss: 0.3902\n",
      "Epoch 2/100\n",
      "Epoch 00001: val_loss improved from 0.39023 to 0.32843, saving model to best_model\n",
      "3s - loss: 0.3109 - val_loss: 0.3284\n",
      "Epoch 3/100\n",
      "Epoch 00002: val_loss did not improve\n",
      "3s - loss: 0.2753 - val_loss: 0.3354\n",
      "Epoch 4/100\n",
      "Epoch 00003: val_loss improved from 0.32843 to 0.32422, saving model to best_model\n",
      "3s - loss: 0.2501 - val_loss: 0.3242\n",
      "Epoch 5/100\n",
      "Epoch 00004: val_loss improved from 0.32422 to 0.32295, saving model to best_model\n",
      "3s - loss: 0.2289 - val_loss: 0.3230\n",
      "Epoch 6/100\n",
      "Epoch 00005: val_loss did not improve\n",
      "3s - loss: 0.2090 - val_loss: 0.3386\n",
      "Epoch 7/100\n",
      "Epoch 00006: val_loss did not improve\n",
      "3s - loss: 0.1908 - val_loss: 0.3571\n",
      "Epoch 8/100\n",
      "Epoch 00007: val_loss did not improve\n",
      "3s - loss: 0.1740 - val_loss: 0.3682\n",
      "Epoch 9/100\n",
      "Epoch 00008: val_loss did not improve\n",
      "Epoch 00008: early stopping\n",
      "3s - loss: 0.1581 - val_loss: 0.3838\n",
      "Train on 119040 samples, validate on 13227 samples\n",
      "Epoch 1/100\n",
      "Epoch 00000: val_loss improved from inf to 0.37707, saving model to best_model\n",
      "3s - loss: 0.4179 - val_loss: 0.3771\n",
      "Epoch 2/100\n",
      "Epoch 00001: val_loss improved from 0.37707 to 0.34211, saving model to best_model\n",
      "3s - loss: 0.3143 - val_loss: 0.3421\n",
      "Epoch 3/100\n",
      "Epoch 00002: val_loss improved from 0.34211 to 0.33246, saving model to best_model\n",
      "3s - loss: 0.2771 - val_loss: 0.3325\n",
      "Epoch 4/100\n",
      "Epoch 00003: val_loss improved from 0.33246 to 0.32876, saving model to best_model\n",
      "3s - loss: 0.2518 - val_loss: 0.3288\n",
      "Epoch 5/100\n",
      "Epoch 00004: val_loss improved from 0.32876 to 0.32428, saving model to best_model\n",
      "3s - loss: 0.2305 - val_loss: 0.3243\n",
      "Epoch 6/100\n",
      "Epoch 00005: val_loss did not improve\n",
      "3s - loss: 0.2106 - val_loss: 0.3456\n",
      "Epoch 7/100\n",
      "Epoch 00006: val_loss did not improve\n",
      "3s - loss: 0.1932 - val_loss: 0.3556\n",
      "Epoch 8/100\n",
      "Epoch 00007: val_loss did not improve\n",
      "3s - loss: 0.1760 - val_loss: 0.3679\n",
      "Epoch 9/100\n",
      "Epoch 00008: val_loss did not improve\n",
      "Epoch 00008: early stopping\n",
      "3s - loss: 0.1616 - val_loss: 0.3752\n",
      "Train on 119040 samples, validate on 13227 samples\n",
      "Epoch 1/100\n",
      "Epoch 00000: val_loss improved from inf to 0.38450, saving model to best_model\n",
      "3s - loss: 0.4151 - val_loss: 0.3845\n",
      "Epoch 2/100\n",
      "Epoch 00001: val_loss improved from 0.38450 to 0.34792, saving model to best_model\n",
      "3s - loss: 0.3126 - val_loss: 0.3479\n",
      "Epoch 3/100\n",
      "Epoch 00002: val_loss improved from 0.34792 to 0.33334, saving model to best_model\n",
      "3s - loss: 0.2757 - val_loss: 0.3333\n",
      "Epoch 4/100\n",
      "Epoch 00003: val_loss improved from 0.33334 to 0.32127, saving model to best_model\n",
      "3s - loss: 0.2502 - val_loss: 0.3213\n",
      "Epoch 5/100\n",
      "Epoch 00004: val_loss did not improve\n",
      "3s - loss: 0.2278 - val_loss: 0.3351\n",
      "Epoch 6/100\n",
      "Epoch 00005: val_loss did not improve\n",
      "3s - loss: 0.2079 - val_loss: 0.3391\n",
      "Epoch 7/100\n",
      "Epoch 00006: val_loss did not improve\n",
      "3s - loss: 0.1899 - val_loss: 0.3361\n",
      "Epoch 8/100\n",
      "Epoch 00007: val_loss did not improve\n",
      "Epoch 00007: early stopping\n",
      "3s - loss: 0.1730 - val_loss: 0.3577\n",
      "Train on 119040 samples, validate on 13227 samples\n",
      "Epoch 1/100\n",
      "Epoch 00000: val_loss improved from inf to 0.36982, saving model to best_model\n",
      "3s - loss: 0.4159 - val_loss: 0.3698\n",
      "Epoch 2/100\n",
      "Epoch 00001: val_loss improved from 0.36982 to 0.33455, saving model to best_model\n",
      "3s - loss: 0.3097 - val_loss: 0.3346\n",
      "Epoch 3/100\n",
      "Epoch 00002: val_loss improved from 0.33455 to 0.32608, saving model to best_model\n",
      "3s - loss: 0.2741 - val_loss: 0.3261\n",
      "Epoch 4/100\n",
      "Epoch 00003: val_loss did not improve\n",
      "3s - loss: 0.2488 - val_loss: 0.3418\n",
      "Epoch 5/100\n",
      "Epoch 00004: val_loss improved from 0.32608 to 0.32281, saving model to best_model\n",
      "3s - loss: 0.2271 - val_loss: 0.3228\n",
      "Epoch 6/100\n",
      "Epoch 00005: val_loss did not improve\n",
      "3s - loss: 0.2063 - val_loss: 0.3369\n",
      "Epoch 7/100\n",
      "Epoch 00006: val_loss did not improve\n",
      "3s - loss: 0.1890 - val_loss: 0.3426\n",
      "Epoch 8/100\n",
      "Epoch 00007: val_loss did not improve\n",
      "3s - loss: 0.1708 - val_loss: 0.3610\n",
      "Epoch 9/100\n",
      "Epoch 00008: val_loss did not improve\n",
      "Epoch 00008: early stopping\n",
      "3s - loss: 0.1563 - val_loss: 0.3682\n",
      "Train on 119041 samples, validate on 13227 samples\n",
      "Epoch 1/100\n",
      "Epoch 00000: val_loss improved from inf to 0.39883, saving model to best_model\n",
      "3s - loss: 0.4162 - val_loss: 0.3988\n",
      "Epoch 2/100\n",
      "Epoch 00001: val_loss improved from 0.39883 to 0.35698, saving model to best_model\n",
      "3s - loss: 0.3133 - val_loss: 0.3570\n",
      "Epoch 3/100\n",
      "Epoch 00002: val_loss improved from 0.35698 to 0.33198, saving model to best_model\n",
      "3s - loss: 0.2759 - val_loss: 0.3320\n",
      "Epoch 4/100\n",
      "Epoch 00003: val_loss did not improve\n",
      "3s - loss: 0.2513 - val_loss: 0.3396\n",
      "Epoch 5/100\n",
      "Epoch 00004: val_loss did not improve\n",
      "3s - loss: 0.2301 - val_loss: 0.3377\n",
      "Epoch 6/100\n",
      "Epoch 00005: val_loss did not improve\n",
      "3s - loss: 0.2104 - val_loss: 0.3683\n",
      "Epoch 7/100\n",
      "Epoch 00006: val_loss did not improve\n",
      "Epoch 00006: early stopping\n",
      "3s - loss: 0.1931 - val_loss: 0.3610\n"
     ]
    }
   ],
   "source": [
    "#create a very simple deepish model\n",
    "from keras.models import Sequential\n",
    "from keras.layers import Dense\n",
    "\n",
    "#create model creator\n",
    "def get_model(input_dim):\n",
    "    \"\"\"Creates Keras model needed.\"\"\"\n",
    "    model = Sequential()\n",
    "    model.add(Dense(512, input_dim=input_dim,activation='relu'))\n",
    "    model.add(Dense(1,activation='sigmoid'))\n",
    "    model.compile(loss='binary_crossentropy', optimizer='adam')\n",
    "    return model\n",
    "\n",
    "#train\n",
    "y_pred=my_keras_cv_predict(get_model,x,y_c,n_folds=5,patience=3,verbose=2)"
   ]
  },
  {
   "cell_type": "markdown",
   "metadata": {},
   "source": [
    "### Evaluate it "
   ]
  },
  {
   "cell_type": "code",
   "execution_count": 4,
   "metadata": {
    "collapsed": false
   },
   "outputs": [
    {
     "name": "stdout",
     "output_type": "stream",
     "text": [
      "AUC: 0.927521257436\n"
     ]
    },
    {
     "data": {
      "image/png": "[encoded data removed]",
      "text/plain": [
       "<matplotlib.figure.Figure at 0x7f96ca351d10>"
      ]
     },
     "metadata": {},
     "output_type": "display_data"
    }
   ],
   "source": [
    "plot_roc(y_c,y_pred)"
   ]
  }
 ],
 "metadata": {
  "kernelspec": {
   "display_name": "Python 2",
   "language": "python",
   "name": "python2"
  },
  "language_info": {
   "codemirror_mode": {
    "name": "ipython",
    "version": 2
   },
   "file_extension": ".py",
   "mimetype": "text/x-python",
   "name": "python",
   "nbconvert_exporter": "python",
   "pygments_lexer": "ipython2",
   "version": "2.7.11"
  }
 },
 "nbformat": 4,
 "nbformat_minor": 0
}

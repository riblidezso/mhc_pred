{
 "cells": [
  {
   "cell_type": "code",
   "execution_count": 1,
   "metadata": {
    "collapsed": false
   },
   "outputs": [
    {
     "name": "stderr",
     "output_type": "stream",
     "text": [
      "Using Theano backend.\n",
      "Using gpu device 0: GeForce GTX 670 (CNMeM is disabled, CuDNN 4007)\n",
      "/mnt/Data1/ribli/tools/anaconda/lib/python2.7/site-packages/theano/tensor/signal/downsample.py:5: UserWarning: downsample module has been moved to the pool module.\n",
      "  warnings.warn(\"downsample module has been moved to the pool module.\")\n"
     ]
    }
   ],
   "source": [
    "import os\n",
    "os.environ['THEANO_FLAGS']='device=gpu'\n",
    "\n",
    "import subprocess\n",
    "import time\n",
    "\n",
    "import matplotlib\n",
    "import matplotlib.pyplot as plt\n",
    "import seaborn as sns\n",
    "%matplotlib inline\n",
    "\n",
    "import numpy as np\n",
    "import pandas as pd\n",
    "\n",
    "#my functions\n",
    "from utils import load_data,my_keras_cv_predict,plot_roc\n",
    "\n",
    "#go to working directory\n",
    "work_dir='/mnt/Data1/ribli/mhc/'\n",
    "os.chdir(work_dir)"
   ]
  },
  {
   "cell_type": "code",
   "execution_count": 2,
   "metadata": {
    "collapsed": false
   },
   "outputs": [
    {
     "name": "stdout",
     "output_type": "stream",
     "text": [
      "Reading from file...\n",
      "Creating representation...\n",
      "Using  83751 data points\n",
      "Done, It took: 3.20845985413 s\n"
     ]
    }
   ],
   "source": [
    "x,y=load_data(hla_representation='one-hot',seq_representation='one-hot')"
   ]
  },
  {
   "cell_type": "code",
   "execution_count": 3,
   "metadata": {
    "collapsed": false,
    "scrolled": true
   },
   "outputs": [
    {
     "name": "stdout",
     "output_type": "stream",
     "text": [
      "Train on 60300 samples, validate on 6700 samples\n",
      "Epoch 1/100\n",
      "1s - loss: 0.6194 - val_loss: 0.5911\n",
      "Epoch 00000: val_loss improved from inf to 0.59114, saving model to best_model\n",
      "Epoch 2/100\n",
      "1s - loss: 0.5525 - val_loss: 0.5249\n",
      "Epoch 00001: val_loss improved from 0.59114 to 0.52486, saving model to best_model\n",
      "Epoch 3/100\n",
      "1s - loss: 0.4841 - val_loss: 0.4935\n",
      "Epoch 00002: val_loss improved from 0.52486 to 0.49346, saving model to best_model\n",
      "Epoch 4/100\n",
      "1s - loss: 0.4361 - val_loss: 0.4779\n",
      "Epoch 00003: val_loss improved from 0.49346 to 0.47787, saving model to best_model\n",
      "Epoch 5/100\n",
      "1s - loss: 0.4009 - val_loss: 0.4604\n",
      "Epoch 00004: val_loss improved from 0.47787 to 0.46043, saving model to best_model\n",
      "Epoch 6/100\n",
      "1s - loss: 0.3702 - val_loss: 0.4521\n",
      "Epoch 00005: val_loss improved from 0.46043 to 0.45211, saving model to best_model\n",
      "Epoch 7/100\n",
      "1s - loss: 0.3441 - val_loss: 0.4576\n",
      "Epoch 00006: val_loss did not improve\n",
      "Epoch 8/100\n",
      "1s - loss: 0.3194 - val_loss: 0.4601\n",
      "Epoch 00007: val_loss did not improve\n",
      "Epoch 9/100\n",
      "1s - loss: 0.2997 - val_loss: 0.4647\n",
      "Epoch 00008: val_loss did not improve\n",
      "Epoch 10/100\n",
      "1s - loss: 0.2793 - val_loss: 0.4634\n",
      "Epoch 00009: val_loss did not improve\n",
      "Epoch 00009: early stopping\n",
      "Train on 60300 samples, validate on 6701 samples\n",
      "Epoch 1/100\n",
      "1s - loss: 0.6194 - val_loss: 0.5843\n",
      "Epoch 00000: val_loss improved from inf to 0.58429, saving model to best_model\n",
      "Epoch 2/100\n",
      "1s - loss: 0.5534 - val_loss: 0.5442\n",
      "Epoch 00001: val_loss improved from 0.58429 to 0.54421, saving model to best_model\n",
      "Epoch 3/100\n",
      "1s - loss: 0.4865 - val_loss: 0.4965\n",
      "Epoch 00002: val_loss improved from 0.54421 to 0.49652, saving model to best_model\n",
      "Epoch 4/100\n",
      "1s - loss: 0.4383 - val_loss: 0.4740\n",
      "Epoch 00003: val_loss improved from 0.49652 to 0.47400, saving model to best_model\n",
      "Epoch 5/100\n",
      "1s - loss: 0.4038 - val_loss: 0.4695\n",
      "Epoch 00004: val_loss improved from 0.47400 to 0.46951, saving model to best_model\n",
      "Epoch 6/100\n",
      "1s - loss: 0.3739 - val_loss: 0.4629\n",
      "Epoch 00005: val_loss improved from 0.46951 to 0.46294, saving model to best_model\n",
      "Epoch 7/100\n",
      "1s - loss: 0.3469 - val_loss: 0.4533\n",
      "Epoch 00006: val_loss improved from 0.46294 to 0.45333, saving model to best_model\n",
      "Epoch 8/100\n",
      "1s - loss: 0.3239 - val_loss: 0.4809\n",
      "Epoch 00007: val_loss did not improve\n",
      "Epoch 9/100\n",
      "1s - loss: 0.3014 - val_loss: 0.4679\n",
      "Epoch 00008: val_loss did not improve\n",
      "Epoch 10/100\n",
      "1s - loss: 0.2818 - val_loss: 0.4642\n",
      "Epoch 00009: val_loss did not improve\n",
      "Epoch 11/100\n",
      "1s - loss: 0.2639 - val_loss: 0.4762\n",
      "Epoch 00010: val_loss did not improve\n",
      "Epoch 00010: early stopping\n",
      "Train on 60300 samples, validate on 6701 samples\n",
      "Epoch 1/100\n",
      "1s - loss: 0.6207 - val_loss: 0.5908\n",
      "Epoch 00000: val_loss improved from inf to 0.59081, saving model to best_model\n",
      "Epoch 2/100\n",
      "1s - loss: 0.5565 - val_loss: 0.5389\n",
      "Epoch 00001: val_loss improved from 0.59081 to 0.53888, saving model to best_model\n",
      "Epoch 3/100\n",
      "1s - loss: 0.4891 - val_loss: 0.4945\n",
      "Epoch 00002: val_loss improved from 0.53888 to 0.49454, saving model to best_model\n",
      "Epoch 4/100\n",
      "1s - loss: 0.4379 - val_loss: 0.4878\n",
      "Epoch 00003: val_loss improved from 0.49454 to 0.48777, saving model to best_model\n",
      "Epoch 5/100\n",
      "1s - loss: 0.4003 - val_loss: 0.4668\n",
      "Epoch 00004: val_loss improved from 0.48777 to 0.46676, saving model to best_model\n",
      "Epoch 6/100\n",
      "1s - loss: 0.3686 - val_loss: 0.4546\n",
      "Epoch 00005: val_loss improved from 0.46676 to 0.45462, saving model to best_model\n",
      "Epoch 7/100\n",
      "1s - loss: 0.3434 - val_loss: 0.4538\n",
      "Epoch 00006: val_loss improved from 0.45462 to 0.45376, saving model to best_model\n",
      "Epoch 8/100\n",
      "1s - loss: 0.3163 - val_loss: 0.4952\n",
      "Epoch 00007: val_loss did not improve\n",
      "Epoch 9/100\n",
      "1s - loss: 0.2969 - val_loss: 0.4668\n",
      "Epoch 00008: val_loss did not improve\n",
      "Epoch 10/100\n",
      "1s - loss: 0.2784 - val_loss: 0.4760\n",
      "Epoch 00009: val_loss did not improve\n",
      "Epoch 11/100\n",
      "1s - loss: 0.2591 - val_loss: 0.4731\n",
      "Epoch 00010: val_loss did not improve\n",
      "Epoch 00010: early stopping\n",
      "Train on 60300 samples, validate on 6701 samples\n",
      "Epoch 1/100\n",
      "1s - loss: 0.6177 - val_loss: 0.5821\n",
      "Epoch 00000: val_loss improved from inf to 0.58214, saving model to best_model\n",
      "Epoch 2/100\n",
      "1s - loss: 0.5495 - val_loss: 0.5253\n",
      "Epoch 00001: val_loss improved from 0.58214 to 0.52525, saving model to best_model\n",
      "Epoch 3/100\n",
      "1s - loss: 0.4807 - val_loss: 0.4879\n",
      "Epoch 00002: val_loss improved from 0.52525 to 0.48788, saving model to best_model\n",
      "Epoch 4/100\n",
      "1s - loss: 0.4341 - val_loss: 0.4657\n",
      "Epoch 00003: val_loss improved from 0.48788 to 0.46568, saving model to best_model\n",
      "Epoch 5/100\n",
      "1s - loss: 0.3960 - val_loss: 0.4591\n",
      "Epoch 00004: val_loss improved from 0.46568 to 0.45910, saving model to best_model\n",
      "Epoch 6/100\n",
      "1s - loss: 0.3670 - val_loss: 0.4520\n",
      "Epoch 00005: val_loss improved from 0.45910 to 0.45202, saving model to best_model\n",
      "Epoch 7/100\n",
      "1s - loss: 0.3391 - val_loss: 0.4608\n",
      "Epoch 00006: val_loss did not improve\n",
      "Epoch 8/100\n",
      "1s - loss: 0.3165 - val_loss: 0.4581\n",
      "Epoch 00007: val_loss did not improve\n",
      "Epoch 9/100\n",
      "1s - loss: 0.2958 - val_loss: 0.4564\n",
      "Epoch 00008: val_loss did not improve\n",
      "Epoch 10/100\n",
      "1s - loss: 0.2767 - val_loss: 0.4706\n",
      "Epoch 00009: val_loss did not improve\n",
      "Epoch 00009: early stopping\n",
      "Train on 60300 samples, validate on 6701 samples\n",
      "Epoch 1/100\n",
      "1s - loss: 0.6168 - val_loss: 0.5923\n",
      "Epoch 00000: val_loss improved from inf to 0.59234, saving model to best_model\n",
      "Epoch 2/100\n",
      "1s - loss: 0.5456 - val_loss: 0.5310\n",
      "Epoch 00001: val_loss improved from 0.59234 to 0.53099, saving model to best_model\n",
      "Epoch 3/100\n",
      "1s - loss: 0.4790 - val_loss: 0.4932\n",
      "Epoch 00002: val_loss improved from 0.53099 to 0.49320, saving model to best_model\n",
      "Epoch 4/100\n",
      "1s - loss: 0.4320 - val_loss: 0.4727\n",
      "Epoch 00003: val_loss improved from 0.49320 to 0.47268, saving model to best_model\n",
      "Epoch 5/100\n",
      "1s - loss: 0.3944 - val_loss: 0.4605\n",
      "Epoch 00004: val_loss improved from 0.47268 to 0.46048, saving model to best_model\n",
      "Epoch 6/100\n",
      "1s - loss: 0.3634 - val_loss: 0.4563\n",
      "Epoch 00005: val_loss improved from 0.46048 to 0.45630, saving model to best_model\n",
      "Epoch 7/100\n",
      "1s - loss: 0.3376 - val_loss: 0.4588\n",
      "Epoch 00006: val_loss did not improve\n",
      "Epoch 8/100\n",
      "1s - loss: 0.3139 - val_loss: 0.4599\n",
      "Epoch 00007: val_loss did not improve\n",
      "Epoch 9/100\n",
      "1s - loss: 0.2934 - val_loss: 0.4526\n",
      "Epoch 00008: val_loss improved from 0.45630 to 0.45261, saving model to best_model\n",
      "Epoch 10/100\n",
      "1s - loss: 0.2719 - val_loss: 0.4632\n",
      "Epoch 00009: val_loss did not improve\n",
      "Epoch 11/100\n",
      "1s - loss: 0.2555 - val_loss: 0.4893\n",
      "Epoch 00010: val_loss did not improve\n",
      "Epoch 12/100\n",
      "1s - loss: 0.2379 - val_loss: 0.4709\n",
      "Epoch 00011: val_loss did not improve\n",
      "Epoch 13/100\n",
      "1s - loss: 0.2206 - val_loss: 0.5032\n",
      "Epoch 00012: val_loss did not improve\n",
      "Epoch 00012: early stopping\n"
     ]
    }
   ],
   "source": [
    "#create a very simple deepish model\n",
    "from keras.models import Sequential\n",
    "from keras.layers import Dense\n",
    "\n",
    "#create model creator\n",
    "def get_model(input_dim):\n",
    "    \"\"\"Creates Keras model needed.\"\"\"\n",
    "    model = Sequential()\n",
    "    model.add(Dense(512, input_dim=input_dim,activation='relu'))\n",
    "    model.add(Dense(1,activation='sigmoid'))\n",
    "    model.compile(loss='binary_crossentropy', optimizer='adam')\n",
    "    return model\n",
    "\n",
    "#train\n",
    "y_pred=my_keras_cv_predict(get_model,x,y,n_folds=5,patience=3,verbose=2)"
   ]
  },
  {
   "cell_type": "code",
   "execution_count": 4,
   "metadata": {
    "collapsed": false
   },
   "outputs": [
    {
     "name": "stdout",
     "output_type": "stream",
     "text": [
      "AUC: 0.870482155324\n"
     ]
    },
    {
     "data": {
      "image/png": "[encoded data removed]",
      "text/plain": [
       "<matplotlib.figure.Figure at 0x7f844b2406d0>"
      ]
     },
     "metadata": {},
     "output_type": "display_data"
    }
   ],
   "source": [
    "plot_roc(y,y_pred)"
   ]
  }
 ],
 "metadata": {
  "kernelspec": {
   "display_name": "Python 2",
   "language": "python",
   "name": "python2"
  },
  "language_info": {
   "codemirror_mode": {
    "name": "ipython",
    "version": 2
   },
   "file_extension": ".py",
   "mimetype": "text/x-python",
   "name": "python",
   "nbconvert_exporter": "python",
   "pygments_lexer": "ipython2",
   "version": "2.7.11"
  }
 },
 "nbformat": 4,
 "nbformat_minor": 0
}

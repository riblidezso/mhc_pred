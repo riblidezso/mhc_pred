{
 "cells": [
  {
   "cell_type": "markdown",
   "metadata": {},
   "source": [
    "# Benchmarking binding classification with XGBoost and NN stacked\n",
    "\n",
    "\n",
    "----\n",
    "\n",
    "Stacking xgboost and NN predictions in a meta estimator.\n",
    "\n",
    "----\n",
    "\n",
    "- Cross validation using all data.\n",
    "\n",
    "- Using all observations (all species, </=/> values too)\n",
    "\n",
    "- simple one-hot encoding scheme for all categorical variables (species, hla type/subtypes,sequence)\n",
    "\n",
    "- This is the best i can do now\n",
    "\n",
    "\n",
    "----"
   ]
  },
  {
   "cell_type": "code",
   "execution_count": 1,
   "metadata": {
    "collapsed": false
   },
   "outputs": [
    {
     "name": "stderr",
     "output_type": "stream",
     "text": [
      "Using Theano backend.\n",
      "Using gpu device 1: GeForce GTX 670 (CNMeM is enabled with initial size: 95.0% of memory, cuDNN 5004)\n"
     ]
    }
   ],
   "source": [
    "import os,sys\n",
    "os.environ['THEANO_FLAGS']='device=gpu1'\n",
    "\n",
    "#my functions\n",
    "sys.path.append('../')\n",
    "from utils import load_all_data,my_xgb_cv_predict,my_xgb_fit_predict,my_keras_cv_predict,my_keras_fit_predict,plot_roc\n",
    "\n",
    "#go to working dir\n",
    "work_dir='/data/data1/ribli/mhc/'\n",
    "os.chdir(work_dir)\n",
    "\n",
    "%matplotlib inline"
   ]
  },
  {
   "cell_type": "markdown",
   "metadata": {},
   "source": [
    "### Load train and test data"
   ]
  },
  {
   "cell_type": "code",
   "execution_count": 5,
   "metadata": {
    "collapsed": false
   },
   "outputs": [],
   "source": [
    "X_train,y_train,y_train_c=load_all_data(\n",
    "    hla_representation='one-hot',\n",
    "    species_representation='one-hot',\n",
    "    seq_representation='one-hot')"
   ]
  },
  {
   "cell_type": "markdown",
   "metadata": {},
   "source": [
    "----\n",
    "\n",
    "\n",
    "### Get xgboost CV predictions on train data, and test data\n"
   ]
  },
  {
   "cell_type": "code",
   "execution_count": 6,
   "metadata": {
    "collapsed": false
   },
   "outputs": [
    {
     "name": "stderr",
     "output_type": "stream",
     "text": [
      "Will train until eval error hasn't decreased in 200 rounds.\n",
      "[0]\ttrain-auc:0.837028\teval-auc:0.811929\n",
      "[500]\ttrain-auc:0.990155\teval-auc:0.933122\n",
      "[1000]\ttrain-auc:0.996481\teval-auc:0.934676\n",
      "Stopping. Best iteration:\n",
      "[1224]\ttrain-auc:0.997585\teval-auc:0.934770\n",
      "\n",
      "Will train until eval error hasn't decreased in 200 rounds.\n",
      "[0]\ttrain-auc:0.835189\teval-auc:0.817997\n",
      "[500]\ttrain-auc:0.990345\teval-auc:0.932652\n",
      "Stopping. Best iteration:\n",
      "[755]\ttrain-auc:0.994691\teval-auc:0.933318\n",
      "\n",
      "Will train until eval error hasn't decreased in 200 rounds.\n",
      "[0]\ttrain-auc:0.837461\teval-auc:0.815366\n",
      "[500]\ttrain-auc:0.990445\teval-auc:0.933074\n",
      "[1000]\ttrain-auc:0.996677\teval-auc:0.934935\n",
      "Stopping. Best iteration:\n",
      "[978]\ttrain-auc:0.996531\teval-auc:0.935068\n",
      "\n",
      "Will train until eval error hasn't decreased in 200 rounds.\n",
      "[0]\ttrain-auc:0.855848\teval-auc:0.842424\n",
      "[500]\ttrain-auc:0.990589\teval-auc:0.937817\n",
      "[1000]\ttrain-auc:0.996746\teval-auc:0.938814\n",
      "Stopping. Best iteration:\n",
      "[1086]\ttrain-auc:0.997222\teval-auc:0.938882\n",
      "\n",
      "Will train until eval error hasn't decreased in 200 rounds.\n",
      "[0]\ttrain-auc:0.836416\teval-auc:0.809455\n",
      "[500]\ttrain-auc:0.990432\teval-auc:0.934084\n",
      "Stopping. Best iteration:\n",
      "[688]\ttrain-auc:0.993965\teval-auc:0.934969\n",
      "\n"
     ]
    }
   ],
   "source": [
    "#model params\n",
    "params = {'max_depth':20,\n",
    "         'eta':0.1,\n",
    "         'min_child_weight':5,\n",
    "         'colsample_bytree':1,\n",
    "         'subsample':1,\n",
    "         'silent':1,\n",
    "         'objective': \"binary:logistic\",\n",
    "         'eval_metric': 'auc',\n",
    "         'nthread':8}\n",
    "\n",
    "xgb_train_pred=my_xgb_cv_predict(params,X_train,y_train_c,n_folds=5)"
   ]
  },
  {
   "cell_type": "markdown",
   "metadata": {},
   "source": [
    "### Do the same with NN"
   ]
  },
  {
   "cell_type": "code",
   "execution_count": 7,
   "metadata": {
    "collapsed": false,
    "scrolled": true
   },
   "outputs": [
    {
     "name": "stdout",
     "output_type": "stream",
     "text": [
      "Train on 119040 samples, validate on 13227 samples\n",
      "Epoch 1/100\n",
      "Epoch 00000: val_loss improved from inf to 0.40322, saving model to best_model\n",
      "3s - loss: 0.4179 - val_loss: 0.4032\n",
      "Epoch 2/100\n",
      "Epoch 00001: val_loss improved from 0.40322 to 0.36684, saving model to best_model\n",
      "3s - loss: 0.3122 - val_loss: 0.3668\n",
      "Epoch 3/100\n",
      "Epoch 00002: val_loss improved from 0.36684 to 0.34443, saving model to best_model\n",
      "3s - loss: 0.2758 - val_loss: 0.3444\n",
      "Epoch 4/100\n",
      "Epoch 00003: val_loss improved from 0.34443 to 0.33257, saving model to best_model\n",
      "3s - loss: 0.2515 - val_loss: 0.3326\n",
      "Epoch 5/100\n",
      "Epoch 00004: val_loss improved from 0.33257 to 0.32562, saving model to best_model\n",
      "3s - loss: 0.2296 - val_loss: 0.3256\n",
      "Epoch 6/100\n",
      "Epoch 00005: val_loss did not improve\n",
      "3s - loss: 0.2109 - val_loss: 0.3459\n",
      "Epoch 7/100\n",
      "Epoch 00006: val_loss did not improve\n",
      "3s - loss: 0.1932 - val_loss: 0.3437\n",
      "Epoch 8/100\n",
      "Epoch 00007: val_loss did not improve\n",
      "3s - loss: 0.1763 - val_loss: 0.3557\n",
      "Epoch 9/100\n",
      "Epoch 00008: val_loss did not improve\n",
      "Epoch 00008: early stopping\n",
      "3s - loss: 0.1613 - val_loss: 0.3719\n",
      "Train on 119040 samples, validate on 13227 samples\n",
      "Epoch 1/100\n",
      "Epoch 00000: val_loss improved from inf to 0.38771, saving model to best_model\n",
      "3s - loss: 0.4203 - val_loss: 0.3877\n",
      "Epoch 2/100\n",
      "Epoch 00001: val_loss improved from 0.38771 to 0.34667, saving model to best_model\n",
      "3s - loss: 0.3171 - val_loss: 0.3467\n",
      "Epoch 3/100\n",
      "Epoch 00002: val_loss improved from 0.34667 to 0.33674, saving model to best_model\n",
      "3s - loss: 0.2810 - val_loss: 0.3367\n",
      "Epoch 4/100\n",
      "Epoch 00003: val_loss did not improve\n",
      "3s - loss: 0.2570 - val_loss: 0.3742\n",
      "Epoch 5/100\n",
      "Epoch 00004: val_loss did not improve\n",
      "3s - loss: 0.2354 - val_loss: 0.3444\n",
      "Epoch 6/100\n",
      "Epoch 00005: val_loss did not improve\n",
      "3s - loss: 0.2158 - val_loss: 0.3368\n",
      "Epoch 7/100\n",
      "Epoch 00006: val_loss did not improve\n",
      "Epoch 00006: early stopping\n",
      "3s - loss: 0.1976 - val_loss: 0.3589\n",
      "Train on 119040 samples, validate on 13227 samples\n",
      "Epoch 1/100\n",
      "Epoch 00000: val_loss improved from inf to 0.39484, saving model to best_model\n",
      "3s - loss: 0.4166 - val_loss: 0.3948\n",
      "Epoch 2/100\n",
      "Epoch 00001: val_loss improved from 0.39484 to 0.34914, saving model to best_model\n",
      "3s - loss: 0.3126 - val_loss: 0.3491\n",
      "Epoch 3/100\n",
      "Epoch 00002: val_loss improved from 0.34914 to 0.32117, saving model to best_model\n",
      "3s - loss: 0.2768 - val_loss: 0.3212\n",
      "Epoch 4/100\n",
      "Epoch 00003: val_loss did not improve\n",
      "3s - loss: 0.2510 - val_loss: 0.3222\n",
      "Epoch 5/100\n",
      "Epoch 00004: val_loss did not improve\n",
      "3s - loss: 0.2287 - val_loss: 0.3368\n",
      "Epoch 6/100\n",
      "Epoch 00005: val_loss did not improve\n",
      "3s - loss: 0.2099 - val_loss: 0.3343\n",
      "Epoch 7/100\n",
      "Epoch 00006: val_loss did not improve\n",
      "Epoch 00006: early stopping\n",
      "3s - loss: 0.1924 - val_loss: 0.3443\n",
      "Train on 119040 samples, validate on 13227 samples\n",
      "Epoch 1/100\n",
      "Epoch 00000: val_loss improved from inf to 0.36598, saving model to best_model\n",
      "3s - loss: 0.4185 - val_loss: 0.3660\n",
      "Epoch 2/100\n",
      "Epoch 00001: val_loss improved from 0.36598 to 0.33261, saving model to best_model\n",
      "3s - loss: 0.3124 - val_loss: 0.3326\n",
      "Epoch 3/100\n",
      "Epoch 00002: val_loss improved from 0.33261 to 0.32677, saving model to best_model\n",
      "3s - loss: 0.2756 - val_loss: 0.3268\n",
      "Epoch 4/100\n",
      "Epoch 00003: val_loss did not improve\n",
      "3s - loss: 0.2506 - val_loss: 0.3331\n",
      "Epoch 5/100\n",
      "Epoch 00004: val_loss did not improve\n",
      "3s - loss: 0.2278 - val_loss: 0.3375\n",
      "Epoch 6/100\n",
      "Epoch 00005: val_loss did not improve\n",
      "3s - loss: 0.2082 - val_loss: 0.3504\n",
      "Epoch 7/100\n",
      "Epoch 00006: val_loss did not improve\n",
      "Epoch 00006: early stopping\n",
      "3s - loss: 0.1891 - val_loss: 0.3435\n",
      "Train on 119041 samples, validate on 13227 samples\n",
      "Epoch 1/100\n",
      "Epoch 00000: val_loss improved from inf to 0.38435, saving model to best_model\n",
      "3s - loss: 0.4156 - val_loss: 0.3843\n",
      "Epoch 2/100\n",
      "Epoch 00001: val_loss improved from 0.38435 to 0.34908, saving model to best_model\n",
      "3s - loss: 0.3114 - val_loss: 0.3491\n",
      "Epoch 3/100\n",
      "Epoch 00002: val_loss improved from 0.34908 to 0.33342, saving model to best_model\n",
      "3s - loss: 0.2745 - val_loss: 0.3334\n",
      "Epoch 4/100\n",
      "Epoch 00003: val_loss did not improve\n",
      "3s - loss: 0.2493 - val_loss: 0.3420\n",
      "Epoch 5/100\n",
      "Epoch 00004: val_loss did not improve\n",
      "3s - loss: 0.2264 - val_loss: 0.3405\n",
      "Epoch 6/100\n",
      "Epoch 00005: val_loss did not improve\n",
      "3s - loss: 0.2080 - val_loss: 0.3552\n",
      "Epoch 7/100\n",
      "Epoch 00006: val_loss did not improve\n",
      "Epoch 00006: early stopping\n",
      "3s - loss: 0.1903 - val_loss: 0.3798\n"
     ]
    }
   ],
   "source": [
    "#create a very simple model\n",
    "from keras.models import Sequential\n",
    "from keras.layers import Dense\n",
    "\n",
    "#create model creator\n",
    "def get_model(input_dim):\n",
    "    \"\"\"Creates Keras model needed.\"\"\"\n",
    "    model = Sequential()\n",
    "    model.add(Dense(512, input_dim=input_dim,activation='relu'))\n",
    "    model.add(Dense(1,activation='sigmoid'))\n",
    "    model.compile(loss='binary_crossentropy', optimizer='adam')\n",
    "    return model\n",
    "\n",
    "#predict CV\n",
    "nn_train_pred=my_keras_cv_predict(get_model,X_train,y_train_c,n_folds=5,patience=3,verbose=2)"
   ]
  },
  {
   "cell_type": "markdown",
   "metadata": {},
   "source": [
    "### Create stacked inputs"
   ]
  },
  {
   "cell_type": "code",
   "execution_count": 8,
   "metadata": {
    "collapsed": false
   },
   "outputs": [],
   "source": [
    "import numpy as np\n",
    "X_train_stacked=np.column_stack([X_train,xgb_train_pred,nn_train_pred])\n",
    "\n",
    "#save them for the future\n",
    "np.save('class_stacked_x_train',X_train_stacked)"
   ]
  },
  {
   "cell_type": "markdown",
   "metadata": {},
   "source": [
    "### Make prediction with xgb on the stacked inputs"
   ]
  },
  {
   "cell_type": "code",
   "execution_count": 9,
   "metadata": {
    "collapsed": false
   },
   "outputs": [
    {
     "name": "stderr",
     "output_type": "stream",
     "text": [
      "Will train until eval error hasn't decreased in 200 rounds.\n",
      "[0]\ttrain-auc:0.928707\teval-auc:0.924539\n",
      "Stopping. Best iteration:\n",
      "[146]\ttrain-auc:0.942384\teval-auc:0.938189\n",
      "\n",
      "Will train until eval error hasn't decreased in 200 rounds.\n",
      "[0]\ttrain-auc:0.928192\teval-auc:0.930280\n",
      "Stopping. Best iteration:\n",
      "[59]\ttrain-auc:0.940537\teval-auc:0.941310\n",
      "\n",
      "Will train until eval error hasn't decreased in 200 rounds.\n",
      "[0]\ttrain-auc:0.929270\teval-auc:0.926162\n",
      "Stopping. Best iteration:\n",
      "[264]\ttrain-auc:0.943223\teval-auc:0.939412\n",
      "\n",
      "Will train until eval error hasn't decreased in 200 rounds.\n",
      "[0]\ttrain-auc:0.929884\teval-auc:0.927427\n",
      "Stopping. Best iteration:\n",
      "[87]\ttrain-auc:0.942014\teval-auc:0.939714\n",
      "\n",
      "Will train until eval error hasn't decreased in 200 rounds.\n",
      "[0]\ttrain-auc:0.928310\teval-auc:0.931126\n",
      "Stopping. Best iteration:\n",
      "[72]\ttrain-auc:0.941047\teval-auc:0.941833\n",
      "\n"
     ]
    }
   ],
   "source": [
    "params = {'max_depth':3,\n",
    "         'eta':0.1,\n",
    "         'min_child_weight':5,\n",
    "         'colsample_bytree':1,\n",
    "         'subsample':1,\n",
    "         'silent':1,\n",
    "         'objective': \"binary:logistic\",\n",
    "         'eval_metric': 'auc',\n",
    "         'nthread':8}\n",
    "\n",
    "xgb_stacked_train_pred=my_xgb_cv_predict(params,X_train_stacked,y_train_c,n_folds=5)"
   ]
  },
  {
   "cell_type": "markdown",
   "metadata": {},
   "source": [
    "### Evaluate"
   ]
  },
  {
   "cell_type": "code",
   "execution_count": 10,
   "metadata": {
    "collapsed": true
   },
   "outputs": [],
   "source": [
    "from sklearn.metrics import roc_auc_score\n",
    "from sklearn.utils import resample\n",
    "def bootstrap_auc(y_c,y_pred,N=100):\n",
    "    \"\"\"Bootstrap the AUC score.\"\"\"\n",
    "    scores=[]\n",
    "    for i in xrange(N):\n",
    "        res_y=resample(np.column_stack([y_c,y_pred]))\n",
    "        scores.append(roc_auc_score(res_y[:,0],res_y[:,1]))\n",
    "        \n",
    "    print 'Score is :', '%.4f' % np.mean(scores),\n",
    "    print '+-','%.4f' % np.std(scores)"
   ]
  },
  {
   "cell_type": "code",
   "execution_count": 11,
   "metadata": {
    "collapsed": false
   },
   "outputs": [
    {
     "name": "stdout",
     "output_type": "stream",
     "text": [
      "Score is : 0.9392 +- 0.0006\n"
     ]
    }
   ],
   "source": [
    "bootstrap_auc(y_train_c,xgb_stacked_train_pred)"
   ]
  },
  {
   "cell_type": "code",
   "execution_count": 12,
   "metadata": {
    "collapsed": false
   },
   "outputs": [
    {
     "name": "stdout",
     "output_type": "stream",
     "text": [
      "AUC: 0.939167728263\n"
     ]
    },
    {
     "data": {
      "image/png": "[encoded data removed]",
      "text/plain": [
       "<matplotlib.figure.Figure at 0x7f4c7968c7d0>"
      ]
     },
     "metadata": {},
     "output_type": "display_data"
    }
   ],
   "source": [
    "plot_roc(y_train_c,xgb_stacked_train_pred)"
   ]
  }
 ],
 "metadata": {
  "kernelspec": {
   "display_name": "Python 2",
   "language": "python",
   "name": "python2"
  },
  "language_info": {
   "codemirror_mode": {
    "name": "ipython",
    "version": 2
   },
   "file_extension": ".py",
   "mimetype": "text/x-python",
   "name": "python",
   "nbconvert_exporter": "python",
   "pygments_lexer": "ipython2",
   "version": "2.7.11"
  }
 },
 "nbformat": 4,
 "nbformat_minor": 0
}

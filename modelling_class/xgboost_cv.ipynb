{
 "cells": [
  {
   "cell_type": "code",
   "execution_count": 1,
   "metadata": {
    "collapsed": false
   },
   "outputs": [
    {
     "name": "stderr",
     "output_type": "stream",
     "text": [
      "Using Theano backend.\n",
      "/mnt/Data1/ribli/tools/anaconda/lib/python2.7/site-packages/theano/tensor/signal/downsample.py:5: UserWarning: downsample module has been moved to the pool module.\n",
      "  warnings.warn(\"downsample module has been moved to the pool module.\")\n"
     ]
    }
   ],
   "source": [
    "import os\n",
    "import time\n",
    "\n",
    "import matplotlib\n",
    "import matplotlib.pyplot as plt\n",
    "import seaborn as sns\n",
    "%matplotlib inline\n",
    "\n",
    "import numpy as np\n",
    "import pandas as pd\n",
    "\n",
    "#my functions\n",
    "from utils import load_data,my_xgb_cv_predict,plot_roc\n",
    "\n",
    "#go to working directory\n",
    "work_dir='/mnt/Data1/ribli/mhc/'\n",
    "os.chdir(work_dir)"
   ]
  },
  {
   "cell_type": "code",
   "execution_count": 2,
   "metadata": {
    "collapsed": false
   },
   "outputs": [
    {
     "name": "stdout",
     "output_type": "stream",
     "text": [
      "Reading from file...\n",
      "Creating representation...\n",
      "Using  83751 data points\n",
      "Done, It took: 1.13809609413 s\n"
     ]
    }
   ],
   "source": [
    "x,y=load_data(hla_representation='simple',seq_representation='simple')"
   ]
  },
  {
   "cell_type": "code",
   "execution_count": 3,
   "metadata": {
    "collapsed": false
   },
   "outputs": [
    {
     "name": "stderr",
     "output_type": "stream",
     "text": [
      "Will train until eval error hasn't decreased in 200 rounds.\n",
      "[0]\ttrain-logloss:0.683948\teval-logloss:0.684543\n",
      "[500]\ttrain-logloss:0.313040\teval-logloss:0.460133\n",
      "[1000]\ttrain-logloss:0.231303\teval-logloss:0.446835\n",
      "Stopping. Best iteration:\n",
      "[1108]\ttrain-logloss:0.218293\teval-logloss:0.445203\n",
      "\n",
      "Will train until eval error hasn't decreased in 200 rounds.\n",
      "[0]\ttrain-logloss:0.683953\teval-logloss:0.684371\n",
      "[500]\ttrain-logloss:0.310336\teval-logloss:0.463382\n",
      "[1000]\ttrain-logloss:0.224846\teval-logloss:0.451987\n",
      "Stopping. Best iteration:\n",
      "[875]\ttrain-logloss:0.239992\teval-logloss:0.451891\n",
      "\n",
      "Will train until eval error hasn't decreased in 200 rounds.\n",
      "[0]\ttrain-logloss:0.683636\teval-logloss:0.684277\n",
      "[500]\ttrain-logloss:0.313510\teval-logloss:0.464551\n",
      "[1000]\ttrain-logloss:0.225741\teval-logloss:0.451785\n",
      "Stopping. Best iteration:\n",
      "[1020]\ttrain-logloss:0.223311\teval-logloss:0.451581\n",
      "\n",
      "Will train until eval error hasn't decreased in 200 rounds.\n",
      "[0]\ttrain-logloss:0.684042\teval-logloss:0.684403\n",
      "[500]\ttrain-logloss:0.311776\teval-logloss:0.463293\n",
      "[1000]\ttrain-logloss:0.225180\teval-logloss:0.454701\n",
      "Stopping. Best iteration:\n",
      "[856]\ttrain-logloss:0.244645\teval-logloss:0.453455\n",
      "\n",
      "Will train until eval error hasn't decreased in 200 rounds.\n",
      "[0]\ttrain-logloss:0.683895\teval-logloss:0.684617\n",
      "[500]\ttrain-logloss:0.314477\teval-logloss:0.452968\n",
      "[1000]\ttrain-logloss:0.230867\teval-logloss:0.440581\n",
      "[1500]\ttrain-logloss:0.186654\teval-logloss:0.439763\n",
      "Stopping. Best iteration:\n",
      "[1384]\ttrain-logloss:0.196520\teval-logloss:0.439547\n",
      "\n"
     ]
    }
   ],
   "source": [
    "#model params\n",
    "params = {'max_depth':9,\n",
    "         'eta':0.05,\n",
    "         'min_child_weight':5,\n",
    "         'colsample_bytree':1,\n",
    "         'subsample':1,\n",
    "         'silent':1,\n",
    "         'objective': \"binary:logistic\",\n",
    "         'eval_metric': 'logloss',\n",
    "         'nthread':8}\n",
    "\n",
    "y_pred=my_xgb_cv_predict(params,x,y,n_folds=5)"
   ]
  },
  {
   "cell_type": "markdown",
   "metadata": {},
   "source": [
    "### ROC plot"
   ]
  },
  {
   "cell_type": "code",
   "execution_count": 4,
   "metadata": {
    "collapsed": false
   },
   "outputs": [
    {
     "name": "stdout",
     "output_type": "stream",
     "text": [
      "AUC: 0.869605884216\n"
     ]
    },
    {
     "data": {
      "image/png": "[encoded data removed]",
      "text/plain": [
       "<matplotlib.figure.Figure at 0x7fe76c83fd50>"
      ]
     },
     "metadata": {},
     "output_type": "display_data"
    }
   ],
   "source": [
    "plot_roc(y,y_pred)"
   ]
  }
 ],
 "metadata": {
  "kernelspec": {
   "display_name": "Python 2",
   "language": "python",
   "name": "python2"
  },
  "language_info": {
   "codemirror_mode": {
    "name": "ipython",
    "version": 2
   },
   "file_extension": ".py",
   "mimetype": "text/x-python",
   "name": "python",
   "nbconvert_exporter": "python",
   "pygments_lexer": "ipython2",
   "version": "2.7.11"
  }
 },
 "nbformat": 4,
 "nbformat_minor": 0
}

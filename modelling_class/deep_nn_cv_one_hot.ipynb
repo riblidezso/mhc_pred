{
 "cells": [
  {
   "cell_type": "code",
   "execution_count": 1,
   "metadata": {
    "collapsed": false
   },
   "outputs": [
    {
     "name": "stderr",
     "output_type": "stream",
     "text": [
      "Using Theano backend.\n",
      "Using gpu device 0: GeForce GTX 670 (CNMeM is disabled, CuDNN 4007)\n",
      "/mnt/Data1/ribli/tools/anaconda/lib/python2.7/site-packages/theano/tensor/signal/downsample.py:5: UserWarning: downsample module has been moved to the pool module.\n",
      "  warnings.warn(\"downsample module has been moved to the pool module.\")\n"
     ]
    }
   ],
   "source": [
    "import os\n",
    "os.environ['THEANO_FLAGS']='device=gpu'\n",
    "\n",
    "import subprocess\n",
    "import time\n",
    "\n",
    "import matplotlib\n",
    "import matplotlib.pyplot as plt\n",
    "import seaborn as sns\n",
    "%matplotlib inline\n",
    "\n",
    "import numpy as np\n",
    "import pandas as pd\n",
    "\n",
    "#my functions\n",
    "from utils import load_data,my_keras_cv_predict,plot_roc\n",
    "\n",
    "#go to working directory\n",
    "work_dir='/mnt/Data1/ribli/mhc/'\n",
    "os.chdir(work_dir)"
   ]
  },
  {
   "cell_type": "code",
   "execution_count": 2,
   "metadata": {
    "collapsed": false
   },
   "outputs": [
    {
     "name": "stdout",
     "output_type": "stream",
     "text": [
      "Reading from file...\n",
      "Creating representation...\n",
      "Using  83751 data points\n",
      "Done, It took: 1.97542619705 s\n"
     ]
    }
   ],
   "source": [
    "x,y=load_data(hla_representation='one-hot',seq_representation='one-hot')"
   ]
  },
  {
   "cell_type": "markdown",
   "metadata": {},
   "source": [
    "### Create functions for cross validation"
   ]
  },
  {
   "cell_type": "code",
   "execution_count": 3,
   "metadata": {
    "collapsed": false
   },
   "outputs": [
    {
     "name": "stdout",
     "output_type": "stream",
     "text": [
      "Train on 60300 samples, validate on 6700 samples\n",
      "Epoch 1/100\n",
      "2s - loss: 0.6107 - val_loss: 0.5508\n",
      "Epoch 00000: val_loss improved from inf to 0.55078, saving model to best_model\n",
      "Epoch 2/100\n",
      "2s - loss: 0.4949 - val_loss: 0.4936\n",
      "Epoch 00001: val_loss improved from 0.55078 to 0.49360, saving model to best_model\n",
      "Epoch 3/100\n",
      "2s - loss: 0.4125 - val_loss: 0.4925\n",
      "Epoch 00002: val_loss improved from 0.49360 to 0.49248, saving model to best_model\n",
      "Epoch 4/100\n",
      "2s - loss: 0.3538 - val_loss: 0.4892\n",
      "Epoch 00003: val_loss improved from 0.49248 to 0.48915, saving model to best_model\n",
      "Epoch 5/100\n",
      "2s - loss: 0.3019 - val_loss: 0.4787\n",
      "Epoch 00004: val_loss improved from 0.48915 to 0.47873, saving model to best_model\n",
      "Epoch 6/100\n",
      "2s - loss: 0.2555 - val_loss: 0.5181\n",
      "Epoch 00005: val_loss did not improve\n",
      "Epoch 7/100\n",
      "2s - loss: 0.2108 - val_loss: 0.5839\n",
      "Epoch 00006: val_loss did not improve\n",
      "Epoch 8/100\n",
      "2s - loss: 0.1731 - val_loss: 0.6328\n",
      "Epoch 00007: val_loss did not improve\n",
      "Epoch 9/100\n",
      "2s - loss: 0.1431 - val_loss: 0.6632\n",
      "Epoch 00008: val_loss did not improve\n",
      "Epoch 00008: early stopping\n",
      "Train on 60300 samples, validate on 6701 samples\n",
      "Epoch 1/100\n",
      "2s - loss: 0.6058 - val_loss: 0.5478\n",
      "Epoch 00000: val_loss improved from inf to 0.54780, saving model to best_model\n",
      "Epoch 2/100\n",
      "2s - loss: 0.5010 - val_loss: 0.4853\n",
      "Epoch 00001: val_loss improved from 0.54780 to 0.48531, saving model to best_model\n",
      "Epoch 3/100\n",
      "2s - loss: 0.4201 - val_loss: 0.4878\n",
      "Epoch 00002: val_loss did not improve\n",
      "Epoch 4/100\n",
      "2s - loss: 0.3622 - val_loss: 0.4769\n",
      "Epoch 00003: val_loss improved from 0.48531 to 0.47686, saving model to best_model\n",
      "Epoch 5/100\n",
      "2s - loss: 0.3117 - val_loss: 0.5112\n",
      "Epoch 00004: val_loss did not improve\n",
      "Epoch 6/100\n",
      "2s - loss: 0.2616 - val_loss: 0.5037\n",
      "Epoch 00005: val_loss did not improve\n",
      "Epoch 7/100\n",
      "2s - loss: 0.2190 - val_loss: 0.6229\n",
      "Epoch 00006: val_loss did not improve\n",
      "Epoch 8/100\n",
      "2s - loss: 0.1803 - val_loss: 0.7159\n",
      "Epoch 00007: val_loss did not improve\n",
      "Epoch 00007: early stopping\n",
      "Train on 60300 samples, validate on 6701 samples\n",
      "Epoch 1/100\n",
      "2s - loss: 0.6093 - val_loss: 0.5348\n",
      "Epoch 00000: val_loss improved from inf to 0.53481, saving model to best_model\n",
      "Epoch 2/100\n",
      "2s - loss: 0.4936 - val_loss: 0.4979\n",
      "Epoch 00001: val_loss improved from 0.53481 to 0.49787, saving model to best_model\n",
      "Epoch 3/100\n",
      "2s - loss: 0.4154 - val_loss: 0.4588\n",
      "Epoch 00002: val_loss improved from 0.49787 to 0.45879, saving model to best_model\n",
      "Epoch 4/100\n",
      "2s - loss: 0.3564 - val_loss: 0.4672\n",
      "Epoch 00003: val_loss did not improve\n",
      "Epoch 5/100\n",
      "2s - loss: 0.3077 - val_loss: 0.4760\n",
      "Epoch 00004: val_loss did not improve\n",
      "Epoch 6/100\n",
      "2s - loss: 0.2603 - val_loss: 0.5169\n",
      "Epoch 00005: val_loss did not improve\n",
      "Epoch 7/100\n",
      "2s - loss: 0.2179 - val_loss: 0.5624\n",
      "Epoch 00006: val_loss did not improve\n",
      "Epoch 00006: early stopping\n",
      "Train on 60300 samples, validate on 6701 samples\n",
      "Epoch 1/100\n",
      "2s - loss: 0.6114 - val_loss: 0.5406\n",
      "Epoch 00000: val_loss improved from inf to 0.54061, saving model to best_model\n",
      "Epoch 2/100\n",
      "2s - loss: 0.4947 - val_loss: 0.4837\n",
      "Epoch 00001: val_loss improved from 0.54061 to 0.48371, saving model to best_model\n",
      "Epoch 3/100\n",
      "2s - loss: 0.4128 - val_loss: 0.4682\n",
      "Epoch 00002: val_loss improved from 0.48371 to 0.46817, saving model to best_model\n",
      "Epoch 4/100\n",
      "2s - loss: 0.3558 - val_loss: 0.4609\n",
      "Epoch 00003: val_loss improved from 0.46817 to 0.46094, saving model to best_model\n",
      "Epoch 5/100\n",
      "2s - loss: 0.3049 - val_loss: 0.5544\n",
      "Epoch 00004: val_loss did not improve\n",
      "Epoch 6/100\n",
      "2s - loss: 0.2619 - val_loss: 0.5905\n",
      "Epoch 00005: val_loss did not improve\n",
      "Epoch 7/100\n",
      "2s - loss: 0.2195 - val_loss: 0.5509\n",
      "Epoch 00006: val_loss did not improve\n",
      "Epoch 8/100\n",
      "2s - loss: 0.1799 - val_loss: 0.6334\n",
      "Epoch 00007: val_loss did not improve\n",
      "Epoch 00007: early stopping\n",
      "Train on 60300 samples, validate on 6701 samples\n",
      "Epoch 1/100\n",
      "2s - loss: 0.6073 - val_loss: 0.5604\n",
      "Epoch 00000: val_loss improved from inf to 0.56038, saving model to best_model\n",
      "Epoch 2/100\n",
      "2s - loss: 0.4999 - val_loss: 0.5209\n",
      "Epoch 00001: val_loss improved from 0.56038 to 0.52087, saving model to best_model\n",
      "Epoch 3/100\n",
      "2s - loss: 0.4209 - val_loss: 0.4802\n",
      "Epoch 00002: val_loss improved from 0.52087 to 0.48023, saving model to best_model\n",
      "Epoch 4/100\n",
      "2s - loss: 0.3592 - val_loss: 0.4844\n",
      "Epoch 00003: val_loss did not improve\n",
      "Epoch 5/100\n",
      "2s - loss: 0.3071 - val_loss: 0.4986\n",
      "Epoch 00004: val_loss did not improve\n",
      "Epoch 6/100\n",
      "2s - loss: 0.2611 - val_loss: 0.5339\n",
      "Epoch 00005: val_loss did not improve\n",
      "Epoch 7/100\n",
      "2s - loss: 0.2163 - val_loss: 0.5664\n",
      "Epoch 00006: val_loss did not improve\n",
      "Epoch 00006: early stopping\n"
     ]
    }
   ],
   "source": [
    "#create a very simple deepish model\n",
    "from keras.models import Sequential\n",
    "from keras.layers import Dense\n",
    "\n",
    "def get_model(input_dim):\n",
    "    \"\"\"Creates Keras model needed.\"\"\"\n",
    "    model = Sequential()\n",
    "    model.add(Dense(1024, input_dim=input_dim,activation='relu'))\n",
    "    model.add(Dense(512, activation='relu'))\n",
    "    model.add(Dense(256, activation='relu'))\n",
    "    model.add(Dense(64, activation='relu'))\n",
    "    model.add(Dense(1,activation='sigmoid'))\n",
    "    model.compile(loss='binary_crossentropy', optimizer='adam')\n",
    "    return model\n",
    "\n",
    "#train\n",
    "y_pred=my_keras_cv_predict(get_model,x,y,n_folds=5,patience=3,verbose=2)"
   ]
  },
  {
   "cell_type": "code",
   "execution_count": 5,
   "metadata": {
    "collapsed": false
   },
   "outputs": [
    {
     "name": "stdout",
     "output_type": "stream",
     "text": [
      "AUC: 0.85737397851\n"
     ]
    },
    {
     "data": {
      "image/png": "[encoded data removed]",
      "text/plain": [
       "<matplotlib.figure.Figure at 0x7faaa2139b90>"
      ]
     },
     "metadata": {},
     "output_type": "display_data"
    }
   ],
   "source": [
    "plot_roc(y,y_pred)"
   ]
  }
 ],
 "metadata": {
  "kernelspec": {
   "display_name": "Python 2",
   "language": "python",
   "name": "python2"
  },
  "language_info": {
   "codemirror_mode": {
    "name": "ipython",
    "version": 2
   },
   "file_extension": ".py",
   "mimetype": "text/x-python",
   "name": "python",
   "nbconvert_exporter": "python",
   "pygments_lexer": "ipython2",
   "version": "2.7.11"
  }
 },
 "nbformat": 4,
 "nbformat_minor": 0
}

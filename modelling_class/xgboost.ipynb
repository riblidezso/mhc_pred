{
 "cells": [
  {
   "cell_type": "markdown",
   "metadata": {},
   "source": [
    "# Binding classification with XGBoost\n",
    "\n",
    "\n",
    "----\n",
    "\n",
    "- Cross validation using the all data\n",
    "\n",
    "- Using all observations (all species, </=/> values too)\n",
    "\n",
    "- simple one-hot encoding scheme for all categorical variables (species, hla type/subtypes,sequence)\n",
    "\n",
    "- This is the best i can do now\n",
    "\n",
    "\n",
    "----"
   ]
  },
  {
   "cell_type": "code",
   "execution_count": 1,
   "metadata": {
    "collapsed": false
   },
   "outputs": [
    {
     "name": "stderr",
     "output_type": "stream",
     "text": [
      "Using Theano backend.\n",
      "/usr/local/lib/python2.7/dist-packages/IPython/html.py:14: ShimWarning: The `IPython.html` package has been deprecated. You should import from `notebook` instead. `IPython.html.widgets` has moved to `ipywidgets`.\n",
      "  \"`IPython.html.widgets` has moved to `ipywidgets`.\", ShimWarning)\n"
     ]
    }
   ],
   "source": [
    "import os,sys\n",
    "os.environ['THEANO_FLAGS']='device=cpu'\n",
    "\n",
    "#my functions\n",
    "sys.path.append('../')\n",
    "from utils import load_all_data,my_xgb_cv_predict,plot_roc,bootstrap_auc\n",
    "\n",
    "#go to working dir\n",
    "os.chdir(os.environ['MHC_DATA'])\n",
    "\n",
    "%matplotlib inline"
   ]
  },
  {
   "cell_type": "markdown",
   "metadata": {},
   "source": [
    "### Load data"
   ]
  },
  {
   "cell_type": "code",
   "execution_count": 2,
   "metadata": {
    "collapsed": false
   },
   "outputs": [],
   "source": [
    "x,_,y_c=load_all_data(hla_representation='one-hot',\n",
    "    species_representation='one-hot',\n",
    "    seq_representation='one-hot')"
   ]
  },
  {
   "cell_type": "markdown",
   "metadata": {},
   "source": [
    "### Train"
   ]
  },
  {
   "cell_type": "code",
   "execution_count": 3,
   "metadata": {
    "collapsed": false
   },
   "outputs": [
    {
     "name": "stderr",
     "output_type": "stream",
     "text": [
      "Will train until eval error hasn't decreased in 200 rounds.\n",
      "[0]\ttrain-auc:0.856623\teval-auc:0.828064\n",
      "[500]\ttrain-auc:0.979797\teval-auc:0.929253\n",
      "[1000]\ttrain-auc:0.990208\teval-auc:0.933211\n",
      "[1500]\ttrain-auc:0.994272\teval-auc:0.934029\n",
      "Stopping. Best iteration:\n",
      "[1479]\ttrain-auc:0.994155\teval-auc:0.934043\n",
      "\n",
      "Will train until eval error hasn't decreased in 200 rounds.\n",
      "[0]\ttrain-auc:0.835145\teval-auc:0.820510\n",
      "[500]\ttrain-auc:0.979056\teval-auc:0.929143\n",
      "[1000]\ttrain-auc:0.989967\teval-auc:0.933009\n",
      "[1500]\ttrain-auc:0.994083\teval-auc:0.934026\n",
      "Stopping. Best iteration:\n",
      "[1577]\ttrain-auc:0.994508\teval-auc:0.934109\n",
      "\n",
      "Will train until eval error hasn't decreased in 200 rounds.\n",
      "[0]\ttrain-auc:0.860317\teval-auc:0.843744\n",
      "[500]\ttrain-auc:0.979384\teval-auc:0.931272\n",
      "[1000]\ttrain-auc:0.990187\teval-auc:0.934665\n",
      "[1500]\ttrain-auc:0.994189\teval-auc:0.935623\n",
      "[2000]\ttrain-auc:0.996274\teval-auc:0.936021\n",
      "Stopping. Best iteration:\n",
      "[2276]\ttrain-auc:0.997098\teval-auc:0.936188\n",
      "\n",
      "Will train until eval error hasn't decreased in 200 rounds.\n",
      "[0]\ttrain-auc:0.862749\teval-auc:0.837895\n",
      "[500]\ttrain-auc:0.979778\teval-auc:0.929100\n",
      "[1000]\ttrain-auc:0.990445\teval-auc:0.934100\n",
      "[1500]\ttrain-auc:0.994369\teval-auc:0.935436\n",
      "[2000]\ttrain-auc:0.996474\teval-auc:0.935873\n",
      "Stopping. Best iteration:\n",
      "[2242]\ttrain-auc:0.997122\teval-auc:0.936033\n",
      "\n",
      "Will train until eval error hasn't decreased in 200 rounds.\n",
      "[0]\ttrain-auc:0.838860\teval-auc:0.814658\n",
      "[500]\ttrain-auc:0.979585\teval-auc:0.927356\n",
      "[1000]\ttrain-auc:0.990245\teval-auc:0.931811\n",
      "[1500]\ttrain-auc:0.994235\teval-auc:0.932758\n",
      "[2000]\ttrain-auc:0.996424\teval-auc:0.933205\n",
      "Stopping. Best iteration:\n",
      "[1974]\ttrain-auc:0.996333\teval-auc:0.933264\n",
      "\n"
     ]
    }
   ],
   "source": [
    "#model params\n",
    "params = {'max_depth':20,\n",
    "         'eta':0.05,\n",
    "         'min_child_weight':5,\n",
    "         'colsample_bytree':1,\n",
    "         'subsample':1,\n",
    "         'silent':1,\n",
    "         'objective': \"binary:logistic\",\n",
    "         'eval_metric': 'auc',\n",
    "         'nthread':8}\n",
    "\n",
    "y_pred=my_xgb_cv_predict(params,x,y_c,n_folds=5)"
   ]
  },
  {
   "cell_type": "markdown",
   "metadata": {},
   "source": [
    "### ROC plot"
   ]
  },
  {
   "cell_type": "code",
   "execution_count": 5,
   "metadata": {
    "collapsed": false
   },
   "outputs": [
    {
     "name": "stdout",
     "output_type": "stream",
     "text": [
      "AUC: 0.936339264658\n"
     ]
    },
    {
     "data": {
      "image/png": "[encoded data removed]",
      "text/plain": [
       "<matplotlib.figure.Figure at 0x7fee9c7a40d0>"
      ]
     },
     "metadata": {},
     "output_type": "display_data"
    }
   ],
   "source": [
    "plot_roc(y_c,y_pred)"
   ]
  },
  {
   "cell_type": "markdown",
   "metadata": {},
   "source": [
    "### Bootstrap AUC"
   ]
  },
  {
   "cell_type": "code",
   "execution_count": 20,
   "metadata": {
    "collapsed": false
   },
   "outputs": [
    {
     "name": "stdout",
     "output_type": "stream",
     "text": [
      "Score is : 0.9363 +- 0.0006\n"
     ]
    }
   ],
   "source": [
    "bootstrap_auc(y_c,y_pred,N=100)"
   ]
  }
 ],
 "metadata": {
  "kernelspec": {
   "display_name": "Python 2",
   "language": "python",
   "name": "python2"
  },
  "language_info": {
   "codemirror_mode": {
    "name": "ipython",
    "version": 2
   },
   "file_extension": ".py",
   "mimetype": "text/x-python",
   "name": "python",
   "nbconvert_exporter": "python",
   "pygments_lexer": "ipython2",
   "version": "2.7.9"
  }
 },
 "nbformat": 4,
 "nbformat_minor": 0
}

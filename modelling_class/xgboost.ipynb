{
 "cells": [
  {
   "cell_type": "markdown",
   "metadata": {},
   "source": [
    "# Binding classification with XGBoost\n",
    "\n",
    "\n",
    "----\n",
    "\n",
    "- Cross validation using the all data\n",
    "\n",
    "- Using all observations (all species, </=/> values too)\n",
    "\n",
    "- simple one-hot encoding scheme for all categorical variables (species, hla type/subtypes,sequence)\n",
    "\n",
    "- This is the best i can do now\n",
    "\n",
    "\n",
    "----"
   ]
  },
  {
   "cell_type": "code",
   "execution_count": 1,
   "metadata": {
    "collapsed": false
   },
   "outputs": [
    {
     "name": "stderr",
     "output_type": "stream",
     "text": [
      "Using Theano backend.\n"
     ]
    }
   ],
   "source": [
    "import os,sys\n",
    "os.environ['THEANO_FLAGS']='device=cpu'\n",
    "\n",
    "#my functions\n",
    "sys.path.append('../')\n",
    "from utils import load_all_data,my_xgb_cv_predict,plot_roc\n",
    "\n",
    "#go to working dir\n",
    "work_dir='/data/data1/ribli/mhc/'\n",
    "os.chdir(work_dir)\n",
    "\n",
    "%matplotlib inline"
   ]
  },
  {
   "cell_type": "markdown",
   "metadata": {},
   "source": [
    "### Load data"
   ]
  },
  {
   "cell_type": "code",
   "execution_count": 2,
   "metadata": {
    "collapsed": false
   },
   "outputs": [
    {
     "name": "stdout",
     "output_type": "stream",
     "text": [
      "Reading from file...\n",
      "Creating representation...\n",
      "Using  137654  training data points\n",
      "Using  27680  testing data points\n",
      "Done, It took: 11.3298170567 s\n"
     ]
    }
   ],
   "source": [
    "x,_,y_c=load_all_data(hla_representation='one-hot',\n",
    "    species_representation='one-hot',\n",
    "    seq_representation='one-hot')"
   ]
  },
  {
   "cell_type": "markdown",
   "metadata": {},
   "source": [
    "### Train"
   ]
  },
  {
   "cell_type": "code",
   "execution_count": 4,
   "metadata": {
    "collapsed": false
   },
   "outputs": [
    {
     "name": "stderr",
     "output_type": "stream",
     "text": [
      "Will train until eval error hasn't decreased in 200 rounds.\n",
      "[0]\ttrain-auc:0.859734\teval-auc:0.838008\n",
      "[500]\ttrain-auc:0.979410\teval-auc:0.933963\n",
      "[1000]\ttrain-auc:0.989915\teval-auc:0.937781\n",
      "[1500]\ttrain-auc:0.994052\teval-auc:0.938540\n",
      "Stopping. Best iteration:\n",
      "[1796]\ttrain-auc:0.995476\teval-auc:0.938744\n",
      "\n",
      "Will train until eval error hasn't decreased in 200 rounds.\n",
      "[0]\ttrain-auc:0.859368\teval-auc:0.843489\n",
      "[500]\ttrain-auc:0.979377\teval-auc:0.932299\n",
      "[1000]\ttrain-auc:0.990323\teval-auc:0.935952\n",
      "[1500]\ttrain-auc:0.994303\teval-auc:0.937040\n",
      "[2000]\ttrain-auc:0.996418\teval-auc:0.937284\n",
      "Stopping. Best iteration:\n",
      "[2122]\ttrain-auc:0.996780\teval-auc:0.937376\n",
      "\n",
      "Will train until eval error hasn't decreased in 200 rounds.\n",
      "[0]\ttrain-auc:0.832714\teval-auc:0.814826\n",
      "[500]\ttrain-auc:0.979357\teval-auc:0.934396\n",
      "[1000]\ttrain-auc:0.990211\teval-auc:0.938438\n",
      "[1500]\ttrain-auc:0.994275\teval-auc:0.939174\n",
      "Stopping. Best iteration:\n",
      "[1568]\ttrain-auc:0.994639\teval-auc:0.939283\n",
      "\n",
      "Will train until eval error hasn't decreased in 200 rounds.\n",
      "[0]\ttrain-auc:0.862189\teval-auc:0.835743\n",
      "[500]\ttrain-auc:0.979794\teval-auc:0.929734\n",
      "[1000]\ttrain-auc:0.990416\teval-auc:0.933856\n",
      "[1500]\ttrain-auc:0.994500\teval-auc:0.934952\n",
      "[2000]\ttrain-auc:0.996637\teval-auc:0.935383\n",
      "Stopping. Best iteration:\n",
      "[2235]\ttrain-auc:0.997297\teval-auc:0.935628\n",
      "\n",
      "Will train until eval error hasn't decreased in 200 rounds.\n",
      "[0]\ttrain-auc:0.831023\teval-auc:0.811024\n",
      "[500]\ttrain-auc:0.979544\teval-auc:0.932038\n",
      "[1000]\ttrain-auc:0.990114\teval-auc:0.936758\n",
      "[1500]\ttrain-auc:0.994143\teval-auc:0.937547\n",
      "[2000]\ttrain-auc:0.996207\teval-auc:0.937819\n",
      "Stopping. Best iteration:\n",
      "[1874]\ttrain-auc:0.995801\teval-auc:0.937909\n",
      "\n"
     ]
    }
   ],
   "source": [
    "#model params\n",
    "params = {'max_depth':20,\n",
    "         'eta':0.05,\n",
    "         'min_child_weight':5,\n",
    "         'colsample_bytree':1,\n",
    "         'subsample':1,\n",
    "         'silent':1,\n",
    "         'objective': \"binary:logistic\",\n",
    "         'eval_metric': 'auc',\n",
    "         'nthread':8}\n",
    "\n",
    "y_pred=my_xgb_cv_predict(params,x,y_c,n_folds=5)"
   ]
  },
  {
   "cell_type": "markdown",
   "metadata": {},
   "source": [
    "### ROC plot"
   ]
  },
  {
   "cell_type": "code",
   "execution_count": 5,
   "metadata": {
    "collapsed": false
   },
   "outputs": [
    {
     "name": "stdout",
     "output_type": "stream",
     "text": [
      "AUC: 0.929119911703\n"
     ]
    },
    {
     "data": {
      "image/png": "[encoded data removed]",
      "text/plain": [
       "<matplotlib.figure.Figure at 0x7fc09eab3650>"
      ]
     },
     "metadata": {},
     "output_type": "display_data"
    }
   ],
   "source": [
    "plot_roc(y_c,y_pred)"
   ]
  }
 ],
 "metadata": {
  "kernelspec": {
   "display_name": "Python 2",
   "language": "python",
   "name": "python2"
  },
  "language_info": {
   "codemirror_mode": {
    "name": "ipython",
    "version": 2
   },
   "file_extension": ".py",
   "mimetype": "text/x-python",
   "name": "python",
   "nbconvert_exporter": "python",
   "pygments_lexer": "ipython2",
   "version": "2.7.11"
  }
 },
 "nbformat": 4,
 "nbformat_minor": 0
}

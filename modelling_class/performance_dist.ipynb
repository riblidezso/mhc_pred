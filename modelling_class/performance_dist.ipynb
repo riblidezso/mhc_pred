{
 "cells": [
  {
   "cell_type": "markdown",
   "metadata": {},
   "source": [
    "# Estimating the distribution of the performance\n",
    "\n",
    "---\n",
    "\n",
    "I have run the training, and CV evaluation of 20 random CV splits, of two of my best prediction methods.\n",
    "\n",
    "\n",
    "To be done with more (100-200).\n",
    "\n",
    "---"
   ]
  },
  {
   "cell_type": "code",
   "execution_count": 2,
   "metadata": {
    "collapsed": false
   },
   "outputs": [],
   "source": [
    "import matplotlib.pyplot as plt\n",
    "import seaborn as sns\n",
    "import pandas as pd\n",
    "import numpy as np\n",
    "\n",
    "%matplotlib inline"
   ]
  },
  {
   "cell_type": "code",
   "execution_count": 3,
   "metadata": {
    "collapsed": false
   },
   "outputs": [],
   "source": [
    "res_c=pd.read_csv('class_results.txt',sep=' ',header=None,names=['seed','auc'])\n",
    "res_r_c=pd.read_csv('reg_class_results.txt',sep=' ',header=None,names=['seed','auc'])"
   ]
  },
  {
   "cell_type": "code",
   "execution_count": 21,
   "metadata": {
    "collapsed": false
   },
   "outputs": [
    {
     "data": {
      "text/plain": [
       "(0.9355, 0.9375)"
      ]
     },
     "execution_count": 21,
     "metadata": {},
     "output_type": "execute_result"
    },
    {
     "data": {
      "image/png": "[encoded data removed]",
      "text/plain": [
       "<matplotlib.figure.Figure at 0x7f60c3bfae90>"
      ]
     },
     "metadata": {},
     "output_type": "display_data"
    }
   ],
   "source": [
    "sns.distplot(res_c.auc,kde=False)\n",
    "sns.distplot(res_r_c.auc,kde=False)\n",
    "\n",
    "plt.xlim(0.9355,0.9375)"
   ]
  },
  {
   "cell_type": "code",
   "execution_count": 16,
   "metadata": {
    "collapsed": false
   },
   "outputs": [
    {
     "data": {
      "text/plain": [
       "<matplotlib.axes._subplots.AxesSubplot at 0x7f60c3ccaf90>"
      ]
     },
     "execution_count": 16,
     "metadata": {},
     "output_type": "execute_result"
    },
    {
     "data": {
      "image/png": "[encoded data removed]",
      "text/plain": [
       "<matplotlib.figure.Figure at 0x7f60c3c96bd0>"
      ]
     },
     "metadata": {},
     "output_type": "display_data"
    }
   ],
   "source": [
    "sns.boxplot(res_c.auc)\n",
    "sns.boxplot(res_r_c.auc,color='g')"
   ]
  },
  {
   "cell_type": "code",
   "execution_count": 20,
   "metadata": {
    "collapsed": false
   },
   "outputs": [
    {
     "name": "stdout",
     "output_type": "stream",
     "text": [
      "Clas AUC is : 0.9361 +- 0.0002\n"
     ]
    }
   ],
   "source": [
    "print 'Clas AUC is :', '%.4f' % np.mean(res_c.auc),\n",
    "print '+-','%.4f' % np.std(res_c.auc)"
   ]
  },
  {
   "cell_type": "code",
   "execution_count": 19,
   "metadata": {
    "collapsed": false
   },
   "outputs": [
    {
     "name": "stdout",
     "output_type": "stream",
     "text": [
      "Reg-Class AUC is : 0.9368 +- 0.0002\n"
     ]
    }
   ],
   "source": [
    "print 'Reg-Class AUC is :', '%.4f' % np.mean(res_r_c.auc),\n",
    "print '+-','%.4f' % np.std(res_r_c.auc)"
   ]
  }
 ],
 "metadata": {
  "kernelspec": {
   "display_name": "Python 2",
   "language": "python",
   "name": "python2"
  },
  "language_info": {
   "codemirror_mode": {
    "name": "ipython",
    "version": 2
   },
   "file_extension": ".py",
   "mimetype": "text/x-python",
   "name": "python",
   "nbconvert_exporter": "python",
   "pygments_lexer": "ipython2",
   "version": "2.7.9"
  }
 },
 "nbformat": 4,
 "nbformat_minor": 0
}

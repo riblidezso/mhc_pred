{
 "cells": [
  {
   "cell_type": "code",
   "execution_count": 1,
   "metadata": {
    "collapsed": false
   },
   "outputs": [
    {
     "name": "stderr",
     "output_type": "stream",
     "text": [
      "Using Theano backend.\n",
      "/mnt/Data1/ribli/tools/anaconda/lib/python2.7/site-packages/theano/tensor/signal/downsample.py:5: UserWarning: downsample module has been moved to the pool module.\n",
      "  warnings.warn(\"downsample module has been moved to the pool module.\")\n"
     ]
    }
   ],
   "source": [
    "import os\n",
    "import time\n",
    "\n",
    "import matplotlib\n",
    "import matplotlib.pyplot as plt\n",
    "import seaborn as sns\n",
    "%matplotlib inline\n",
    "\n",
    "import numpy as np\n",
    "import pandas as pd\n",
    "\n",
    "#my functions\n",
    "from utils import load_data,my_xgb_cv_predict,plot_roc,my_xgb_fit_predict\n",
    "\n",
    "#go to working directory\n",
    "work_dir='/mnt/Data1/ribli/mhc/'\n",
    "os.chdir(work_dir)"
   ]
  },
  {
   "cell_type": "markdown",
   "metadata": {},
   "source": [
    "### Load train and test data"
   ]
  },
  {
   "cell_type": "code",
   "execution_count": 2,
   "metadata": {
    "collapsed": false
   },
   "outputs": [
    {
     "name": "stdout",
     "output_type": "stream",
     "text": [
      "Reading from file...\n",
      "Creating representation...\n",
      "Using  137654  training data points\n",
      "Using  27680  testing data points\n",
      "Done, It took: 7.96708106995 s\n"
     ]
    }
   ],
   "source": [
    "X_train,y_train,X_test,y_test=load_data(hla_representation='one-hot',\n",
    "                                        species_representation='one-hot',\n",
    "                                        seq_representation='one-hot')"
   ]
  },
  {
   "cell_type": "markdown",
   "metadata": {},
   "source": [
    "----\n",
    "\n",
    "\n",
    "### Cross Validate on training data\n"
   ]
  },
  {
   "cell_type": "code",
   "execution_count": 5,
   "metadata": {
    "collapsed": false
   },
   "outputs": [
    {
     "name": "stderr",
     "output_type": "stream",
     "text": [
      "Will train until eval error hasn't decreased in 200 rounds.\n",
      "[0]\ttrain-auc:0.781961\teval-auc:0.773729\n",
      "[500]\ttrain-auc:0.986792\teval-auc:0.930920\n",
      "[1000]\ttrain-auc:0.994603\teval-auc:0.932368\n",
      "Stopping. Best iteration:\n",
      "[1262]\ttrain-auc:0.996479\teval-auc:0.932549\n",
      "\n",
      "Will train until eval error hasn't decreased in 200 rounds.\n",
      "[0]\ttrain-auc:0.775555\teval-auc:0.757674\n",
      "[500]\ttrain-auc:0.987352\teval-auc:0.928968\n",
      "[1000]\ttrain-auc:0.994954\teval-auc:0.929691\n",
      "Stopping. Best iteration:\n",
      "[868]\ttrain-auc:0.993710\teval-auc:0.929979\n",
      "\n",
      "Will train until eval error hasn't decreased in 200 rounds.\n",
      "[0]\ttrain-auc:0.783212\teval-auc:0.768799\n",
      "[500]\ttrain-auc:0.986531\teval-auc:0.927943\n",
      "[1000]\ttrain-auc:0.994477\teval-auc:0.929792\n",
      "Stopping. Best iteration:\n",
      "[1086]\ttrain-auc:0.995216\teval-auc:0.929833\n",
      "\n",
      "Will train until eval error hasn't decreased in 200 rounds.\n",
      "[0]\ttrain-auc:0.775720\teval-auc:0.758307\n",
      "[500]\ttrain-auc:0.986864\teval-auc:0.924813\n",
      "[1000]\ttrain-auc:0.994740\teval-auc:0.927770\n",
      "Stopping. Best iteration:\n",
      "[971]\ttrain-auc:0.994490\teval-auc:0.927905\n",
      "\n",
      "Will train until eval error hasn't decreased in 200 rounds.\n",
      "[0]\ttrain-auc:0.777872\teval-auc:0.753665\n",
      "[500]\ttrain-auc:0.986820\teval-auc:0.921925\n",
      "[1000]\ttrain-auc:0.994686\teval-auc:0.923809\n",
      "Stopping. Best iteration:\n",
      "[920]\ttrain-auc:0.993828\teval-auc:0.924072\n",
      "\n"
     ]
    }
   ],
   "source": [
    "#model params\n",
    "params = {'max_depth':20,\n",
    "         'eta':0.1,\n",
    "         'min_child_weight':5,\n",
    "         'colsample_bytree':1,\n",
    "         'subsample':1,\n",
    "         'silent':1,\n",
    "         'objective': \"binary:logistic\",\n",
    "         'eval_metric': 'auc',\n",
    "         'nthread':8}\n",
    "\n",
    "y_pred=my_xgb_cv_predict(params,X_train,y_train,n_folds=5)"
   ]
  },
  {
   "cell_type": "markdown",
   "metadata": {},
   "source": [
    "----\n",
    "### Evaluate\n"
   ]
  },
  {
   "cell_type": "code",
   "execution_count": 6,
   "metadata": {
    "collapsed": false
   },
   "outputs": [
    {
     "name": "stdout",
     "output_type": "stream",
     "text": [
      "AUC: 0.92833521295\n"
     ]
    },
    {
     "data": {
      "image/png": "[encoded data removed]",
      "text/plain": [
       "<matplotlib.figure.Figure at 0x7f5dc2c1c810>"
      ]
     },
     "metadata": {},
     "output_type": "display_data"
    }
   ],
   "source": [
    "plot_roc(y_train,y_pred)"
   ]
  },
  {
   "cell_type": "markdown",
   "metadata": {},
   "source": [
    "----\n",
    "### Predict blind data"
   ]
  },
  {
   "cell_type": "code",
   "execution_count": 7,
   "metadata": {
    "collapsed": false
   },
   "outputs": [
    {
     "name": "stderr",
     "output_type": "stream",
     "text": [
      "Will train until eval error hasn't decreased in 200 rounds.\n",
      "[0]\ttrain-auc:0.779555\teval-auc:0.759619\n",
      "[500]\ttrain-auc:0.985793\teval-auc:0.932019\n",
      "[1000]\ttrain-auc:0.993809\teval-auc:0.934673\n",
      "[1500]\ttrain-auc:0.996789\teval-auc:0.934990\n",
      "Stopping. Best iteration:\n",
      "[1349]\ttrain-auc:0.996103\teval-auc:0.935145\n",
      "\n"
     ]
    }
   ],
   "source": [
    "y_test_pred=my_xgb_fit_predict(params,X_train,y_train,X_test,\n",
    "                       num_boost_round=5000,verbose_eval=500,\n",
    "                       early_stopping_rounds=200,\n",
    "                       validation_size=0.1)"
   ]
  },
  {
   "cell_type": "code",
   "execution_count": 8,
   "metadata": {
    "collapsed": false
   },
   "outputs": [
    {
     "name": "stdout",
     "output_type": "stream",
     "text": [
      "AUC: 0.905769201596\n"
     ]
    },
    {
     "data": {
      "image/png": "[encoded data removed]",
      "text/plain": [
       "<matplotlib.figure.Figure at 0x7f5dc2e83950>"
      ]
     },
     "metadata": {},
     "output_type": "display_data"
    }
   ],
   "source": [
    "plot_roc(y_test,y_test_pred)"
   ]
  },
  {
   "cell_type": "markdown",
   "metadata": {},
   "source": [
    "---\n",
    "\n",
    "### Conclusion: passed 'state of the art'\n",
    "\n",
    "Method | CV | Blind test\n",
    "--- | --- | ---\n",
    "SMMPMBEC | 0.8989 | 0.8474\n",
    "NetMHC | 0.8930 | 0.8833\n",
    "NetMHCpan |0.9176 | 0.8830\n",
    "xgboost |**0.9283** | **0.9057**\n",
    "\n",
    "\n",
    "---\n"
   ]
  }
 ],
 "metadata": {
  "kernelspec": {
   "display_name": "Python 2",
   "language": "python",
   "name": "python2"
  },
  "language_info": {
   "codemirror_mode": {
    "name": "ipython",
    "version": 2
   },
   "file_extension": ".py",
   "mimetype": "text/x-python",
   "name": "python",
   "nbconvert_exporter": "python",
   "pygments_lexer": "ipython2",
   "version": "2.7.11"
  }
 },
 "nbformat": 4,
 "nbformat_minor": 0
}

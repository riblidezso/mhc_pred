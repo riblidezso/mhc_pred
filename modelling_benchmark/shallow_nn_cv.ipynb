{
 "cells": [
  {
   "cell_type": "markdown",
   "metadata": {},
   "source": [
    "# Benchmarking binding classification with a 2 layer NN\n",
    "\n",
    "\n",
    "----\n",
    "\n",
    "- Cross validation using the train data and evaluation on 'blind test set'.\n",
    "\n",
    "- Using all observations (all species, </=/> values too)\n",
    "\n",
    "- simple one-hot encoding scheme for all categorical variables (species, hla type/subtypes,sequence)\n",
    "\n",
    "\n",
    "\n",
    "----"
   ]
  },
  {
   "cell_type": "code",
   "execution_count": 1,
   "metadata": {
    "collapsed": false
   },
   "outputs": [
    {
     "name": "stderr",
     "output_type": "stream",
     "text": [
      "Using Theano backend.\n",
      "Using gpu device 1: GeForce GTX 670 (CNMeM is enabled with initial size: 95.0% of memory, cuDNN 5004)\n"
     ]
    }
   ],
   "source": [
    "import os\n",
    "os.environ['THEANO_FLAGS']='device=gpu1'\n",
    "import os,sys\n",
    "\n",
    "#my functions\n",
    "sys.path.append('../')\n",
    "from utils import load_data,my_keras_cv_predict,my_keras_fit_predict,plot_roc\n",
    "\n",
    "#go to working dir\n",
    "work_dir='/data/data1/ribli/mhc/'\n",
    "os.chdir(work_dir)\n",
    "\n",
    "%matplotlib inline"
   ]
  },
  {
   "cell_type": "markdown",
   "metadata": {},
   "source": [
    "### Load data"
   ]
  },
  {
   "cell_type": "code",
   "execution_count": 2,
   "metadata": {
    "collapsed": false
   },
   "outputs": [],
   "source": [
    "X_train,_,y_train,X_test,_,y_test=load_data(hla_representation='one-hot',\n",
    "                                        species_representation='one-hot',\n",
    "                                        seq_representation='one-hot')"
   ]
  },
  {
   "cell_type": "markdown",
   "metadata": {},
   "source": [
    "### CV"
   ]
  },
  {
   "cell_type": "code",
   "execution_count": 3,
   "metadata": {
    "collapsed": false,
    "scrolled": false
   },
   "outputs": [
    {
     "name": "stdout",
     "output_type": "stream",
     "text": [
      "Train on 99110 samples, validate on 11013 samples\n",
      "Epoch 1/100\n",
      "Epoch 00000: val_loss improved from inf to 0.34866, saving model to best_model\n",
      "2s - loss: 0.4332 - val_loss: 0.3487\n",
      "Epoch 2/100\n",
      "Epoch 00001: val_loss improved from 0.34866 to 0.30945, saving model to best_model\n",
      "2s - loss: 0.3259 - val_loss: 0.3095\n",
      "Epoch 3/100\n",
      "Epoch 00002: val_loss improved from 0.30945 to 0.30154, saving model to best_model\n",
      "2s - loss: 0.2838 - val_loss: 0.3015\n",
      "Epoch 4/100\n",
      "Epoch 00003: val_loss improved from 0.30154 to 0.30028, saving model to best_model\n",
      "2s - loss: 0.2575 - val_loss: 0.3003\n",
      "Epoch 5/100\n",
      "Epoch 00004: val_loss improved from 0.30028 to 0.29460, saving model to best_model\n",
      "2s - loss: 0.2349 - val_loss: 0.2946\n",
      "Epoch 6/100\n",
      "Epoch 00005: val_loss did not improve\n",
      "2s - loss: 0.2138 - val_loss: 0.3110\n",
      "Epoch 7/100\n",
      "Epoch 00006: val_loss did not improve\n",
      "2s - loss: 0.1945 - val_loss: 0.3061\n",
      "Epoch 8/100\n",
      "Epoch 00007: val_loss did not improve\n",
      "2s - loss: 0.1780 - val_loss: 0.3172\n",
      "Epoch 9/100\n",
      "Epoch 00008: val_loss did not improve\n",
      "Epoch 00008: early stopping\n",
      "2s - loss: 0.1614 - val_loss: 0.3325\n",
      "Train on 99110 samples, validate on 11013 samples\n",
      "Epoch 1/100\n",
      "Epoch 00000: val_loss improved from inf to 0.34391, saving model to best_model\n",
      "2s - loss: 0.4251 - val_loss: 0.3439\n",
      "Epoch 2/100\n",
      "Epoch 00001: val_loss improved from 0.34391 to 0.31131, saving model to best_model\n",
      "2s - loss: 0.3197 - val_loss: 0.3113\n",
      "Epoch 3/100\n",
      "Epoch 00002: val_loss improved from 0.31131 to 0.30573, saving model to best_model\n",
      "2s - loss: 0.2786 - val_loss: 0.3057\n",
      "Epoch 4/100\n",
      "Epoch 00003: val_loss improved from 0.30573 to 0.29768, saving model to best_model\n",
      "2s - loss: 0.2512 - val_loss: 0.2977\n",
      "Epoch 5/100\n",
      "Epoch 00004: val_loss did not improve\n",
      "2s - loss: 0.2283 - val_loss: 0.2986\n",
      "Epoch 6/100\n",
      "Epoch 00005: val_loss did not improve\n",
      "2s - loss: 0.2074 - val_loss: 0.3127\n",
      "Epoch 7/100\n",
      "Epoch 00006: val_loss did not improve\n",
      "2s - loss: 0.1875 - val_loss: 0.3084\n",
      "Epoch 8/100\n",
      "Epoch 00007: val_loss did not improve\n",
      "Epoch 00007: early stopping\n",
      "2s - loss: 0.1712 - val_loss: 0.3203\n",
      "Train on 99110 samples, validate on 11013 samples\n",
      "Epoch 1/100\n",
      "Epoch 00000: val_loss improved from inf to 0.38790, saving model to best_model\n",
      "2s - loss: 0.4268 - val_loss: 0.3879\n",
      "Epoch 2/100\n",
      "Epoch 00001: val_loss improved from 0.38790 to 0.30955, saving model to best_model\n",
      "2s - loss: 0.3203 - val_loss: 0.3095\n",
      "Epoch 3/100\n",
      "Epoch 00002: val_loss improved from 0.30955 to 0.29866, saving model to best_model\n",
      "2s - loss: 0.2792 - val_loss: 0.2987\n",
      "Epoch 4/100\n",
      "Epoch 00003: val_loss improved from 0.29866 to 0.28967, saving model to best_model\n",
      "2s - loss: 0.2520 - val_loss: 0.2897\n",
      "Epoch 5/100\n",
      "Epoch 00004: val_loss did not improve\n",
      "2s - loss: 0.2284 - val_loss: 0.2921\n",
      "Epoch 6/100\n",
      "Epoch 00005: val_loss did not improve\n",
      "2s - loss: 0.2068 - val_loss: 0.2916\n",
      "Epoch 7/100\n",
      "Epoch 00006: val_loss did not improve\n",
      "2s - loss: 0.1871 - val_loss: 0.3089\n",
      "Epoch 8/100\n",
      "Epoch 00007: val_loss did not improve\n",
      "Epoch 00007: early stopping\n",
      "2s - loss: 0.1694 - val_loss: 0.3178\n",
      "Train on 99110 samples, validate on 11013 samples\n",
      "Epoch 1/100\n",
      "Epoch 00000: val_loss improved from inf to 0.35504, saving model to best_model\n",
      "2s - loss: 0.4241 - val_loss: 0.3550\n",
      "Epoch 2/100\n",
      "Epoch 00001: val_loss improved from 0.35504 to 0.30771, saving model to best_model\n",
      "2s - loss: 0.3176 - val_loss: 0.3077\n",
      "Epoch 3/100\n",
      "Epoch 00002: val_loss did not improve\n",
      "2s - loss: 0.2784 - val_loss: 0.3093\n",
      "Epoch 4/100\n",
      "Epoch 00003: val_loss improved from 0.30771 to 0.30469, saving model to best_model\n",
      "2s - loss: 0.2514 - val_loss: 0.3047\n",
      "Epoch 5/100\n",
      "Epoch 00004: val_loss improved from 0.30469 to 0.29449, saving model to best_model\n",
      "2s - loss: 0.2266 - val_loss: 0.2945\n",
      "Epoch 6/100\n",
      "Epoch 00005: val_loss did not improve\n",
      "2s - loss: 0.2060 - val_loss: 0.3095\n",
      "Epoch 7/100\n",
      "Epoch 00006: val_loss did not improve\n",
      "2s - loss: 0.1859 - val_loss: 0.2966\n",
      "Epoch 8/100\n",
      "Epoch 00007: val_loss did not improve\n",
      "2s - loss: 0.1693 - val_loss: 0.3100\n",
      "Epoch 9/100\n",
      "Epoch 00008: val_loss did not improve\n",
      "Epoch 00008: early stopping\n",
      "2s - loss: 0.1529 - val_loss: 0.3278\n",
      "Train on 99111 samples, validate on 11013 samples\n",
      "Epoch 1/100\n",
      "Epoch 00000: val_loss improved from inf to 0.35504, saving model to best_model\n",
      "2s - loss: 0.4244 - val_loss: 0.3550\n",
      "Epoch 2/100\n",
      "Epoch 00001: val_loss improved from 0.35504 to 0.31094, saving model to best_model\n",
      "2s - loss: 0.3197 - val_loss: 0.3109\n",
      "Epoch 3/100\n",
      "Epoch 00002: val_loss improved from 0.31094 to 0.29688, saving model to best_model\n",
      "2s - loss: 0.2792 - val_loss: 0.2969\n",
      "Epoch 4/100\n",
      "Epoch 00003: val_loss improved from 0.29688 to 0.29612, saving model to best_model\n",
      "2s - loss: 0.2530 - val_loss: 0.2961\n",
      "Epoch 5/100\n",
      "Epoch 00004: val_loss did not improve\n",
      "2s - loss: 0.2297 - val_loss: 0.2965\n",
      "Epoch 6/100\n",
      "Epoch 00005: val_loss did not improve\n",
      "2s - loss: 0.2089 - val_loss: 0.3022\n",
      "Epoch 7/100\n",
      "Epoch 00006: val_loss did not improve\n",
      "2s - loss: 0.1893 - val_loss: 0.3124\n",
      "Epoch 8/100\n",
      "Epoch 00007: val_loss did not improve\n",
      "Epoch 00007: early stopping\n",
      "2s - loss: 0.1710 - val_loss: 0.3286\n"
     ]
    }
   ],
   "source": [
    "#create a very simple deepish model\n",
    "from keras.models import Sequential\n",
    "from keras.layers import Dense\n",
    "\n",
    "#create model creator\n",
    "def get_model(input_dim):\n",
    "    \"\"\"Creates Keras model needed.\"\"\"\n",
    "    model = Sequential()\n",
    "    model.add(Dense(512, input_dim=input_dim,activation='relu'))\n",
    "    model.add(Dense(1,activation='sigmoid'))\n",
    "    model.compile(loss='binary_crossentropy', optimizer='adam')\n",
    "    return model\n",
    "\n",
    "#train\n",
    "y_train_pred=my_keras_cv_predict(get_model,X_train,y_train,n_folds=5,patience=3,verbose=2)"
   ]
  },
  {
   "cell_type": "code",
   "execution_count": 4,
   "metadata": {
    "collapsed": false
   },
   "outputs": [
    {
     "name": "stdout",
     "output_type": "stream",
     "text": [
      "AUC: 0.924404898191\n"
     ]
    },
    {
     "data": {
      "image/png": "[encoded data removed]",
      "text/plain": [
       "<matplotlib.figure.Figure at 0x7f2c85ed4050>"
      ]
     },
     "metadata": {},
     "output_type": "display_data"
    }
   ],
   "source": [
    "plot_roc(y_train,y_train_pred)"
   ]
  },
  {
   "cell_type": "markdown",
   "metadata": {},
   "source": [
    "---\n",
    "\n",
    "### Predict on blind data"
   ]
  },
  {
   "cell_type": "code",
   "execution_count": 5,
   "metadata": {
    "collapsed": false
   },
   "outputs": [
    {
     "name": "stdout",
     "output_type": "stream",
     "text": [
      "Train on 123888 samples, validate on 13766 samples\n",
      "Epoch 1/100\n",
      "123776/123888 [============================>.] - ETA: 0s - loss: 0.4116Epoch 00000: val_loss improved from inf to 0.32858, saving model to best_model\n",
      "123888/123888 [==============================] - 3s - loss: 0.4115 - val_loss: 0.3286\n",
      "Epoch 2/100\n",
      "123552/123888 [============================>.] - ETA: 0s - loss: 0.3074Epoch 00001: val_loss improved from 0.32858 to 0.31623, saving model to best_model\n",
      "123888/123888 [==============================] - 3s - loss: 0.3074 - val_loss: 0.3162\n",
      "Epoch 3/100\n",
      "123712/123888 [============================>.] - ETA: 0s - loss: 0.2721Epoch 00002: val_loss improved from 0.31623 to 0.29104, saving model to best_model\n",
      "123888/123888 [==============================] - 3s - loss: 0.2722 - val_loss: 0.2910\n",
      "Epoch 4/100\n",
      "123680/123888 [============================>.] - ETA: 0s - loss: 0.2467Epoch 00003: val_loss improved from 0.29104 to 0.28886, saving model to best_model\n",
      "123888/123888 [==============================] - 3s - loss: 0.2467 - val_loss: 0.2889\n",
      "Epoch 5/100\n",
      "123776/123888 [============================>.] - ETA: 0s - loss: 0.2251Epoch 00004: val_loss improved from 0.28886 to 0.28861, saving model to best_model\n",
      "123888/123888 [==============================] - 3s - loss: 0.2252 - val_loss: 0.2886\n",
      "Epoch 6/100\n",
      "123808/123888 [============================>.] - ETA: 0s - loss: 0.2060Epoch 00005: val_loss did not improve\n",
      "123888/123888 [==============================] - 3s - loss: 0.2060 - val_loss: 0.2980\n",
      "Epoch 7/100\n",
      "123520/123888 [============================>.] - ETA: 0s - loss: 0.1886Epoch 00006: val_loss did not improve\n",
      "123888/123888 [==============================] - 3s - loss: 0.1886 - val_loss: 0.2996\n",
      "Epoch 8/100\n",
      "123680/123888 [============================>.] - ETA: 0s - loss: 0.1727Epoch 00007: val_loss did not improve\n",
      "123888/123888 [==============================] - 3s - loss: 0.1728 - val_loss: 0.3053\n",
      "Epoch 9/100\n",
      "123616/123888 [============================>.] - ETA: 0s - loss: 0.1572Epoch 00008: val_loss did not improve\n",
      "Epoch 00008: early stopping\n",
      "123888/123888 [==============================] - 3s - loss: 0.1573 - val_loss: 0.3227\n"
     ]
    }
   ],
   "source": [
    "y_test_pred=my_keras_fit_predict(get_model,X_train,y_train,X_test,\n",
    "                      validation_split=0.1,patience=3,nb_epoch=100)"
   ]
  },
  {
   "cell_type": "code",
   "execution_count": 6,
   "metadata": {
    "collapsed": false
   },
   "outputs": [
    {
     "name": "stdout",
     "output_type": "stream",
     "text": [
      "AUC: 0.905430599886\n"
     ]
    },
    {
     "data": {
      "image/png": "[encoded data removed]",
      "text/plain": [
       "<matplotlib.figure.Figure at 0x7f2c91fe4590>"
      ]
     },
     "metadata": {},
     "output_type": "display_data"
    }
   ],
   "source": [
    "plot_roc(y_test,y_test_pred)"
   ]
  },
  {
   "cell_type": "markdown",
   "metadata": {},
   "source": [
    "---\n",
    "\n",
    "### Conclusion: passed 'state of the art'\n",
    "\n",
    "Method | CV | Blind test\n",
    "--- | --- | ---\n",
    "SMMPMBEC | 0.8989 | 0.8474\n",
    "NetMHC | 0.8930 | 0.8833\n",
    "NetMHCpan |0.9176 | 0.8830\n",
    "2layer net | **0.9244** | **0.9054**\n",
    "\n",
    "\n",
    "---\n",
    "\n"
   ]
  }
 ],
 "metadata": {
  "kernelspec": {
   "display_name": "Python 2",
   "language": "python",
   "name": "python2"
  },
  "language_info": {
   "codemirror_mode": {
    "name": "ipython",
    "version": 2
   },
   "file_extension": ".py",
   "mimetype": "text/x-python",
   "name": "python",
   "nbconvert_exporter": "python",
   "pygments_lexer": "ipython2",
   "version": "2.7.11"
  }
 },
 "nbformat": 4,
 "nbformat_minor": 0
}

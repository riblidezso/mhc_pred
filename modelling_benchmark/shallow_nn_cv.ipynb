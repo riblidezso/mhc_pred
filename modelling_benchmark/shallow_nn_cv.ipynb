{
 "cells": [
  {
   "cell_type": "code",
   "execution_count": 1,
   "metadata": {
    "collapsed": false
   },
   "outputs": [
    {
     "name": "stderr",
     "output_type": "stream",
     "text": [
      "Using Theano backend.\n",
      "Using gpu device 0: GeForce GTX 670 (CNMeM is disabled, CuDNN 4007)\n",
      "/mnt/Data1/ribli/tools/anaconda/lib/python2.7/site-packages/theano/tensor/signal/downsample.py:5: UserWarning: downsample module has been moved to the pool module.\n",
      "  warnings.warn(\"downsample module has been moved to the pool module.\")\n"
     ]
    }
   ],
   "source": [
    "import os\n",
    "os.environ['THEANO_FLAGS']='device=gpu'\n",
    "\n",
    "import subprocess\n",
    "import time\n",
    "\n",
    "import matplotlib\n",
    "import matplotlib.pyplot as plt\n",
    "import seaborn as sns\n",
    "%matplotlib inline\n",
    "\n",
    "import numpy as np\n",
    "import pandas as pd\n",
    "\n",
    "#my functions\n",
    "from utils import load_data,my_keras_cv_predict,plot_roc,my_keras_fit_predict\n",
    "\n",
    "#go to working directory\n",
    "work_dir='/mnt/Data1/ribli/mhc/'\n",
    "os.chdir(work_dir)"
   ]
  },
  {
   "cell_type": "markdown",
   "metadata": {},
   "source": [
    "### Load data"
   ]
  },
  {
   "cell_type": "code",
   "execution_count": 3,
   "metadata": {
    "collapsed": false
   },
   "outputs": [
    {
     "name": "stdout",
     "output_type": "stream",
     "text": [
      "Reading from file...\n",
      "Creating representation...\n",
      "Using  137654  training data points\n",
      "Using  27680  testing data points\n",
      "Done, It took: 7.9647321701 s\n"
     ]
    }
   ],
   "source": [
    "X_train,y_train,X_test,y_test=load_data(hla_representation='one-hot',\n",
    "                                        species_representation='one-hot',\n",
    "                                        seq_representation='one-hot')"
   ]
  },
  {
   "cell_type": "markdown",
   "metadata": {},
   "source": [
    "### CV"
   ]
  },
  {
   "cell_type": "code",
   "execution_count": 5,
   "metadata": {
    "collapsed": false,
    "scrolled": false
   },
   "outputs": [
    {
     "name": "stdout",
     "output_type": "stream",
     "text": [
      "Train on 99110 samples, validate on 11013 samples\n",
      "Epoch 1/100\n",
      "2s - loss: 0.4839 - val_loss: 0.4355\n",
      "Epoch 00000: val_loss improved from inf to 0.43546, saving model to best_model\n",
      "Epoch 2/100\n",
      "2s - loss: 0.3762 - val_loss: 0.3556\n",
      "Epoch 00001: val_loss improved from 0.43546 to 0.35558, saving model to best_model\n",
      "Epoch 3/100\n",
      "2s - loss: 0.3136 - val_loss: 0.3327\n",
      "Epoch 00002: val_loss improved from 0.35558 to 0.33265, saving model to best_model\n",
      "Epoch 4/100\n",
      "2s - loss: 0.2800 - val_loss: 0.3160\n",
      "Epoch 00003: val_loss improved from 0.33265 to 0.31597, saving model to best_model\n",
      "Epoch 5/100\n",
      "1s - loss: 0.2543 - val_loss: 0.3120\n",
      "Epoch 00004: val_loss improved from 0.31597 to 0.31199, saving model to best_model\n",
      "Epoch 6/100\n",
      "2s - loss: 0.2330 - val_loss: 0.3239\n",
      "Epoch 00005: val_loss did not improve\n",
      "Epoch 7/100\n",
      "1s - loss: 0.2157 - val_loss: 0.3098\n",
      "Epoch 00006: val_loss improved from 0.31199 to 0.30982, saving model to best_model\n",
      "Epoch 8/100\n",
      "1s - loss: 0.1986 - val_loss: 0.3119\n",
      "Epoch 00007: val_loss did not improve\n",
      "Epoch 9/100\n",
      "1s - loss: 0.1837 - val_loss: 0.3126\n",
      "Epoch 00008: val_loss did not improve\n",
      "Epoch 10/100\n",
      "1s - loss: 0.1692 - val_loss: 0.3186\n",
      "Epoch 00009: val_loss did not improve\n",
      "Epoch 11/100\n",
      "1s - loss: 0.1567 - val_loss: 0.3498\n",
      "Epoch 00010: val_loss did not improve\n",
      "Epoch 00010: early stopping\n",
      "Train on 99110 samples, validate on 11013 samples\n",
      "Epoch 1/100\n",
      "2s - loss: 0.4816 - val_loss: 0.4294\n",
      "Epoch 00000: val_loss improved from inf to 0.42945, saving model to best_model\n",
      "Epoch 2/100\n",
      "2s - loss: 0.3731 - val_loss: 0.3637\n",
      "Epoch 00001: val_loss improved from 0.42945 to 0.36372, saving model to best_model\n",
      "Epoch 3/100\n",
      "2s - loss: 0.3101 - val_loss: 0.3249\n",
      "Epoch 00002: val_loss improved from 0.36372 to 0.32486, saving model to best_model\n",
      "Epoch 4/100\n",
      "2s - loss: 0.2764 - val_loss: 0.3147\n",
      "Epoch 00003: val_loss improved from 0.32486 to 0.31468, saving model to best_model\n",
      "Epoch 5/100\n",
      "2s - loss: 0.2514 - val_loss: 0.3044\n",
      "Epoch 00004: val_loss improved from 0.31468 to 0.30439, saving model to best_model\n",
      "Epoch 6/100\n",
      "2s - loss: 0.2313 - val_loss: 0.3021\n",
      "Epoch 00005: val_loss improved from 0.30439 to 0.30209, saving model to best_model\n",
      "Epoch 7/100\n",
      "2s - loss: 0.2145 - val_loss: 0.3164\n",
      "Epoch 00006: val_loss did not improve\n",
      "Epoch 8/100\n",
      "2s - loss: 0.1980 - val_loss: 0.3028\n",
      "Epoch 00007: val_loss did not improve\n",
      "Epoch 9/100\n",
      "2s - loss: 0.1829 - val_loss: 0.3059\n",
      "Epoch 00008: val_loss did not improve\n",
      "Epoch 10/100\n",
      "2s - loss: 0.1691 - val_loss: 0.3110\n",
      "Epoch 00009: val_loss did not improve\n",
      "Epoch 00009: early stopping\n",
      "Train on 99110 samples, validate on 11013 samples\n",
      "Epoch 1/100\n",
      "2s - loss: 0.4828 - val_loss: 0.4316\n",
      "Epoch 00000: val_loss improved from inf to 0.43163, saving model to best_model\n",
      "Epoch 2/100\n",
      "2s - loss: 0.3738 - val_loss: 0.3576\n",
      "Epoch 00001: val_loss improved from 0.43163 to 0.35762, saving model to best_model\n",
      "Epoch 3/100\n",
      "2s - loss: 0.3116 - val_loss: 0.3302\n",
      "Epoch 00002: val_loss improved from 0.35762 to 0.33020, saving model to best_model\n",
      "Epoch 4/100\n",
      "2s - loss: 0.2786 - val_loss: 0.3204\n",
      "Epoch 00003: val_loss improved from 0.33020 to 0.32044, saving model to best_model\n",
      "Epoch 5/100\n",
      "2s - loss: 0.2543 - val_loss: 0.3123\n",
      "Epoch 00004: val_loss improved from 0.32044 to 0.31230, saving model to best_model\n",
      "Epoch 6/100\n",
      "2s - loss: 0.2330 - val_loss: 0.3121\n",
      "Epoch 00005: val_loss improved from 0.31230 to 0.31207, saving model to best_model\n",
      "Epoch 7/100\n",
      "2s - loss: 0.2156 - val_loss: 0.3102\n",
      "Epoch 00006: val_loss improved from 0.31207 to 0.31023, saving model to best_model\n",
      "Epoch 8/100\n",
      "2s - loss: 0.1996 - val_loss: 0.3253\n",
      "Epoch 00007: val_loss did not improve\n",
      "Epoch 9/100\n",
      "1s - loss: 0.1845 - val_loss: 0.3135\n",
      "Epoch 00008: val_loss did not improve\n",
      "Epoch 10/100\n",
      "1s - loss: 0.1692 - val_loss: 0.3255\n",
      "Epoch 00009: val_loss did not improve\n",
      "Epoch 11/100\n",
      "1s - loss: 0.1563 - val_loss: 0.3310\n",
      "Epoch 00010: val_loss did not improve\n",
      "Epoch 00010: early stopping\n",
      "Train on 99110 samples, validate on 11013 samples\n",
      "Epoch 1/100\n",
      "2s - loss: 0.4829 - val_loss: 0.4274\n",
      "Epoch 00000: val_loss improved from inf to 0.42741, saving model to best_model\n",
      "Epoch 2/100\n",
      "2s - loss: 0.3699 - val_loss: 0.3511\n",
      "Epoch 00001: val_loss improved from 0.42741 to 0.35105, saving model to best_model\n",
      "Epoch 3/100\n",
      "2s - loss: 0.3102 - val_loss: 0.3255\n",
      "Epoch 00002: val_loss improved from 0.35105 to 0.32551, saving model to best_model\n",
      "Epoch 4/100\n",
      "2s - loss: 0.2783 - val_loss: 0.3180\n",
      "Epoch 00003: val_loss improved from 0.32551 to 0.31800, saving model to best_model\n",
      "Epoch 5/100\n",
      "2s - loss: 0.2544 - val_loss: 0.3111\n",
      "Epoch 00004: val_loss improved from 0.31800 to 0.31109, saving model to best_model\n",
      "Epoch 6/100\n",
      "2s - loss: 0.2333 - val_loss: 0.3147\n",
      "Epoch 00005: val_loss did not improve\n",
      "Epoch 7/100\n",
      "2s - loss: 0.2159 - val_loss: 0.3084\n",
      "Epoch 00006: val_loss improved from 0.31109 to 0.30842, saving model to best_model\n",
      "Epoch 8/100\n",
      "2s - loss: 0.1997 - val_loss: 0.3220\n",
      "Epoch 00007: val_loss did not improve\n",
      "Epoch 9/100\n",
      "2s - loss: 0.1845 - val_loss: 0.3183\n",
      "Epoch 00008: val_loss did not improve\n",
      "Epoch 10/100\n",
      "2s - loss: 0.1707 - val_loss: 0.3154\n",
      "Epoch 00009: val_loss did not improve\n",
      "Epoch 11/100\n",
      "2s - loss: 0.1584 - val_loss: 0.3292\n",
      "Epoch 00010: val_loss did not improve\n",
      "Epoch 00010: early stopping\n",
      "Train on 99111 samples, validate on 11013 samples\n",
      "Epoch 1/100\n",
      "2s - loss: 0.4831 - val_loss: 0.4284\n",
      "Epoch 00000: val_loss improved from inf to 0.42844, saving model to best_model\n",
      "Epoch 2/100\n",
      "2s - loss: 0.3785 - val_loss: 0.3451\n",
      "Epoch 00001: val_loss improved from 0.42844 to 0.34505, saving model to best_model\n",
      "Epoch 3/100\n",
      "2s - loss: 0.3140 - val_loss: 0.3140\n",
      "Epoch 00002: val_loss improved from 0.34505 to 0.31404, saving model to best_model\n",
      "Epoch 4/100\n",
      "2s - loss: 0.2793 - val_loss: 0.3166\n",
      "Epoch 00003: val_loss did not improve\n",
      "Epoch 5/100\n",
      "2s - loss: 0.2548 - val_loss: 0.3185\n",
      "Epoch 00004: val_loss did not improve\n",
      "Epoch 6/100\n",
      "1s - loss: 0.2346 - val_loss: 0.2982\n",
      "Epoch 00005: val_loss improved from 0.31404 to 0.29823, saving model to best_model\n",
      "Epoch 7/100\n",
      "1s - loss: 0.2166 - val_loss: 0.2954\n",
      "Epoch 00006: val_loss improved from 0.29823 to 0.29539, saving model to best_model\n",
      "Epoch 8/100\n",
      "1s - loss: 0.1988 - val_loss: 0.3091\n",
      "Epoch 00007: val_loss did not improve\n",
      "Epoch 9/100\n",
      "2s - loss: 0.1851 - val_loss: 0.2990\n",
      "Epoch 00008: val_loss did not improve\n",
      "Epoch 10/100\n",
      "2s - loss: 0.1688 - val_loss: 0.3035\n",
      "Epoch 00009: val_loss did not improve\n",
      "Epoch 11/100\n",
      "2s - loss: 0.1568 - val_loss: 0.3062\n",
      "Epoch 00010: val_loss did not improve\n",
      "Epoch 00010: early stopping\n"
     ]
    }
   ],
   "source": [
    "#create a very simple deepish model\n",
    "from keras.models import Sequential\n",
    "from keras.layers import Dense\n",
    "\n",
    "#create model creator\n",
    "def get_model(input_dim):\n",
    "    \"\"\"Creates Keras model needed.\"\"\"\n",
    "    model = Sequential()\n",
    "    model.add(Dense(512, input_dim=input_dim,activation='relu'))\n",
    "    model.add(Dense(1,activation='sigmoid'))\n",
    "    model.compile(loss='binary_crossentropy', optimizer='adam')\n",
    "    return model\n",
    "\n",
    "#train\n",
    "y_train_pred=my_keras_cv_predict(get_model,X_train,y_train,n_folds=5,patience=3,verbose=2)"
   ]
  },
  {
   "cell_type": "code",
   "execution_count": 7,
   "metadata": {
    "collapsed": false
   },
   "outputs": [
    {
     "name": "stdout",
     "output_type": "stream",
     "text": [
      "AUC: 0.925905175227\n"
     ]
    },
    {
     "data": {
      "image/png": "[encoded data removed]",
      "text/plain": [
       "<matplotlib.figure.Figure at 0x7f01af9696d0>"
      ]
     },
     "metadata": {},
     "output_type": "display_data"
    }
   ],
   "source": [
    "plot_roc(y_train,y_train_pred)"
   ]
  },
  {
   "cell_type": "markdown",
   "metadata": {},
   "source": [
    "---\n",
    "\n",
    "### Predict on blind data"
   ]
  },
  {
   "cell_type": "code",
   "execution_count": 10,
   "metadata": {
    "collapsed": false
   },
   "outputs": [
    {
     "name": "stdout",
     "output_type": "stream",
     "text": [
      "Train on 123888 samples, validate on 13766 samples\n",
      "Epoch 1/100\n",
      "123888/123888 [==============================] - 4s - loss: 0.4679 - val_loss: 0.3992\n",
      "Epoch 00000: val_loss improved from inf to 0.39922, saving model to best_model\n",
      "Epoch 2/100\n",
      "123888/123888 [==============================] - 2s - loss: 0.3493 - val_loss: 0.3365\n",
      "Epoch 00001: val_loss improved from 0.39922 to 0.33653, saving model to best_model\n",
      "Epoch 3/100\n",
      "123888/123888 [==============================] - 2s - loss: 0.2979 - val_loss: 0.3150\n",
      "Epoch 00002: val_loss improved from 0.33653 to 0.31495, saving model to best_model\n",
      "Epoch 4/100\n",
      "123888/123888 [==============================] - 2s - loss: 0.2694 - val_loss: 0.3213\n",
      "Epoch 00003: val_loss did not improve\n",
      "Epoch 5/100\n",
      "123888/123888 [==============================] - 2s - loss: 0.2472 - val_loss: 0.3083\n",
      "Epoch 00004: val_loss improved from 0.31495 to 0.30826, saving model to best_model\n",
      "Epoch 6/100\n",
      "123888/123888 [==============================] - 2s - loss: 0.2280 - val_loss: 0.3012\n",
      "Epoch 00005: val_loss improved from 0.30826 to 0.30123, saving model to best_model\n",
      "Epoch 7/100\n",
      "123888/123888 [==============================] - 2s - loss: 0.2128 - val_loss: 0.2920\n",
      "Epoch 00006: val_loss improved from 0.30123 to 0.29197, saving model to best_model\n",
      "Epoch 8/100\n",
      "123888/123888 [==============================] - 2s - loss: 0.1969 - val_loss: 0.2979\n",
      "Epoch 00007: val_loss did not improve\n",
      "Epoch 9/100\n",
      "123888/123888 [==============================] - 2s - loss: 0.1835 - val_loss: 0.2991\n",
      "Epoch 00008: val_loss did not improve\n",
      "Epoch 10/100\n",
      "123888/123888 [==============================] - 2s - loss: 0.1720 - val_loss: 0.3039\n",
      "Epoch 00009: val_loss did not improve\n",
      "Epoch 11/100\n",
      "123888/123888 [==============================] - 2s - loss: 0.1591 - val_loss: 0.3112\n",
      "Epoch 00010: val_loss did not improve\n",
      "Epoch 00010: early stopping\n"
     ]
    }
   ],
   "source": [
    "y_test_pred=my_keras_fit_predict(get_model,X_train,y_train,X_test,\n",
    "                      validation_split=0.1,patience=3,nb_epoch=100)"
   ]
  },
  {
   "cell_type": "code",
   "execution_count": 11,
   "metadata": {
    "collapsed": false
   },
   "outputs": [
    {
     "name": "stdout",
     "output_type": "stream",
     "text": [
      "AUC: 0.904934962475\n"
     ]
    },
    {
     "data": {
      "image/png": "[encoded data removed]",
      "text/plain": [
       "<matplotlib.figure.Figure at 0x7f01a1e26e50>"
      ]
     },
     "metadata": {},
     "output_type": "display_data"
    }
   ],
   "source": [
    "plot_roc(y_test,y_test_pred)"
   ]
  },
  {
   "cell_type": "markdown",
   "metadata": {},
   "source": [
    "---\n",
    "\n",
    "### Conclusion: passed 'state of the art'\n",
    "\n",
    "Method | CV | Blind test\n",
    "--- | --- | ---\n",
    "SMMPMBEC | 0.8989 | 0.8474\n",
    "NetMHC | 0.8930 | 0.8833\n",
    "NetMHCpan |0.9176 | 0.8830\n",
    "2layer net | **0.9259** | **0.9049**\n",
    "\n",
    "\n",
    "---\n",
    "\n"
   ]
  }
 ],
 "metadata": {
  "kernelspec": {
   "display_name": "Python 2",
   "language": "python",
   "name": "python2"
  },
  "language_info": {
   "codemirror_mode": {
    "name": "ipython",
    "version": 2
   },
   "file_extension": ".py",
   "mimetype": "text/x-python",
   "name": "python",
   "nbconvert_exporter": "python",
   "pygments_lexer": "ipython2",
   "version": "2.7.11"
  }
 },
 "nbformat": 4,
 "nbformat_minor": 0
}

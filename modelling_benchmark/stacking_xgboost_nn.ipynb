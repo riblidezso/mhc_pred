{
 "cells": [
  {
   "cell_type": "markdown",
   "metadata": {},
   "source": [
    "# Benchmarking binding classification with XGBoost and NN stacked\n",
    "\n",
    "\n",
    "----\n",
    "\n",
    "Stacking xgboost and NN predictions in a meta estimator.\n",
    "\n",
    "----\n",
    "\n",
    "- Cross validation using the train data and evaluation on 'blind test set'.\n",
    "\n",
    "- Using all observations (all species, </=/> values too)\n",
    "\n",
    "- simple one-hot encoding scheme for all categorical variables (species, hla type/subtypes,sequence)\n",
    "\n",
    "- This is the best i can do now\n",
    "\n",
    "\n",
    "----"
   ]
  },
  {
   "cell_type": "code",
   "execution_count": 1,
   "metadata": {
    "collapsed": false
   },
   "outputs": [
    {
     "name": "stderr",
     "output_type": "stream",
     "text": [
      "Using Theano backend.\n",
      "Using gpu device 1: GeForce GTX 670 (CNMeM is enabled with initial size: 95.0% of memory, cuDNN 5004)\n"
     ]
    }
   ],
   "source": [
    "import os,sys\n",
    "os.environ['THEANO_FLAGS']='device=gpu1'\n",
    "\n",
    "#my functions\n",
    "sys.path.append('../')\n",
    "from utils import load_data,my_xgb_cv_predict,my_xgb_fit_predict,my_keras_cv_predict,my_keras_fit_predict,plot_roc\n",
    "\n",
    "#go to working dir\n",
    "work_dir='/data/data1/ribli/mhc/'\n",
    "os.chdir(work_dir)\n",
    "\n",
    "%matplotlib inline"
   ]
  },
  {
   "cell_type": "markdown",
   "metadata": {},
   "source": [
    "### Load train and test data"
   ]
  },
  {
   "cell_type": "code",
   "execution_count": 2,
   "metadata": {
    "collapsed": false
   },
   "outputs": [],
   "source": [
    "X_train,y_train,y_train_c,X_test,y_test,y_test_c,=load_data(\n",
    "    hla_representation='one-hot',\n",
    "    species_representation='one-hot',\n",
    "    seq_representation='one-hot')"
   ]
  },
  {
   "cell_type": "markdown",
   "metadata": {},
   "source": [
    "----\n",
    "\n",
    "\n",
    "### Get xgboost CV predictions on train data, and test data\n"
   ]
  },
  {
   "cell_type": "code",
   "execution_count": 3,
   "metadata": {
    "collapsed": false
   },
   "outputs": [
    {
     "name": "stderr",
     "output_type": "stream",
     "text": [
      "Will train until eval error hasn't decreased in 200 rounds.\n",
      "[0]\ttrain-auc:0.840747\teval-auc:0.816781\n",
      "[500]\ttrain-auc:0.991175\teval-auc:0.925939\n",
      "[1000]\ttrain-auc:0.997229\teval-auc:0.927180\n",
      "[1500]\ttrain-auc:0.998937\teval-auc:0.927381\n",
      "Stopping. Best iteration:\n",
      "[1574]\ttrain-auc:0.999076\teval-auc:0.927458\n",
      "\n",
      "Will train until eval error hasn't decreased in 200 rounds.\n",
      "[0]\ttrain-auc:0.818925\teval-auc:0.786143\n",
      "[500]\ttrain-auc:0.990922\teval-auc:0.929861\n",
      "[1000]\ttrain-auc:0.997037\teval-auc:0.931522\n",
      "Stopping. Best iteration:\n",
      "[1086]\ttrain-auc:0.997519\teval-auc:0.931662\n",
      "\n",
      "Will train until eval error hasn't decreased in 200 rounds.\n",
      "[0]\ttrain-auc:0.834966\teval-auc:0.808328\n",
      "[500]\ttrain-auc:0.990853\teval-auc:0.931654\n",
      "[1000]\ttrain-auc:0.996985\teval-auc:0.933061\n",
      "Stopping. Best iteration:\n",
      "[1034]\ttrain-auc:0.997187\teval-auc:0.933136\n",
      "\n",
      "Will train until eval error hasn't decreased in 200 rounds.\n",
      "[0]\ttrain-auc:0.827853\teval-auc:0.804454\n",
      "[500]\ttrain-auc:0.991164\teval-auc:0.927565\n",
      "Stopping. Best iteration:\n",
      "[753]\ttrain-auc:0.995275\teval-auc:0.928691\n",
      "\n",
      "Will train until eval error hasn't decreased in 200 rounds.\n",
      "[0]\ttrain-auc:0.814892\teval-auc:0.793839\n",
      "[500]\ttrain-auc:0.991042\teval-auc:0.935626\n",
      "[1000]\ttrain-auc:0.997099\teval-auc:0.936235\n",
      "Stopping. Best iteration:\n",
      "[944]\ttrain-auc:0.996751\teval-auc:0.936331\n",
      "\n",
      "Will train until eval error hasn't decreased in 200 rounds.\n",
      "[0]\ttrain-auc:0.828882\teval-auc:0.802276\n",
      "[500]\ttrain-auc:0.989832\teval-auc:0.936033\n",
      "[1000]\ttrain-auc:0.996347\teval-auc:0.938013\n",
      "Stopping. Best iteration:\n",
      "[1293]\ttrain-auc:0.997776\teval-auc:0.938096\n",
      "\n"
     ]
    }
   ],
   "source": [
    "#model params\n",
    "params = {'max_depth':20,\n",
    "         'eta':0.1,\n",
    "         'min_child_weight':5,\n",
    "         'colsample_bytree':1,\n",
    "         'subsample':1,\n",
    "         'silent':1,\n",
    "         'objective': \"binary:logistic\",\n",
    "         'eval_metric': 'auc',\n",
    "         'nthread':8}\n",
    "\n",
    "xgb_train_pred=my_xgb_cv_predict(params,X_train,y_train_c,n_folds=5)\n",
    "\n",
    "xgb_test_pred=my_xgb_fit_predict(params,X_train,y_train_c,X_test,\n",
    "                       num_boost_round=5000,verbose_eval=500,\n",
    "                       early_stopping_rounds=200,\n",
    "                       validation_size=0.1)"
   ]
  },
  {
   "cell_type": "markdown",
   "metadata": {},
   "source": [
    "### Do the same with NN"
   ]
  },
  {
   "cell_type": "code",
   "execution_count": 10,
   "metadata": {
    "collapsed": false
   },
   "outputs": [
    {
     "name": "stdout",
     "output_type": "stream",
     "text": [
      "Train on 99110 samples, validate on 11013 samples\n",
      "Epoch 1/100\n",
      "Epoch 00000: val_loss improved from inf to 0.34722, saving model to best_model\n",
      "2s - loss: 0.4286 - val_loss: 0.3472\n",
      "Epoch 2/100\n",
      "Epoch 00001: val_loss improved from 0.34722 to 0.30947, saving model to best_model\n",
      "2s - loss: 0.3229 - val_loss: 0.3095\n",
      "Epoch 3/100\n",
      "Epoch 00002: val_loss improved from 0.30947 to 0.29652, saving model to best_model\n",
      "2s - loss: 0.2823 - val_loss: 0.2965\n",
      "Epoch 4/100\n",
      "Epoch 00003: val_loss did not improve\n",
      "2s - loss: 0.2522 - val_loss: 0.3066\n",
      "Epoch 5/100\n",
      "Epoch 00004: val_loss did not improve\n",
      "2s - loss: 0.2278 - val_loss: 0.3101\n",
      "Epoch 6/100\n",
      "Epoch 00005: val_loss did not improve\n",
      "2s - loss: 0.2069 - val_loss: 0.3011\n",
      "Epoch 7/100\n",
      "Epoch 00006: val_loss did not improve\n",
      "Epoch 00006: early stopping\n",
      "2s - loss: 0.1857 - val_loss: 0.3146\n",
      "Train on 99110 samples, validate on 11013 samples\n",
      "Epoch 1/100\n",
      "Epoch 00000: val_loss improved from inf to 0.34414, saving model to best_model\n",
      "2s - loss: 0.4243 - val_loss: 0.3441\n",
      "Epoch 2/100\n",
      "Epoch 00001: val_loss improved from 0.34414 to 0.30493, saving model to best_model\n",
      "2s - loss: 0.3175 - val_loss: 0.3049\n",
      "Epoch 3/100\n",
      "Epoch 00002: val_loss improved from 0.30493 to 0.30458, saving model to best_model\n",
      "2s - loss: 0.2764 - val_loss: 0.3046\n",
      "Epoch 4/100\n",
      "Epoch 00003: val_loss improved from 0.30458 to 0.30367, saving model to best_model\n",
      "2s - loss: 0.2503 - val_loss: 0.3037\n",
      "Epoch 5/100\n",
      "Epoch 00004: val_loss improved from 0.30367 to 0.29910, saving model to best_model\n",
      "2s - loss: 0.2251 - val_loss: 0.2991\n",
      "Epoch 6/100\n",
      "Epoch 00005: val_loss did not improve\n",
      "2s - loss: 0.2044 - val_loss: 0.3360\n",
      "Epoch 7/100\n",
      "Epoch 00006: val_loss did not improve\n",
      "2s - loss: 0.1844 - val_loss: 0.3079\n",
      "Epoch 8/100\n",
      "Epoch 00007: val_loss did not improve\n",
      "2s - loss: 0.1676 - val_loss: 0.3282\n",
      "Epoch 9/100\n",
      "Epoch 00008: val_loss did not improve\n",
      "Epoch 00008: early stopping\n",
      "2s - loss: 0.1511 - val_loss: 0.3296\n",
      "Train on 99110 samples, validate on 11013 samples\n",
      "Epoch 1/100\n",
      "Epoch 00000: val_loss improved from inf to 0.34704, saving model to best_model\n",
      "2s - loss: 0.4293 - val_loss: 0.3470\n",
      "Epoch 2/100\n",
      "Epoch 00001: val_loss improved from 0.34704 to 0.31002, saving model to best_model\n",
      "2s - loss: 0.3211 - val_loss: 0.3100\n",
      "Epoch 3/100\n",
      "Epoch 00002: val_loss improved from 0.31002 to 0.29645, saving model to best_model\n",
      "2s - loss: 0.2791 - val_loss: 0.2965\n",
      "Epoch 4/100\n",
      "Epoch 00003: val_loss did not improve\n",
      "2s - loss: 0.2517 - val_loss: 0.2967\n",
      "Epoch 5/100\n",
      "Epoch 00004: val_loss improved from 0.29645 to 0.29289, saving model to best_model\n",
      "2s - loss: 0.2277 - val_loss: 0.2929\n",
      "Epoch 6/100\n",
      "Epoch 00005: val_loss did not improve\n",
      "2s - loss: 0.2078 - val_loss: 0.3172\n",
      "Epoch 7/100\n",
      "Epoch 00006: val_loss did not improve\n",
      "2s - loss: 0.1867 - val_loss: 0.3044\n",
      "Epoch 8/100\n",
      "Epoch 00007: val_loss did not improve\n",
      "2s - loss: 0.1691 - val_loss: 0.3182\n",
      "Epoch 9/100\n",
      "Epoch 00008: val_loss did not improve\n",
      "Epoch 00008: early stopping\n",
      "2s - loss: 0.1523 - val_loss: 0.3254\n",
      "Train on 99110 samples, validate on 11013 samples\n",
      "Epoch 1/100\n",
      "Epoch 00000: val_loss improved from inf to 0.35781, saving model to best_model\n",
      "2s - loss: 0.4271 - val_loss: 0.3578\n",
      "Epoch 2/100\n",
      "Epoch 00001: val_loss improved from 0.35781 to 0.30770, saving model to best_model\n",
      "2s - loss: 0.3193 - val_loss: 0.3077\n",
      "Epoch 3/100\n",
      "Epoch 00002: val_loss improved from 0.30770 to 0.29297, saving model to best_model\n",
      "2s - loss: 0.2786 - val_loss: 0.2930\n",
      "Epoch 4/100\n",
      "Epoch 00003: val_loss did not improve\n",
      "2s - loss: 0.2512 - val_loss: 0.3001\n",
      "Epoch 5/100\n",
      "Epoch 00004: val_loss did not improve\n",
      "2s - loss: 0.2280 - val_loss: 0.2988\n",
      "Epoch 6/100\n",
      "Epoch 00005: val_loss did not improve\n",
      "2s - loss: 0.2064 - val_loss: 0.3032\n",
      "Epoch 7/100\n",
      "Epoch 00006: val_loss did not improve\n",
      "Epoch 00006: early stopping\n",
      "2s - loss: 0.1872 - val_loss: 0.3079\n",
      "Train on 99111 samples, validate on 11013 samples\n",
      "Epoch 1/100\n",
      "Epoch 00000: val_loss improved from inf to 0.34532, saving model to best_model\n",
      "2s - loss: 0.4266 - val_loss: 0.3453\n",
      "Epoch 2/100\n",
      "Epoch 00001: val_loss improved from 0.34532 to 0.30843, saving model to best_model\n",
      "2s - loss: 0.3205 - val_loss: 0.3084\n",
      "Epoch 3/100\n",
      "Epoch 00002: val_loss improved from 0.30843 to 0.29775, saving model to best_model\n",
      "2s - loss: 0.2779 - val_loss: 0.2977\n",
      "Epoch 4/100\n",
      "Epoch 00003: val_loss improved from 0.29775 to 0.29179, saving model to best_model\n",
      "2s - loss: 0.2509 - val_loss: 0.2918\n",
      "Epoch 5/100\n",
      "Epoch 00004: val_loss did not improve\n",
      "2s - loss: 0.2271 - val_loss: 0.2997\n",
      "Epoch 6/100\n",
      "Epoch 00005: val_loss did not improve\n",
      "2s - loss: 0.2057 - val_loss: 0.3146\n",
      "Epoch 7/100\n",
      "Epoch 00006: val_loss did not improve\n",
      "2s - loss: 0.1872 - val_loss: 0.3279\n",
      "Epoch 8/100\n",
      "Epoch 00007: val_loss did not improve\n",
      "Epoch 00007: early stopping\n",
      "2s - loss: 0.1694 - val_loss: 0.3229\n",
      "Train on 123888 samples, validate on 13766 samples\n",
      "Epoch 1/100\n",
      "123712/123888 [============================>.] - ETA: 0s - loss: 0.4126Epoch 00000: val_loss improved from inf to 0.34697, saving model to best_model\n",
      "123888/123888 [==============================] - 3s - loss: 0.4125 - val_loss: 0.3470\n",
      "Epoch 2/100\n",
      "123616/123888 [============================>.] - ETA: 0s - loss: 0.3094Epoch 00001: val_loss improved from 0.34697 to 0.30061, saving model to best_model\n",
      "123888/123888 [==============================] - 3s - loss: 0.3093 - val_loss: 0.3006\n",
      "Epoch 3/100\n",
      "123616/123888 [============================>.] - ETA: 0s - loss: 0.2735Epoch 00002: val_loss improved from 0.30061 to 0.28785, saving model to best_model\n",
      "123888/123888 [==============================] - 3s - loss: 0.2734 - val_loss: 0.2878\n",
      "Epoch 4/100\n",
      "123744/123888 [============================>.] - ETA: 0s - loss: 0.2477Epoch 00003: val_loss did not improve\n",
      "123888/123888 [==============================] - 3s - loss: 0.2477 - val_loss: 0.2929\n",
      "Epoch 5/100\n",
      "123744/123888 [============================>.] - ETA: 0s - loss: 0.2267Epoch 00004: val_loss did not improve\n",
      "123888/123888 [==============================] - 3s - loss: 0.2267 - val_loss: 0.2931\n",
      "Epoch 6/100\n",
      "123840/123888 [============================>.] - ETA: 0s - loss: 0.2066Epoch 00005: val_loss did not improve\n",
      "123888/123888 [==============================] - 3s - loss: 0.2067 - val_loss: 0.3023\n",
      "Epoch 7/100\n",
      "123776/123888 [============================>.] - ETA: 0s - loss: 0.1896Epoch 00006: val_loss did not improve\n",
      "Epoch 00006: early stopping\n",
      "123888/123888 [==============================] - 3s - loss: 0.1896 - val_loss: 0.2968\n"
     ]
    }
   ],
   "source": [
    "#create a very simple model\n",
    "from keras.models import Sequential\n",
    "from keras.layers import Dense\n",
    "\n",
    "#create model creator\n",
    "def get_model(input_dim):\n",
    "    \"\"\"Creates Keras model needed.\"\"\"\n",
    "    model = Sequential()\n",
    "    model.add(Dense(512, input_dim=input_dim,activation='relu'))\n",
    "    model.add(Dense(1,activation='sigmoid'))\n",
    "    model.compile(loss='binary_crossentropy', optimizer='adam')\n",
    "    return model\n",
    "\n",
    "#predict CV\n",
    "nn_train_pred=my_keras_cv_predict(get_model,X_train,y_train_c,n_folds=5,patience=3,verbose=2)\n",
    "\n",
    "#predict test set\n",
    "nn_test_pred=my_keras_fit_predict(get_model,X_train,y_train_c,X_test,\n",
    "                      validation_split=0.1,patience=3,nb_epoch=100)"
   ]
  },
  {
   "cell_type": "markdown",
   "metadata": {},
   "source": [
    "### Create stacked inputs"
   ]
  },
  {
   "cell_type": "code",
   "execution_count": 11,
   "metadata": {
    "collapsed": false
   },
   "outputs": [],
   "source": [
    "import numpy as np\n",
    "X_train_stacked=np.column_stack([X_train,xgb_train_pred,nn_train_pred])\n",
    "X_test_stacked=np.column_stack([X_test,xgb_test_pred,nn_test_pred])\n",
    "\n",
    "#save them for the future\n",
    "np.save('stacked_x_train',X_train_stacked)\n",
    "np.save('stacked_x_test',X_test_stacked)"
   ]
  },
  {
   "cell_type": "markdown",
   "metadata": {},
   "source": [
    "### Make prediction with xgb on the stacked inputs"
   ]
  },
  {
   "cell_type": "code",
   "execution_count": 93,
   "metadata": {
    "collapsed": false
   },
   "outputs": [
    {
     "name": "stderr",
     "output_type": "stream",
     "text": [
      "Will train until eval error hasn't decreased in 200 rounds.\n",
      "[0]\ttrain-auc:0.909587\teval-auc:0.911229\n",
      "Stopping. Best iteration:\n",
      "[111]\ttrain-auc:0.937195\teval-auc:0.938315\n",
      "\n",
      "Will train until eval error hasn't decreased in 200 rounds.\n",
      "[0]\ttrain-auc:0.910550\teval-auc:0.914403\n",
      "Stopping. Best iteration:\n",
      "[79]\ttrain-auc:0.937841\teval-auc:0.938805\n",
      "\n",
      "Will train until eval error hasn't decreased in 200 rounds.\n",
      "[0]\ttrain-auc:0.910032\teval-auc:0.911884\n",
      "Stopping. Best iteration:\n",
      "[83]\ttrain-auc:0.938123\teval-auc:0.936311\n",
      "\n",
      "Will train until eval error hasn't decreased in 200 rounds.\n",
      "[0]\ttrain-auc:0.909331\teval-auc:0.912317\n",
      "Stopping. Best iteration:\n",
      "[122]\ttrain-auc:0.938615\teval-auc:0.938433\n",
      "\n",
      "Will train until eval error hasn't decreased in 200 rounds.\n",
      "[0]\ttrain-auc:0.908376\teval-auc:0.912621\n",
      "Stopping. Best iteration:\n",
      "[83]\ttrain-auc:0.937550\teval-auc:0.938755\n",
      "\n",
      "Will train until eval error hasn't decreased in 200 rounds.\n",
      "[0]\ttrain-auc:0.909954\teval-auc:0.910380\n",
      "[500]\ttrain-auc:0.939266\teval-auc:0.937646\n",
      "Stopping. Best iteration:\n",
      "[312]\ttrain-auc:0.938671\teval-auc:0.937690\n",
      "\n"
     ]
    }
   ],
   "source": [
    "params = {'max_depth':2,\n",
    "         'eta':0.1,\n",
    "         'min_child_weight':5,\n",
    "         'colsample_bytree':1,\n",
    "         'subsample':1,\n",
    "         'silent':1,\n",
    "         'objective': \"binary:logistic\",\n",
    "         'eval_metric': 'auc',\n",
    "         'nthread':8}\n",
    "\n",
    "\n",
    "xgb_stacked_train_pred=my_xgb_cv_predict(params,X_train_stacked,y_train_c,n_folds=5)\n",
    "\n",
    "xgb_stacked_test_pred=my_xgb_fit_predict(params,X_train_stacked,y_train_c,X_test_stacked,\n",
    "                       num_boost_round=5000,verbose_eval=500,\n",
    "                       early_stopping_rounds=200,\n",
    "                       validation_size=0.1)"
   ]
  },
  {
   "cell_type": "markdown",
   "metadata": {},
   "source": [
    "### Evaluate"
   ]
  },
  {
   "cell_type": "code",
   "execution_count": 94,
   "metadata": {
    "collapsed": true
   },
   "outputs": [],
   "source": [
    "from sklearn.metrics import roc_auc_score\n",
    "from sklearn.utils import resample\n",
    "def bootstrap_auc(y_c,y_pred,N=100):\n",
    "    \"\"\"Bootstrap the AUC score.\"\"\"\n",
    "    scores=[]\n",
    "    for i in xrange(N):\n",
    "        res_y=resample(np.column_stack([y_c,y_pred]))\n",
    "        scores.append(roc_auc_score(res_y[:,0],res_y[:,1]))\n",
    "        \n",
    "    print 'Score is :', '%.4f' % np.mean(scores),\n",
    "    print '+-','%.4f' % np.std(scores)"
   ]
  },
  {
   "cell_type": "code",
   "execution_count": 95,
   "metadata": {
    "collapsed": false
   },
   "outputs": [
    {
     "name": "stdout",
     "output_type": "stream",
     "text": [
      "Score is : 0.9362 +- 0.0006\n"
     ]
    }
   ],
   "source": [
    "bootstrap_auc(y_train_c,xgb_stacked_train_pred)"
   ]
  },
  {
   "cell_type": "code",
   "execution_count": 96,
   "metadata": {
    "collapsed": false
   },
   "outputs": [
    {
     "name": "stdout",
     "output_type": "stream",
     "text": [
      "AUC: 0.936296021463\n"
     ]
    },
    {
     "data": {
      "image/png": "[encoded data removed]",
      "text/plain": [
       "<matplotlib.figure.Figure at 0x7ff25d78fd50>"
      ]
     },
     "metadata": {},
     "output_type": "display_data"
    }
   ],
   "source": [
    "plot_roc(y_train_c,xgb_stacked_train_pred)"
   ]
  },
  {
   "cell_type": "code",
   "execution_count": 97,
   "metadata": {
    "collapsed": false
   },
   "outputs": [
    {
     "name": "stdout",
     "output_type": "stream",
     "text": [
      "Score is : 0.9163 +- 0.0018\n"
     ]
    }
   ],
   "source": [
    "bootstrap_auc(y_test_c,xgb_stacked_test_pred)"
   ]
  },
  {
   "cell_type": "code",
   "execution_count": 98,
   "metadata": {
    "collapsed": false
   },
   "outputs": [
    {
     "name": "stdout",
     "output_type": "stream",
     "text": [
      "AUC: 0.916494400545\n"
     ]
    },
    {
     "data": {
      "image/png": "[encoded data removed]",
      "text/plain": [
       "<matplotlib.figure.Figure at 0x7ff26d3e9a10>"
      ]
     },
     "metadata": {},
     "output_type": "display_data"
    }
   ],
   "source": [
    "plot_roc(y_test_c,xgb_stacked_test_pred)"
   ]
  },
  {
   "cell_type": "markdown",
   "metadata": {},
   "source": [
    "---\n",
    "\n",
    "## Conclusion: passed 'state of the art'\n",
    "\n",
    "Method | CV | Blind test\n",
    "--- | --- | ---\n",
    "SMMPMBEC | 0.8989 | 0.8474\n",
    "NetMHC | 0.8930 | 0.8833\n",
    "NetMHCpan |0.9176 | 0.8830\n",
    "xgboost + NN |**0.9362** | **0.9163**\n",
    "\n",
    "\n",
    "---\n"
   ]
  }
 ],
 "metadata": {
  "kernelspec": {
   "display_name": "Python 2",
   "language": "python",
   "name": "python2"
  },
  "language_info": {
   "codemirror_mode": {
    "name": "ipython",
    "version": 2
   },
   "file_extension": ".py",
   "mimetype": "text/x-python",
   "name": "python",
   "nbconvert_exporter": "python",
   "pygments_lexer": "ipython2",
   "version": "2.7.11"
  }
 },
 "nbformat": 4,
 "nbformat_minor": 0
}

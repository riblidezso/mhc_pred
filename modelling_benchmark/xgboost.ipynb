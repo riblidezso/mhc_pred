{
 "cells": [
  {
   "cell_type": "markdown",
   "metadata": {},
   "source": [
    "# Benchmarking binding classification with XGBoost \n",
    "\n",
    "\n",
    "----\n",
    "\n",
    "- Cross validation using the train data and evaluation on 'blind test set'.\n",
    "\n",
    "- Using all observations (all species, </=/> values too)\n",
    "\n",
    "- simple one-hot encoding scheme for all categorical variables (species, hla type/subtypes,sequence)\n",
    "\n",
    "- This is the best i can do now\n",
    "\n",
    "\n",
    "----"
   ]
  },
  {
   "cell_type": "code",
   "execution_count": 1,
   "metadata": {
    "collapsed": false
   },
   "outputs": [
    {
     "name": "stderr",
     "output_type": "stream",
     "text": [
      "Using Theano backend.\n"
     ]
    }
   ],
   "source": [
    "import os,sys\n",
    "\n",
    "#my functions\n",
    "sys.path.append('../')\n",
    "from utils import load_data,my_xgb_cv_predict,my_xgb_fit_predict,plot_roc\n",
    "\n",
    "#go to working dir\n",
    "work_dir='/data/data1/ribli/mhc/'\n",
    "os.chdir(work_dir)\n",
    "\n",
    "%matplotlib inline"
   ]
  },
  {
   "cell_type": "markdown",
   "metadata": {},
   "source": [
    "### Load train and test data"
   ]
  },
  {
   "cell_type": "code",
   "execution_count": 2,
   "metadata": {
    "collapsed": false
   },
   "outputs": [
    {
     "name": "stdout",
     "output_type": "stream",
     "text": [
      "Reading from file...\n",
      "Creating representation...\n",
      "Using  137654  training data points\n",
      "Using  27680  testing data points\n",
      "Done, It took: 8.33401703835 s\n"
     ]
    }
   ],
   "source": [
    "X_train,y_train,y_train_c,X_test,y_test,y_test_c,=load_data(\n",
    "    hla_representation='one-hot',\n",
    "    species_representation='one-hot',\n",
    "    seq_representation='one-hot')"
   ]
  },
  {
   "cell_type": "markdown",
   "metadata": {},
   "source": [
    "----\n",
    "\n",
    "\n",
    "### Cross Validate on training data\n"
   ]
  },
  {
   "cell_type": "code",
   "execution_count": 4,
   "metadata": {
    "collapsed": false
   },
   "outputs": [
    {
     "name": "stderr",
     "output_type": "stream",
     "text": [
      "Will train until eval error hasn't decreased in 200 rounds.\n",
      "[0]\ttrain-auc:0.840393\teval-auc:0.815768\n",
      "[500]\ttrain-auc:0.991135\teval-auc:0.927160\n",
      "[1000]\ttrain-auc:0.997097\teval-auc:0.928704\n",
      "Stopping. Best iteration:\n",
      "[1150]\ttrain-auc:0.997864\teval-auc:0.928957\n",
      "\n",
      "Will train until eval error hasn't decreased in 200 rounds.\n",
      "[0]\ttrain-auc:0.830116\teval-auc:0.813824\n",
      "[500]\ttrain-auc:0.990892\teval-auc:0.939302\n",
      "[1000]\ttrain-auc:0.997058\teval-auc:0.940321\n",
      "Stopping. Best iteration:\n",
      "[965]\ttrain-auc:0.996851\teval-auc:0.940409\n",
      "\n",
      "Will train until eval error hasn't decreased in 200 rounds.\n",
      "[0]\ttrain-auc:0.829768\teval-auc:0.804139\n",
      "[500]\ttrain-auc:0.990826\teval-auc:0.928325\n",
      "[1000]\ttrain-auc:0.997094\teval-auc:0.930252\n",
      "Stopping. Best iteration:\n",
      "[1034]\ttrain-auc:0.997297\teval-auc:0.930331\n",
      "\n",
      "Will train until eval error hasn't decreased in 200 rounds.\n",
      "[0]\ttrain-auc:0.833450\teval-auc:0.810133\n",
      "[500]\ttrain-auc:0.990867\teval-auc:0.930308\n",
      "[1000]\ttrain-auc:0.997040\teval-auc:0.932515\n",
      "Stopping. Best iteration:\n",
      "[1224]\ttrain-auc:0.998102\teval-auc:0.932610\n",
      "\n",
      "Will train until eval error hasn't decreased in 200 rounds.\n",
      "[0]\ttrain-auc:0.818281\teval-auc:0.801440\n",
      "[500]\ttrain-auc:0.990622\teval-auc:0.939264\n",
      "[1000]\ttrain-auc:0.996905\teval-auc:0.940229\n",
      "Stopping. Best iteration:\n",
      "[1122]\ttrain-auc:0.997554\teval-auc:0.940376\n",
      "\n"
     ]
    }
   ],
   "source": [
    "#model params\n",
    "params = {'max_depth':20,\n",
    "         'eta':0.1,\n",
    "         'min_child_weight':5,\n",
    "         'colsample_bytree':1,\n",
    "         'subsample':1,\n",
    "         'silent':1,\n",
    "         'objective': \"binary:logistic\",\n",
    "         'eval_metric': 'auc',\n",
    "         'nthread':8}\n",
    "\n",
    "y_pred=my_xgb_cv_predict(params,X_train,y_train_c,n_folds=5)"
   ]
  },
  {
   "cell_type": "markdown",
   "metadata": {},
   "source": [
    "----\n",
    "### Evaluate\n"
   ]
  },
  {
   "cell_type": "code",
   "execution_count": 5,
   "metadata": {
    "collapsed": false
   },
   "outputs": [
    {
     "name": "stdout",
     "output_type": "stream",
     "text": [
      "AUC: 0.931961595053\n"
     ]
    },
    {
     "data": {
      "image/png": "[encoded data removed]",
      "text/plain": [
       "<matplotlib.figure.Figure at 0x7fa1b2db0bd0>"
      ]
     },
     "metadata": {},
     "output_type": "display_data"
    }
   ],
   "source": [
    "plot_roc(y_train_c,y_pred)"
   ]
  },
  {
   "cell_type": "markdown",
   "metadata": {},
   "source": [
    "----\n",
    "### Predict blind data"
   ]
  },
  {
   "cell_type": "code",
   "execution_count": 7,
   "metadata": {
    "collapsed": false
   },
   "outputs": [
    {
     "name": "stderr",
     "output_type": "stream",
     "text": [
      "Will train until eval error hasn't decreased in 200 rounds.\n",
      "[0]\ttrain-auc:0.837405\teval-auc:0.818899\n",
      "[500]\ttrain-auc:0.989835\teval-auc:0.936481\n",
      "[1000]\ttrain-auc:0.996160\teval-auc:0.937789\n",
      "Stopping. Best iteration:\n",
      "[812]\ttrain-auc:0.994606\teval-auc:0.937893\n",
      "\n"
     ]
    }
   ],
   "source": [
    "y_test_pred=my_xgb_fit_predict(params,X_train,y_train_c,X_test,\n",
    "                       num_boost_round=5000,verbose_eval=500,\n",
    "                       early_stopping_rounds=200,\n",
    "                       validation_size=0.1)"
   ]
  },
  {
   "cell_type": "code",
   "execution_count": 8,
   "metadata": {
    "collapsed": false
   },
   "outputs": [
    {
     "name": "stdout",
     "output_type": "stream",
     "text": [
      "AUC: 0.909114445544\n"
     ]
    },
    {
     "data": {
      "image/png": "[encoded data removed]",
      "text/plain": [
       "<matplotlib.figure.Figure at 0x7fa1ed837650>"
      ]
     },
     "metadata": {},
     "output_type": "display_data"
    }
   ],
   "source": [
    "plot_roc(y_test_c,y_test_pred)"
   ]
  },
  {
   "cell_type": "markdown",
   "metadata": {},
   "source": [
    "---\n",
    "\n",
    "## Conclusion: passed 'state of the art'\n",
    "\n",
    "Method | CV | Blind test\n",
    "--- | --- | ---\n",
    "SMMPMBEC | 0.8989 | 0.8474\n",
    "NetMHC | 0.8930 | 0.8833\n",
    "NetMHCpan |0.9176 | 0.8830\n",
    "xgboost |**0.9320** | **0.9092**\n",
    "\n",
    "\n",
    "---\n"
   ]
  }
 ],
 "metadata": {
  "kernelspec": {
   "display_name": "Python 2",
   "language": "python",
   "name": "python2"
  },
  "language_info": {
   "codemirror_mode": {
    "name": "ipython",
    "version": 2
   },
   "file_extension": ".py",
   "mimetype": "text/x-python",
   "name": "python",
   "nbconvert_exporter": "python",
   "pygments_lexer": "ipython2",
   "version": "2.7.11"
  }
 },
 "nbformat": 4,
 "nbformat_minor": 0
}

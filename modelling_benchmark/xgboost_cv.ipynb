{
 "cells": [
  {
   "cell_type": "code",
   "execution_count": 5,
   "metadata": {
    "collapsed": false
   },
   "outputs": [],
   "source": [
    "import os\n",
    "import time\n",
    "\n",
    "import matplotlib\n",
    "import matplotlib.pyplot as plt\n",
    "import seaborn as sns\n",
    "%matplotlib inline\n",
    "\n",
    "import numpy as np\n",
    "import pandas as pd\n",
    "\n",
    "#my functions\n",
    "from utils import load_data,my_xgb_cv_predict,plot_roc,my_xgb_fit_predict\n",
    "\n",
    "#go to working directory\n",
    "work_dir='/mnt/Data1/ribli/mhc/'\n",
    "os.chdir(work_dir)"
   ]
  },
  {
   "cell_type": "markdown",
   "metadata": {},
   "source": [
    "### Load train and test data"
   ]
  },
  {
   "cell_type": "code",
   "execution_count": 6,
   "metadata": {
    "collapsed": false
   },
   "outputs": [
    {
     "name": "stdout",
     "output_type": "stream",
     "text": [
      "Reading from file...\n",
      "Creating representation...\n",
      "Using  137654  training data points\n",
      "Using  27680  testing data points\n",
      "Done, It took: 3.45406913757 s\n"
     ]
    }
   ],
   "source": [
    "X_train,y_train,X_test,y_test=load_data(hla_representation='simple',\n",
    "                                        species_representation='simple',\n",
    "                                        seq_representation='simple')"
   ]
  },
  {
   "cell_type": "markdown",
   "metadata": {},
   "source": [
    "----\n",
    "\n",
    "\n",
    "### Cross Validate on training data\n"
   ]
  },
  {
   "cell_type": "code",
   "execution_count": 3,
   "metadata": {
    "collapsed": false
   },
   "outputs": [
    {
     "name": "stderr",
     "output_type": "stream",
     "text": [
      "Will train until eval error hasn't decreased in 200 rounds.\n",
      "[0]\ttrain-auc:0.786508\teval-auc:0.762631\n",
      "[500]\ttrain-auc:0.976025\teval-auc:0.915916\n",
      "[1000]\ttrain-auc:0.990329\teval-auc:0.920223\n",
      "[1500]\ttrain-auc:0.995378\teval-auc:0.921641\n",
      "[2000]\ttrain-auc:0.997533\teval-auc:0.921870\n",
      "Stopping. Best iteration:\n",
      "[2162]\ttrain-auc:0.998022\teval-auc:0.922157\n",
      "\n",
      "Will train until eval error hasn't decreased in 200 rounds.\n",
      "[0]\ttrain-auc:0.782607\teval-auc:0.768323\n",
      "[500]\ttrain-auc:0.976429\teval-auc:0.918104\n",
      "[1000]\ttrain-auc:0.990616\teval-auc:0.923682\n",
      "[1500]\ttrain-auc:0.995466\teval-auc:0.924349\n",
      "[2000]\ttrain-auc:0.997801\teval-auc:0.924478\n",
      "Stopping. Best iteration:\n",
      "[1817]\ttrain-auc:0.997171\teval-auc:0.924716\n",
      "\n",
      "Will train until eval error hasn't decreased in 200 rounds.\n",
      "[0]\ttrain-auc:0.793649\teval-auc:0.775350\n",
      "[500]\ttrain-auc:0.976642\teval-auc:0.913395\n",
      "[1000]\ttrain-auc:0.990278\teval-auc:0.918657\n",
      "[1500]\ttrain-auc:0.995085\teval-auc:0.919809\n",
      "[2000]\ttrain-auc:0.997506\teval-auc:0.920345\n",
      "Stopping. Best iteration:\n",
      "[2083]\ttrain-auc:0.997738\teval-auc:0.920450\n",
      "\n",
      "Will train until eval error hasn't decreased in 200 rounds.\n",
      "[0]\ttrain-auc:0.785165\teval-auc:0.759107\n",
      "[500]\ttrain-auc:0.975382\teval-auc:0.915143\n",
      "[1000]\ttrain-auc:0.990498\teval-auc:0.921596\n",
      "[1500]\ttrain-auc:0.995527\teval-auc:0.922687\n",
      "[2000]\ttrain-auc:0.997793\teval-auc:0.923288\n",
      "Stopping. Best iteration:\n",
      "[1953]\ttrain-auc:0.997682\teval-auc:0.923374\n",
      "\n",
      "Will train until eval error hasn't decreased in 200 rounds.\n",
      "[0]\ttrain-auc:0.783995\teval-auc:0.781625\n",
      "[500]\ttrain-auc:0.977012\teval-auc:0.921762\n",
      "[1000]\ttrain-auc:0.990273\teval-auc:0.925201\n",
      "[1500]\ttrain-auc:0.995466\teval-auc:0.925892\n",
      "Stopping. Best iteration:\n",
      "[1476]\ttrain-auc:0.995312\teval-auc:0.926023\n",
      "\n"
     ]
    }
   ],
   "source": [
    "#model params\n",
    "params = {'max_depth':9,\n",
    "         'eta':0.05,\n",
    "         'min_child_weight':5,\n",
    "         'colsample_bytree':1,\n",
    "         'subsample':1,\n",
    "         'silent':1,\n",
    "         'objective': \"binary:logistic\",\n",
    "         'eval_metric': 'auc',\n",
    "         'nthread':8}\n",
    "\n",
    "y_pred=my_xgb_cv_predict(params,X_train,y_train,n_folds=5)"
   ]
  },
  {
   "cell_type": "markdown",
   "metadata": {},
   "source": [
    "----\n",
    "### Evaluate\n"
   ]
  },
  {
   "cell_type": "code",
   "execution_count": 5,
   "metadata": {
    "collapsed": false
   },
   "outputs": [
    {
     "name": "stdout",
     "output_type": "stream",
     "text": [
      "AUC: 0.921286595179\n"
     ]
    },
    {
     "data": {
      "image/png": "[encoded data removed]",
      "text/plain": [
       "<matplotlib.figure.Figure at 0x7f73d1c1a390>"
      ]
     },
     "metadata": {},
     "output_type": "display_data"
    }
   ],
   "source": [
    "plot_roc(y_train,y_pred)"
   ]
  },
  {
   "cell_type": "markdown",
   "metadata": {},
   "source": [
    "----\n",
    "### Predict blind data"
   ]
  },
  {
   "cell_type": "code",
   "execution_count": 7,
   "metadata": {
    "collapsed": false
   },
   "outputs": [
    {
     "name": "stderr",
     "output_type": "stream",
     "text": [
      "Will train until eval error hasn't decreased in 200 rounds.\n",
      "[0]\ttrain-auc:0.780738\teval-auc:0.771840\n",
      "[500]\ttrain-auc:0.973893\teval-auc:0.925581\n",
      "[1000]\ttrain-auc:0.988387\teval-auc:0.930703\n",
      "[1500]\ttrain-auc:0.994042\teval-auc:0.932232\n",
      "Stopping. Best iteration:\n",
      "[1555]\ttrain-auc:0.994434\teval-auc:0.932490\n",
      "\n"
     ]
    }
   ],
   "source": [
    "y_test_pred=my_xgb_fit_predict(params,X_train,y_train,X_test,\n",
    "                       num_boost_round=5000,verbose_eval=500,\n",
    "                       early_stopping_rounds=200,\n",
    "                       validation_size=0.1)"
   ]
  },
  {
   "cell_type": "code",
   "execution_count": 20,
   "metadata": {
    "collapsed": false
   },
   "outputs": [
    {
     "name": "stdout",
     "output_type": "stream",
     "text": [
      "AUC: 0.904238301146\n"
     ]
    },
    {
     "data": {
      "image/png": "[encoded data removed]",
      "text/plain": [
       "<matplotlib.figure.Figure at 0x7f73d1dcb950>"
      ]
     },
     "metadata": {},
     "output_type": "display_data"
    }
   ],
   "source": [
    "plot_roc(y_test,y_test_pred)"
   ]
  },
  {
   "cell_type": "markdown",
   "metadata": {},
   "source": [
    "---\n",
    "\n",
    "### Conclusion: passed 'state of the art'\n",
    "\n",
    "Method | CV | Blind test\n",
    "--- | --- | ---\n",
    "SMMPMBEC | 0.8989 | 0.8474\n",
    "NetMHC | 0.8930 | 0.8833\n",
    "NetMHCpan |0.9176 | 0.8830\n",
    "xgboost |**0.9212** | **0.9042**\n",
    "\n",
    "\n",
    "---\n"
   ]
  }
 ],
 "metadata": {
  "kernelspec": {
   "display_name": "Python 2",
   "language": "python",
   "name": "python2"
  },
  "language_info": {
   "codemirror_mode": {
    "name": "ipython",
    "version": 2
   },
   "file_extension": ".py",
   "mimetype": "text/x-python",
   "name": "python",
   "nbconvert_exporter": "python",
   "pygments_lexer": "ipython2",
   "version": "2.7.11"
  }
 },
 "nbformat": 4,
 "nbformat_minor": 0
}
